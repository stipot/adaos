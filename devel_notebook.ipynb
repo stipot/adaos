{
 "cells": [
  {
   "cell_type": "code",
   "execution_count": 10,
   "id": "07920cc7",
   "metadata": {},
   "outputs": [
    {
     "name": "stdout",
     "output_type": "stream",
     "text": [
      "Status: 200\n",
      "Response: {'ok': True, 'result': {'ok': True, 'city': 'Berlin', 'temp': 26.95, 'description': 'clear sky'}}\n"
     ]
    }
   ],
   "source": [
    "import requests\n",
    "\n",
    "url = \"http://127.0.0.1:8777/api/tools/call\"\n",
    "headers = {\"Content-Type\": \"application/json\", \"X-AdaOS-Token\": \"dev-local-token\"}  # подставь актуальный токен\n",
    "payload = {\"tool\": \"weather_skill:get_weather\", \"arguments\": {\"city\": \"Berlin\"}}\n",
    "\n",
    "response = requests.post(url, json=payload, headers=headers)\n",
    "\n",
    "print(\"Status:\", response.status_code)\n",
    "try:\n",
    "    print(\"Response:\", response.json())\n",
    "except ValueError:\n",
    "    print(\"Raw Response:\", response.text)"
   ]
  },
  {
   "cell_type": "code",
   "execution_count": 9,
   "id": "ce67eb4e",
   "metadata": {},
   "outputs": [
    {
     "name": "stdout",
     "output_type": "stream",
     "text": [
      "Berlin\n"
     ]
    }
   ],
   "source": [
    "from adaos.sdk.subnet import subnet_set, subnet_get\n",
    "\n",
    "subnet_set(\"home.city\", \"Berlin\")\n",
    "print(subnet_get(\"home.city\"))"
   ]
  },
  {
   "cell_type": "code",
   "execution_count": 8,
   "id": "423129ad",
   "metadata": {},
   "outputs": [
    {
     "name": "stdout",
     "output_type": "stream",
     "text": [
      "HTTP/1.1 200 OK\n",
      "date: Tue, 19 Aug 2025 15:16:41 GMT\n",
      "server: uvicorn\n",
      "content-length: 11\n",
      "content-type: application/json\n",
      "\n",
      "{\"ok\":true}\n"
     ]
    },
    {
     "name": "stderr",
     "output_type": "stream",
     "text": [
      "  % Total    % Received % Xferd  Average Speed   Time    Time     Time  Current\n",
      "                                 Dload  Upload   Total   Spent    Left  Speed\n",
      "\n",
      "  0     0    0     0    0     0      0      0 --:--:-- --:--:-- --:--:--     0\n",
      "100    11  100    11    0     0    667      0 --:--:-- --:--:-- --:--:--   687\n"
     ]
    }
   ],
   "source": [
    "!curl -i http://127.0.0.1:8777/health/live"
   ]
  }
 ],
 "metadata": {
  "kernelspec": {
   "display_name": ".venv",
   "language": "python",
   "name": "python3"
  },
  "language_info": {
   "codemirror_mode": {
    "name": "ipython",
    "version": 3
   },
   "file_extension": ".py",
   "mimetype": "text/x-python",
   "name": "python",
   "nbconvert_exporter": "python",
   "pygments_lexer": "ipython3",
   "version": "3.12.0"
  }
 },
 "nbformat": 4,
 "nbformat_minor": 5
}
