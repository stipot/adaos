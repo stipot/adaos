{
 "cells": [
  {
   "cell_type": "code",
   "execution_count": 10,
   "id": "07920cc7",
   "metadata": {},
   "outputs": [
    {
     "name": "stdout",
     "output_type": "stream",
     "text": [
      "Status: 200\n",
      "Response: {'ok': True, 'result': {'ok': True, 'city': 'Berlin', 'temp': 26.95, 'description': 'clear sky'}}\n"
     ]
    }
   ],
   "source": [
    "import requests\n",
    "\n",
    "url = \"http://127.0.0.1:8777/api/tools/call\"\n",
    "headers = {\"Content-Type\": \"application/json\", \"X-AdaOS-Token\": \"dev-local-token\"}  # подставь актуальный токен\n",
    "payload = {\"tool\": \"weather_skill:get_weather\", \"arguments\": {\"city\": \"Berlin\"}}\n",
    "\n",
    "response = requests.post(url, json=payload, headers=headers)\n",
    "\n",
    "print(\"Status:\", response.status_code)\n",
    "try:\n",
    "    print(\"Response:\", response.json())\n",
    "except ValueError:\n",
    "    print(\"Raw Response:\", response.text)"
   ]
  },
  {
   "cell_type": "code",
   "execution_count": 19,
   "id": "ce67eb4e",
   "metadata": {},
   "outputs": [
    {
     "name": "stdout",
     "output_type": "stream",
     "text": [
      "Berlin\n"
     ]
    }
   ],
   "source": [
    "from adaos.sdk.subnet import subnet_set, subnet_get\n",
    "\n",
    "subnet_set(\"home.city\", \"Berlin\")\n",
    "print(subnet_get(\"home.city\"))"
   ]
  },
  {
   "cell_type": "code",
   "execution_count": 47,
   "id": "423129ad",
   "metadata": {},
   "outputs": [
    {
     "name": "stdout",
     "output_type": "stream",
     "text": [
      "HTTP/1.1 200 OK\n",
      "date: Wed, 20 Aug 2025 11:21:36 GMT\n",
      "server: uvicorn\n",
      "content-length: 11\n",
      "content-type: application/json\n",
      "\n",
      "{\"ok\":true}\n"
     ]
    },
    {
     "name": "stderr",
     "output_type": "stream",
     "text": [
      "  % Total    % Received % Xferd  Average Speed   Time    Time     Time  Current\n",
      "                                 Dload  Upload   Total   Spent    Left  Speed\n",
      "\n",
      "  0     0    0     0    0     0      0      0 --:--:-- --:--:-- --:--:--     0\n",
      "100    11  100    11    0     0   3955      0 --:--:-- --:--:-- --:--:--  5500\n"
     ]
    }
   ],
   "source": [
    "!curl -i http://127.0.0.1:8777/health/live"
   ]
  },
  {
   "cell_type": "code",
   "execution_count": 72,
   "id": "06cea149",
   "metadata": {},
   "outputs": [
    {
     "name": "stdout",
     "output_type": "stream",
     "text": [
      "{\"ok\":true,\"nodes\":[{\"node_id\":\"fe3d776d-dfcf-4eb4-9b2c-7a218f457c07\",\"last_seen\":1755697761.4003193,\"status\":\"up\",\"meta\":{\"hostname\":\"INIMATIC\",\"roles\":[\"member\"]}}]}\n"
     ]
    },
    {
     "name": "stderr",
     "output_type": "stream",
     "text": [
      "  % Total    % Received % Xferd  Average Speed   Time    Time     Time  Current\n",
      "                                 Dload  Upload   Total   Spent    Left  Speed\n",
      "\n",
      "  0     0    0     0    0     0      0      0 --:--:-- --:--:-- --:--:--     0\n",
      "100   167  100   167    0     0  26918      0 --:--:-- --:--:-- --:--:-- 27833\n"
     ]
    }
   ],
   "source": [
    "!curl -H \"X-AdaOS-Token: dev-local-token\" http://127.0.0.1:8777/api/subnet/nodes\n"
   ]
  },
  {
   "cell_type": "code",
   "execution_count": 71,
   "id": "1cba73df",
   "metadata": {},
   "outputs": [
    {
     "name": "stdout",
     "output_type": "stream",
     "text": [
      "{'node_id': 'fe3d776d-dfcf-4eb4-9b2c-7a218f457c07', 'subnet_id': 'eb20131a-a2d6-48bb-b0ba-82add9bdd294', 'role': 'member', 'hub_url': 'http://127.0.0.1:8777', 'ready': True}\n"
     ]
    }
   ],
   "source": [
    "print(requests.get(\"http://127.0.0.1:8778/api/node/status\", headers=headers).json())"
   ]
  },
  {
   "cell_type": "code",
   "execution_count": 70,
   "id": "d40f9814",
   "metadata": {},
   "outputs": [
    {
     "name": "stdout",
     "output_type": "stream",
     "text": [
      "{'node_id': 'fe3d776d-dfcf-4eb4-9b2c-7a218f457c07', 'subnet_id': 'b2fa958d-6d58-4213-8f55-d2b5031c8475', 'role': 'hub', 'hub_url': None, 'ready': True}\n",
      "{'ok': True, 'node': {'node_id': 'fe3d776d-dfcf-4eb4-9b2c-7a218f457c07', 'subnet_id': 'eb20131a-a2d6-48bb-b0ba-82add9bdd294', 'role': 'member', 'hub_url': 'http://127.0.0.1:8777', 'ready': True}, 'diagnostics': {'requested_role': 'member', 'hub_url': 'http://127.0.0.1:8777', 'subnet_id_used': 'eb20131a-a2d6-48bb-b0ba-82add9bdd294', 'now_ready': True}}\n",
      "{'node_id': 'fe3d776d-dfcf-4eb4-9b2c-7a218f457c07', 'subnet_id': 'eb20131a-a2d6-48bb-b0ba-82add9bdd294', 'role': 'member', 'hub_url': 'http://127.0.0.1:8777', 'ready': True}\n"
     ]
    }
   ],
   "source": [
    "import requests\n",
    "\n",
    "headers = {\"X-AdaOS-Token\": \"dev-local-token\"}\n",
    "\n",
    "# 1) проверить статус\n",
    "print(requests.get(\"http://127.0.0.1:8778/api/node/status\", headers=headers).json())\n",
    "\n",
    "# 2) сменить роль на member или hub (и задать hub_url)\n",
    "payload = {\"role\": \"member\", \"hub_url\": \"http://127.0.0.1:8777\"}\n",
    "print(requests.post(\"http://127.0.0.1:8778/api/node/role\", json=payload, headers=headers).json())\n",
    "\n",
    "# 3) снова статус — должен быть role=member, ready=true\n",
    "print(requests.get(\"http://127.0.0.1:8778/api/node/status\", headers=headers).json())"
   ]
  },
  {
   "cell_type": "code",
   "execution_count": 65,
   "id": "d79f8eb9",
   "metadata": {},
   "outputs": [
    {
     "name": "stdout",
     "output_type": "stream",
     "text": [
      "eb20131a-a2d6-48bb-b0ba-82add9bdd294\n"
     ]
    }
   ],
   "source": [
    "import requests\n",
    "\n",
    "headers = {\"X-AdaOS-Token\": \"dev-local-token\"}\n",
    "hub_status = requests.get(\"http://127.0.0.1:8777/api/node/status\", headers=headers).json()\n",
    "print(hub_status[\"subnet_id\"])"
   ]
  },
  {
   "cell_type": "code",
   "execution_count": null,
   "id": "26faf401",
   "metadata": {},
   "outputs": [
    {
     "name": "stdout",
     "output_type": "stream",
     "text": [
      "{'ok': True, 'node': {'node_id': 'fe3d776d-dfcf-4eb4-9b2c-7a218f457c07', 'subnet_id': 'eb20131a-a2d6-48bb-b0ba-82add9bdd294', 'role': 'member', 'hub_url': 'http://127.0.0.1:8777', 'ready': True}}\n"
     ]
    }
   ],
   "source": [
    "payload = {\"role\": \"hub\", \"hub_url\": \"http://127.0.0.1:8777\", \"subnet_id\": hub_status[\"subnet_id\"]}\n",
    "print(requests.post(\"http://127.0.0.1:8778/api/node/role\", json=payload, headers=headers).json())"
   ]
  },
  {
   "cell_type": "code",
   "execution_count": 66,
   "id": "61f54c8b",
   "metadata": {},
   "outputs": [
    {
     "name": "stdout",
     "output_type": "stream",
     "text": [
      "{\"ok\":true,\"nodes\":[{\"node_id\":\"fe3d776d-dfcf-4eb4-9b2c-7a218f457c07\",\"last_seen\":1755697661.3832028,\"status\":\"up\",\"meta\":{\"hostname\":\"INIMATIC\",\"roles\":[\"member\"]}}]}\n"
     ]
    },
    {
     "name": "stderr",
     "output_type": "stream",
     "text": [
      "  % Total    % Received % Xferd  Average Speed   Time    Time     Time  Current\n",
      "                                 Dload  Upload   Total   Spent    Left  Speed\n",
      "\n",
      "  0     0    0     0    0     0      0      0 --:--:-- --:--:-- --:--:--     0\n",
      "100   167  100   167    0     0  32642      0 --:--:-- --:--:-- --:--:-- 33400\n"
     ]
    }
   ],
   "source": [
    "!curl -H \"X-AdaOS-Token: dev-local-token\" http://127.0.0.1:8777/api/subnet/nodes\n"
   ]
  }
 ],
 "metadata": {
  "kernelspec": {
   "display_name": ".venv",
   "language": "python",
   "name": "python3"
  },
  "language_info": {
   "codemirror_mode": {
    "name": "ipython",
    "version": 3
   },
   "file_extension": ".py",
   "mimetype": "text/x-python",
   "name": "python",
   "nbconvert_exporter": "python",
   "pygments_lexer": "ipython3",
   "version": "3.12.0"
  }
 },
 "nbformat": 4,
 "nbformat_minor": 5
}
