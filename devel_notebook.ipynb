{
 "cells": [
  {
   "cell_type": "code",
   "execution_count": 77,
   "id": "07920cc7",
   "metadata": {},
   "outputs": [
    {
     "name": "stdout",
     "output_type": "stream",
     "text": [
      "Status: 200\n",
      "Response: {'ok': True, 'result': {'ok': True, 'city': 'Berlin', 'temp': 24.2, 'description': 'few clouds'}, 'trace_id': '296b5b53-8ac5-4d40-a7af-f3d7000a8763'}\n"
     ]
    }
   ],
   "source": [
    "import requests\n",
    "\n",
    "url = \"http://127.0.0.1:8777/api/tools/call\"\n",
    "headers = {\"Content-Type\": \"application/json\", \"X-AdaOS-Token\": \"dev-local-token\"}  # подставь актуальный токен\n",
    "payload = {\"tool\": \"weather_skill:get_weather\", \"arguments\": {\"city\": \"Berlin\"}}\n",
    "\n",
    "response = requests.post(url, json=payload, headers=headers)\n",
    "\n",
    "print(\"Status:\", response.status_code)\n",
    "try:\n",
    "    print(\"Response:\", response.json())\n",
    "except ValueError:\n",
    "    print(\"Raw Response:\", response.text)"
   ]
  },
  {
   "cell_type": "code",
   "execution_count": 19,
   "id": "ce67eb4e",
   "metadata": {},
   "outputs": [
    {
     "name": "stdout",
     "output_type": "stream",
     "text": [
      "Berlin\n"
     ]
    }
   ],
   "source": [
    "from adaos.sdk.subnet import subnet_set, subnet_get\n",
    "\n",
    "subnet_set(\"home.city\", \"Berlin\")\n",
    "print(subnet_get(\"home.city\"))"
   ]
  },
  {
   "cell_type": "code",
   "execution_count": 47,
   "id": "423129ad",
   "metadata": {},
   "outputs": [
    {
     "name": "stdout",
     "output_type": "stream",
     "text": [
      "HTTP/1.1 200 OK\n",
      "date: Wed, 20 Aug 2025 11:21:36 GMT\n",
      "server: uvicorn\n",
      "content-length: 11\n",
      "content-type: application/json\n",
      "\n",
      "{\"ok\":true}\n"
     ]
    },
    {
     "name": "stderr",
     "output_type": "stream",
     "text": [
      "  % Total    % Received % Xferd  Average Speed   Time    Time     Time  Current\n",
      "                                 Dload  Upload   Total   Spent    Left  Speed\n",
      "\n",
      "  0     0    0     0    0     0      0      0 --:--:-- --:--:-- --:--:--     0\n",
      "100    11  100    11    0     0   3955      0 --:--:-- --:--:-- --:--:--  5500\n"
     ]
    }
   ],
   "source": [
    "!curl -i http://127.0.0.1:8777/health/live"
   ]
  },
  {
   "cell_type": "code",
   "execution_count": 7,
   "id": "06cea149",
   "metadata": {},
   "outputs": [
    {
     "name": "stdout",
     "output_type": "stream",
     "text": [
      "{\"ok\":true,\"nodes\":[{\"node_id\":\"fe3d776d-dfcf-4eb4-9b2c-7a218f457c07\",\"last_seen\":1756823492.1923327,\"status\":\"up\",\"meta\":{\"hostname\":\"INIMATIC\",\"roles\":[\"member\"]}}]}\n"
     ]
    },
    {
     "name": "stderr",
     "output_type": "stream",
     "text": [
      "  % Total    % Received % Xferd  Average Speed   Time    Time     Time  Current\n",
      "                                 Dload  Upload   Total   Spent    Left  Speed\n",
      "\n",
      "  0     0    0     0    0     0      0      0 --:--:-- --:--:-- --:--:--     0\n",
      "100   167  100   167    0     0  34676      0 --:--:-- --:--:-- --:--:-- 41750\n"
     ]
    }
   ],
   "source": [
    "!curl -H \"X-AdaOS-Token: dev-local-token\" http://127.0.0.1:8777/api/subnet/nodes\n"
   ]
  },
  {
   "cell_type": "code",
   "execution_count": 8,
   "id": "1cba73df",
   "metadata": {},
   "outputs": [
    {
     "name": "stdout",
     "output_type": "stream",
     "text": [
      "{'node_id': 'e7f6d431-9a32-4474-89f1-da6aac89ed9b', 'subnet_id': 'eb20131a-a2d6-48bb-b0ba-82add9bdd294', 'role': 'hub', 'hub_url': 'http://127.0.0.1:8777', 'ready': True}\n"
     ]
    }
   ],
   "source": [
    "print(requests.get(\"http://127.0.0.1:8777/api/node/status\", headers=headers).json())"
   ]
  },
  {
   "cell_type": "code",
   "execution_count": 6,
   "id": "d40f9814",
   "metadata": {},
   "outputs": [
    {
     "name": "stdout",
     "output_type": "stream",
     "text": [
      "{'node_id': 'fe3d776d-dfcf-4eb4-9b2c-7a218f457c07', 'subnet_id': 'eb20131a-a2d6-48bb-b0ba-82add9bdd294', 'role': 'member', 'hub_url': 'http://127.0.0.1:8777', 'ready': True}\n",
      "{'ok': True, 'node': {'node_id': 'fe3d776d-dfcf-4eb4-9b2c-7a218f457c07', 'subnet_id': 'eb20131a-a2d6-48bb-b0ba-82add9bdd294', 'role': 'member', 'hub_url': 'http://127.0.0.1:8777', 'ready': True}, 'diagnostics': {'requested_role': 'member', 'hub_url': 'http://127.0.0.1:8777', 'subnet_id_used': 'eb20131a-a2d6-48bb-b0ba-82add9bdd294', 'now_ready': True}}\n",
      "{'node_id': 'fe3d776d-dfcf-4eb4-9b2c-7a218f457c07', 'subnet_id': 'eb20131a-a2d6-48bb-b0ba-82add9bdd294', 'role': 'member', 'hub_url': 'http://127.0.0.1:8777', 'ready': True}\n"
     ]
    }
   ],
   "source": [
    "import requests\n",
    "\n",
    "headers = {\"X-AdaOS-Token\": \"dev-local-token\"}\n",
    "\n",
    "# 1) проверить статус\n",
    "print(requests.get(\"http://127.0.0.1:8778/api/node/status\", headers=headers).json())\n",
    "\n",
    "# 2) сменить роль на member или hub (и задать hub_url)\n",
    "payload = {\"role\": \"member\", \"hub_url\": \"http://127.0.0.1:8777\"}\n",
    "print(requests.post(\"http://127.0.0.1:8778/api/node/role\", json=payload, headers=headers).json())\n",
    "\n",
    "# 3) снова статус — должен быть role=member, ready=true\n",
    "print(requests.get(\"http://127.0.0.1:8778/api/node/status\", headers=headers).json())"
   ]
  },
  {
   "cell_type": "code",
   "execution_count": 65,
   "id": "d79f8eb9",
   "metadata": {},
   "outputs": [
    {
     "name": "stdout",
     "output_type": "stream",
     "text": [
      "eb20131a-a2d6-48bb-b0ba-82add9bdd294\n"
     ]
    }
   ],
   "source": [
    "import requests\n",
    "\n",
    "headers = {\"X-AdaOS-Token\": \"dev-local-token\"}\n",
    "hub_status = requests.get(\"http://127.0.0.1:8777/api/node/status\", headers=headers).json()\n",
    "print(hub_status[\"subnet_id\"])"
   ]
  },
  {
   "cell_type": "code",
   "execution_count": null,
   "id": "26faf401",
   "metadata": {},
   "outputs": [
    {
     "name": "stdout",
     "output_type": "stream",
     "text": [
      "{'ok': True, 'node': {'node_id': 'fe3d776d-dfcf-4eb4-9b2c-7a218f457c07', 'subnet_id': 'eb20131a-a2d6-48bb-b0ba-82add9bdd294', 'role': 'member', 'hub_url': 'http://127.0.0.1:8777', 'ready': True}}\n"
     ]
    }
   ],
   "source": [
    "payload = {\"role\": \"hub\", \"hub_url\": \"http://127.0.0.1:8777\", \"subnet_id\": hub_status[\"subnet_id\"]}\n",
    "print(requests.post(\"http://127.0.0.1:8778/api/node/role\", json=payload, headers=headers).json())"
   ]
  },
  {
   "cell_type": "code",
   "execution_count": 88,
   "id": "61f54c8b",
   "metadata": {},
   "outputs": [
    {
     "name": "stdout",
     "output_type": "stream",
     "text": [
      "{\"ok\":true,\"nodes\":[{\"node_id\":\"fe3d776d-dfcf-4eb4-9b2c-7a218f457c07\",\"last_seen\":1755760798.9320548,\"status\":\"up\",\"meta\":{\"hostname\":\"INIMATIC\",\"roles\":[\"member\"]}}]}\n"
     ]
    },
    {
     "name": "stderr",
     "output_type": "stream",
     "text": [
      "  % Total    % Received % Xferd  Average Speed   Time    Time     Time  Current\n",
      "                                 Dload  Upload   Total   Spent    Left  Speed\n",
      "\n",
      "  0     0    0     0    0     0      0      0 --:--:-- --:--:-- --:--:--     0\n",
      "100   167  100   167    0     0  41052      0 --:--:-- --:--:-- --:--:-- 41750\n"
     ]
    }
   ],
   "source": [
    "!curl -H \"X-AdaOS-Token: dev-local-token\" http://127.0.0.1:8777/api/subnet/nodes\n"
   ]
  },
  {
   "cell_type": "code",
   "execution_count": 87,
   "id": "b44bd576",
   "metadata": {},
   "outputs": [
    {
     "name": "stdout",
     "output_type": "stream",
     "text": [
      "\n",
      "==================== HEALTH (hub & member) ====================\n",
      "\n",
      "hub/live:\n",
      "{\n",
      "  \"ok\": true,\n",
      "  \"status\": 200,\n",
      "  \"url\": \"http://127.0.0.1:8777/health/live\",\n",
      "  \"data\": {\n",
      "    \"ok\": true\n",
      "  },\n",
      "  \"headers\": {\n",
      "    \"Connection\": \"close\",\n",
      "    \"Content-Length\": \"11\",\n",
      "    \"Content-Type\": \"application/json\",\n",
      "    \"Date\": \"Thu, 21 Aug 2025 06:28:45 GMT\",\n",
      "    \"Server\": \"uvicorn\"\n",
      "  }\n",
      "}\n",
      "\n",
      "hub/ready:\n",
      "{\n",
      "  \"ok\": true,\n",
      "  \"status\": 200,\n",
      "  \"url\": \"http://127.0.0.1:8777/health/ready\",\n",
      "  \"data\": {\n",
      "    \"ok\": true\n",
      "  },\n",
      "  \"headers\": {\n",
      "    \"Connection\": \"close\",\n",
      "    \"Content-Length\": \"11\",\n",
      "    \"Content-Type\": \"application/json\",\n",
      "    \"Date\": \"Thu, 21 Aug 2025 06:28:45 GMT\",\n",
      "    \"Server\": \"uvicorn\"\n",
      "  }\n",
      "}\n",
      "\n",
      "member/live:\n",
      "{\n",
      "  \"ok\": true,\n",
      "  \"status\": 200,\n",
      "  \"url\": \"http://127.0.0.1:8778/health/live\",\n",
      "  \"data\": {\n",
      "    \"ok\": true\n",
      "  },\n",
      "  \"headers\": {\n",
      "    \"Connection\": \"close\",\n",
      "    \"Content-Length\": \"11\",\n",
      "    \"Content-Type\": \"application/json\",\n",
      "    \"Date\": \"Thu, 21 Aug 2025 06:28:45 GMT\",\n",
      "    \"Server\": \"uvicorn\"\n",
      "  }\n",
      "}\n",
      "\n",
      "member/ready:\n",
      "{\n",
      "  \"ok\": true,\n",
      "  \"status\": 200,\n",
      "  \"url\": \"http://127.0.0.1:8778/health/ready\",\n",
      "  \"data\": {\n",
      "    \"ok\": true\n",
      "  },\n",
      "  \"headers\": {\n",
      "    \"Connection\": \"close\",\n",
      "    \"Content-Length\": \"11\",\n",
      "    \"Content-Type\": \"application/json\",\n",
      "    \"Date\": \"Thu, 21 Aug 2025 06:28:45 GMT\",\n",
      "    \"Server\": \"uvicorn\"\n",
      "  }\n",
      "}\n",
      "\n",
      "==================== NODE STATUS (hub & member) ====================\n",
      "\n",
      "hub status:\n",
      "{\n",
      "  \"ok\": true,\n",
      "  \"status\": 200,\n",
      "  \"url\": \"http://127.0.0.1:8777/api/node/status\",\n",
      "  \"data\": {\n",
      "    \"node_id\": \"e7f6d431-9a32-4474-89f1-da6aac89ed9b\",\n",
      "    \"subnet_id\": \"eb20131a-a2d6-48bb-b0ba-82add9bdd294\",\n",
      "    \"role\": \"hub\",\n",
      "    \"hub_url\": \"http://127.0.0.1:8777\",\n",
      "    \"ready\": true\n",
      "  },\n",
      "  \"headers\": {\n",
      "    \"Connection\": \"close\",\n",
      "    \"Content-Length\": \"161\",\n",
      "    \"Content-Type\": \"application/json\",\n",
      "    \"Date\": \"Thu, 21 Aug 2025 06:28:45 GMT\",\n",
      "    \"Server\": \"uvicorn\"\n",
      "  }\n",
      "}\n",
      "\n",
      "member status:\n",
      "{\n",
      "  \"ok\": true,\n",
      "  \"status\": 200,\n",
      "  \"url\": \"http://127.0.0.1:8778/api/node/status\",\n",
      "  \"data\": {\n",
      "    \"node_id\": \"fe3d776d-dfcf-4eb4-9b2c-7a218f457c07\",\n",
      "    \"subnet_id\": \"eb20131a-a2d6-48bb-b0ba-82add9bdd294\",\n",
      "    \"role\": \"member\",\n",
      "    \"hub_url\": \"http://127.0.0.1:8777\",\n",
      "    \"ready\": true\n",
      "  },\n",
      "  \"headers\": {\n",
      "    \"Connection\": \"close\",\n",
      "    \"Content-Length\": \"164\",\n",
      "    \"Content-Type\": \"application/json\",\n",
      "    \"Date\": \"Thu, 21 Aug 2025 06:28:46 GMT\",\n",
      "    \"Server\": \"uvicorn\"\n",
      "  }\n",
      "}\n",
      "\n",
      "==================== SUBNET /api/subnet/nodes ====================\n",
      "\n",
      "nodes:\n",
      "{\n",
      "  \"ok\": true,\n",
      "  \"status\": 200,\n",
      "  \"url\": \"http://127.0.0.1:8777/api/subnet/nodes\",\n",
      "  \"data\": {\n",
      "    \"ok\": true,\n",
      "    \"nodes\": [\n",
      "      {\n",
      "        \"node_id\": \"fe3d776d-dfcf-4eb4-9b2c-7a218f457c07\",\n",
      "        \"last_seen\": 1755757724.084709,\n",
      "        \"status\": \"up\",\n",
      "        \"meta\": {\n",
      "          \"hostname\": \"INIMATIC\",\n",
      "          \"roles\": [\n",
      "            \"member\"\n",
      "          ]\n",
      "        }\n",
      "      }\n",
      "    ]\n",
      "  },\n",
      "  \"headers\": {\n",
      "    \"Connection\": \"close\",\n",
      "    \"Content-Length\": \"166\",\n",
      "    \"Content-Type\": \"application/json\",\n",
      "    \"Date\": \"Thu, 21 Aug 2025 06:28:45 GMT\",\n",
      "    \"Server\": \"uvicorn\"\n",
      "  }\n",
      "}\n",
      "\n",
      "==================== TOOLS CALL → weather_skill:get_weather ====================\n",
      "\n",
      "tool call response:\n",
      "{\n",
      "  \"ok\": false,\n",
      "  \"status\": 503,\n",
      "  \"url\": \"http://127.0.0.1:8778/api/tools/call\",\n",
      "  \"data\": {\n",
      "    \"detail\": \"current skill is not set\"\n",
      "  },\n",
      "  \"headers\": {\n",
      "    \"Connection\": \"close\",\n",
      "    \"Content-Length\": \"37\",\n",
      "    \"Content-Type\": \"application/json\",\n",
      "    \"Date\": \"Thu, 21 Aug 2025 06:28:46 GMT\",\n",
      "    \"Server\": \"uvicorn\"\n",
      "  }\n",
      "}\n",
      "\n",
      "==================== OBSERVE TAIL last 120 lines (hub) ====================\n",
      "tail lines: 17\n",
      "{\"ts\": 1755757476.695284, \"topic\": \"sys.boot.start\", \"payload\": {\"role\": \"hub\", \"node_id\": \"e7f6d431-9a32-4474-89f1-da6aac89ed9b\", \"subnet_id\": \"eb20131a-a2d6-48bb-b0ba-82add9bdd294\"}, \"trace\": \"62996c8a-6ea9-49c7-9751-a0cee719168b\", \"source\": \"lifecycle\", \"actor\": \"system\", \"node_id\": \"e7f6d431-9a32-4474-89f1-da6aac89ed9b\", \"role\": \"hub\"}\n",
      "{\"ts\": 1755757476.7062845, \"topic\": \"sys.bus.ready\", \"payload\": {}, \"trace\": \"26cb9a81-bdde-47ac-8ba9-98a78d7ffb0c\", \"source\": \"lifecycle\", \"actor\": \"system\", \"node_id\": \"e7f6d431-9a32-4474-89f1-da6aac89ed9b\", \"role\": \"hub\"}\n",
      "{\"ts\": 1755757476.7072818, \"topic\": \"net.subnet.hub.ready\", \"payload\": {\"subnet_id\": \"eb20131a-a2d6-48bb-b0ba-82add9bdd294\"}, \"trace\": \"bfd98c6a-7dcf-49ab-8174-aa4831ff3e49\", \"source\": \"lifecycle\", \"actor\": \"system\", \"node_id\": \"e7f6d431-9a32-4474-89f1-da6aac89ed9b\", \"role\": \"hub\"}\n",
      "{\"ts\": 1755757476.7194684, \"topic\": \"sys.ready\", \"payload\": {\"ts\": 1755757476.7184672}, \"trace\": \"3a2e8094-01db-4bb8-9000-68e9dfa3411e\", \"source\": \"lifecycle\", \"actor\": \"system\", \"node_id\": \"e7f6d431-9a32-4474-89f1-da6aac89ed9b\", \"role\": \"hub\"}\n",
      "{\"ts\": 1755757472.6936681, \"topic\": \"sys.boot.start\", \"payload\": {\"role\": \"member\", \"node_id\": \"fe3d776d-dfcf-4eb4-9b2c-7a218f457c07\", \"subnet_id\": \"eb20131a-a2d6-48bb-b0ba-82add9bdd294\"}, \"trace\": \"e5a48057-1604-4782-ac9d-700b90edd9f6\", \"source\": \"lifecycle\", \"actor\": \"system\", \"node_id\": \"fe3d776d-dfcf-4eb4-9b2c-7a218f457c07\", \"role\": \"member\"}\n",
      "{\"ts\": 1755757472.6993408, \"topic\": \"sys.bus.ready\", \"payload\": {}, \"trace\": \"5e4ac479-9790-4bcc-94d4-f325bb687aa9\", \"source\": \"lifecycle\", \"actor\": \"system\", \"node_id\": \"fe3d776d-dfcf-4eb4-9b2c-7a218f457c07\", \"role\": \"member\"}\n",
      "{\"ts\": 1755757472.7057111, \"topic\": \"net.subnet.register.error\", \"payload\": {\"status\": 502, \"text\": \"\"}, \"trace\": \"d8f0b358-883c-4579-a798-9efd44f65069\", \"source\": \"lifecycle\", \"actor\": \"system\", \"node_id\": \"fe3d776d-dfcf-4eb4-9b2c-7a218f457c07\", \"role\": \"member\"}\n",
      "{\"ts\": 1755757510.1489084, \"topic\": \"net.subnet.node.up\", \"payload\": {\"node_id\": \"fe3d776d-dfcf-4eb4-9b2c-7a218f457c07\"}, \"trace\": \"fedb4e58-99eb-4e68-ae1d-11005d3e47fa\", \"source\": \"subnet_api\", \"actor\": \"system\", \"node_id\": \"e7f6d431-9a32-4474-89f1-da6aac89ed9b\", \"role\": \"hub\"}\n",
      "{\"ts\": 1755757510.134901, \"topic\": \"sys.boot.start\", \"payload\": {\"role\": \"member\", \"node_id\": \"fe3d776d-dfcf-4eb4-9b2c-7a218f457c07\", \"subnet_id\": \"eb20131a-a2d6-48bb-b0ba-82add9bdd294\"}, \"trace\": \"aa0076ef-3918-4677-a213-e6fbb92c6164\", \"source\": \"lifecycle\", \"actor\": \"system\", \"node_id\": \"fe3d776d-dfcf-4eb4-9b2c-7a218f457c07\", \"role\": \"member\"}\n",
      "{\"ts\": 1755757510.1399014, \"topic\": \"sys.bus.ready\", \"payload\": {}, \"trace\": \"504722b7-5af3-4761-96b6-e59b2e6232f2\", \"source\": \"lifecycle\", \"actor\": \"system\", \"node_id\": \"fe3d776d-dfcf-4eb4-9b2c-7a218f457c07\", \"role\": \"member\"}\n",
      "{\"ts\": 1755757510.1526058, \"topic\": \"net.subnet.registered\", \"payload\": {\"hub\": \"http://127.0.0.1:8777\"}, \"trace\": \"41385c41-3467-4f2c-b27d-70ae9ea500b6\", \"source\": \"lifecycle\", \"actor\": \"system\", \"node_id\": \"fe3d776d-dfcf-4eb4-9b2c-7a218f457c07\", \"role\": \"member\"}\n",
      "{\"ts\": 1755757510.1546106, \"topic\": \"sys.ready\", \"payload\": {\"ts\": 1755757510.1536458}, \"trace\": \"7dfd39ad-a524-4c5f-a75c-e6e33b49ceb8\", \"source\": \"lifecycle\", \"actor\": \"system\", \"node_id\": \"fe3d776d-dfcf-4eb4-9b2c-7a218f457c07\", \"role\": \"member\"}\n",
      "{\"ts\": 1755757573.4518156, \"topic\": \"sys.boot.start\", \"payload\": {\"role\": \"member\", \"node_id\": \"fe3d776d-dfcf-4eb4-9b2c-7a218f457c07\", \"subnet_id\": \"eb20131a-a2d6-48bb-b0ba-82add9bdd294\"}, \"trace\": \"3ac11000-f470-464a-9f4f-546009a95a94\", \"source\": \"lifecycle\", \"actor\": \"system\", \"node_id\": \"fe3d776d-dfcf-4eb4-9b2c-7a218f457c07\", \"role\": \"member\"}\n",
      "{\"ts\": 1755757573.4558482, \"topic\": \"sys.bus.ready\", \"payload\": {}, \"trace\": \"6a3d5efa-5d0d-45aa-8c6b-efa0831eb939\", \"source\": \"lifecycle\", \"actor\": \"system\", \"node_id\": \"fe3d776d-dfcf-4eb4-9b2c-7a218f457c07\", \"role\": \"member\"}\n",
      "{\"ts\": 1755757573.4639697, \"topic\": \"net.subnet.registered\", \"payload\": {\"hub\": \"http://127.0.0.1:8777\"}, \"trace\": \"88a76c22-a212-4f05-97a1-346a6ab698bf\", \"source\": \"lifecycle\", \"actor\": \"system\", \"node_id\": \"fe3d776d-dfcf-4eb4-9b2c-7a218f457c07\", \"role\": \"member\"}\n",
      "{\"ts\": 1755757573.4660068, \"topic\": \"sys.ready\", \"payload\": {\"ts\": 1755757573.4650075}, \"trace\": \"b32e90e2-7970-4809-94bd-3c93018077c7\", \"source\": \"lifecycle\", \"actor\": \"system\", \"node_id\": \"fe3d776d-dfcf-4eb4-9b2c-7a218f457c07\", \"role\": \"member\"}\n",
      "{\"ts\": 1755757581.113394, \"topic\": \"obs.test.ping\", \"payload\": {\"note\": \"hello\", \"at\": 1755757581.113394}, \"trace\": \"c9919127-9994-4da8-a249-26a8ec5ba039\", \"source\": \"observe_api\", \"actor\": \"diagnostics\", \"node_id\": \"fe3d776d-dfcf-4eb4-9b2c-7a218f457c07\", \"role\": \"member\"}\n",
      "\n",
      "==================== SUMMARY ====================\n",
      "\n",
      "summary:\n",
      "{\n",
      "  \"hub_ready\": true,\n",
      "  \"member_ready\": true,\n",
      "  \"nodes_seen_on_hub\": 1,\n",
      "  \"tool_call_status\": 503,\n",
      "  \"tail_lines\": 17\n",
      "}\n"
     ]
    }
   ],
   "source": [
    "# AdaOS Observability v0 — sanity check notebook\n",
    "#\n",
    "# How to use:\n",
    "# 1) Set HUB_URL, MEMBER_URL, TOKEN below for your setup.\n",
    "# 2) Run this single cell. It will:\n",
    "#    - ping health/live & health/ready\n",
    "#    - show node status for hub & member\n",
    "#    - list subnet nodes from hub\n",
    "#    - (optionally) call a tool to generate events (TOOL_CALL_ENABLED)\n",
    "#    - tail last N lines from hub /api/observe/tail\n",
    "#\n",
    "# All steps are guarded; failures are shown but won't stop the run.\n",
    "\n",
    "import os, json, time, textwrap, pathlib, sys\n",
    "from typing import Optional, Dict, Any, List\n",
    "\n",
    "import requests\n",
    "\n",
    "# ----------------- CONFIG -----------------\n",
    "HUB_URL = os.environ.get(\"ADAOS_HUB_URL\", \"http://127.0.0.1:8777\")\n",
    "MEMBER_URL = os.environ.get(\"ADAOS_MEMBER_URL\", \"http://127.0.0.1:8778\")\n",
    "TOKEN = os.environ.get(\"ADAOS_TOKEN\", \"dev-local-token\")\n",
    "\n",
    "# If you have a working tool (e.g., weather_skill:get_weather) set this True\n",
    "TOOL_CALL_ENABLED = True\n",
    "TOOL_SPEC = \"weather_skill:get_weather\"\n",
    "TOOL_ARGS = {\"city\": \"Berlin\"}\n",
    "\n",
    "TAIL_LINES = 120\n",
    "TOPIC_FILTER = None  # e.g. \"ui.\" or \"net.subnet.\" or None\n",
    "\n",
    "# ------------------------------------------\n",
    "\n",
    "HEADERS = {\"X-AdaOS-Token\": TOKEN, \"Content-Type\": \"application/json\"}\n",
    "\n",
    "\n",
    "def hr(title: str):\n",
    "    print(\"\\n\" + \"=\" * 20 + f\" {title} \" + \"=\" * 20)\n",
    "\n",
    "\n",
    "def req_json(method: str, base: str, path: str, **kwargs) -> Dict[str, Any]:\n",
    "    url = base.rstrip(\"/\") + path\n",
    "    try:\n",
    "        r = requests.request(method, url, headers=HEADERS, timeout=5, **kwargs)\n",
    "        try:\n",
    "            data = r.json()\n",
    "        except Exception:\n",
    "            data = {\"_raw\": r.text}\n",
    "        return {\"ok\": r.ok, \"status\": r.status_code, \"url\": url, \"data\": data, \"headers\": dict(r.headers)}\n",
    "    except Exception as e:\n",
    "        return {\"ok\": False, \"status\": None, \"url\": url, \"error\": str(e)}\n",
    "\n",
    "\n",
    "def pretty_print(label: str, payload: Any):\n",
    "    print(f\"\\n{label}:\")\n",
    "    if isinstance(payload, (dict, list)):\n",
    "        print(json.dumps(payload, ensure_ascii=False, indent=2))\n",
    "    else:\n",
    "        print(payload)\n",
    "\n",
    "\n",
    "# 1) HEALTH\n",
    "hr(\"HEALTH (hub & member)\")\n",
    "hub_live = req_json(\"GET\", HUB_URL, \"/health/live\")\n",
    "hub_ready = req_json(\"GET\", HUB_URL, \"/health/ready\")\n",
    "mem_live = req_json(\"GET\", MEMBER_URL, \"/health/live\")\n",
    "mem_ready = req_json(\"GET\", MEMBER_URL, \"/health/ready\")\n",
    "\n",
    "pretty_print(\"hub/live\", hub_live)\n",
    "pretty_print(\"hub/ready\", hub_ready)\n",
    "pretty_print(\"member/live\", mem_live)\n",
    "pretty_print(\"member/ready\", mem_ready)\n",
    "\n",
    "# 2) NODE STATUS\n",
    "hr(\"NODE STATUS (hub & member)\")\n",
    "hub_status = req_json(\"GET\", HUB_URL, \"/api/node/status\")\n",
    "mem_status = req_json(\"GET\", MEMBER_URL, \"/api/node/status\")\n",
    "pretty_print(\"hub status\", hub_status)\n",
    "pretty_print(\"member status\", mem_status)\n",
    "\n",
    "# 3) SUBNET NODES (from hub)\n",
    "hr(\"SUBNET /api/subnet/nodes\")\n",
    "nodes = req_json(\"GET\", HUB_URL, \"/api/subnet/nodes\")\n",
    "pretty_print(\"nodes\", nodes)\n",
    "\n",
    "# 4) (Optional) TOOL CALL to generate events & trace\n",
    "if TOOL_CALL_ENABLED:\n",
    "    hr(f\"TOOLS CALL → {TOOL_SPEC}\")\n",
    "    tool_resp = req_json(\"POST\", MEMBER_URL, \"/api/tools/call\", json={\"tool\": TOOL_SPEC, \"arguments\": TOOL_ARGS})\n",
    "    pretty_print(\"tool call response\", tool_resp)\n",
    "else:\n",
    "    hr(\"TOOLS CALL skipped (TOOL_CALL_ENABLED=False)\")\n",
    "\n",
    "# 5) OBSERVE TAIL from hub\n",
    "hr(f\"OBSERVE TAIL last {TAIL_LINES} lines (hub)\")\n",
    "tail = req_json(\"GET\", HUB_URL, f\"/api/observe/tail?lines={TAIL_LINES}\")\n",
    "lines = []\n",
    "if tail.get(\"ok\") and isinstance(tail.get(\"data\"), dict):\n",
    "    lines = tail[\"data\"].get(\"lines\") or []\n",
    "    # Optional filter by topic prefix\n",
    "    if TOPIC_FILTER:\n",
    "        keep = []\n",
    "        for ln in lines:\n",
    "            try:\n",
    "                obj = json.loads(ln)\n",
    "                if str(obj.get(\"topic\", \"\")).startswith(TOPIC_FILTER):\n",
    "                    keep.append(ln)\n",
    "            except Exception:\n",
    "                # keep raw if parsing fails and no filter\n",
    "                pass\n",
    "        lines = keep\n",
    "\n",
    "print(f\"tail lines: {len(lines)}\")\n",
    "for ln in lines:\n",
    "    print(ln)\n",
    "\n",
    "# 6) SUMMARY\n",
    "hr(\"SUMMARY\")\n",
    "summary = {\n",
    "    \"hub_ready\": hub_ready.get(\"ok\") and hub_ready.get(\"status\") == 200,\n",
    "    \"member_ready\": mem_ready.get(\"ok\") and mem_ready.get(\"status\") == 200,\n",
    "    \"nodes_seen_on_hub\": len(nodes.get(\"data\", {}).get(\"nodes\", [])) if isinstance(nodes.get(\"data\"), dict) else None,\n",
    "    \"tool_call_status\": hub_ready.get(\"status\") if not TOOL_CALL_ENABLED else (tool_resp.get(\"status\")),\n",
    "    \"tail_lines\": len(lines),\n",
    "}\n",
    "pretty_print(\"summary\", summary)"
   ]
  },
  {
   "cell_type": "code",
   "execution_count": 86,
   "id": "a334e267",
   "metadata": {},
   "outputs": [
    {
     "name": "stdout",
     "output_type": "stream",
     "text": [
      "health hub: (200, {'ok': True})\n",
      "health member: (200, {'ok': True})\n",
      "hub status: (200, {'node_id': 'e7f6d431-9a32-4474-89f1-da6aac89ed9b', 'subnet_id': 'eb20131a-a2d6-48bb-b0ba-82add9bdd294', 'role': 'hub', 'hub_url': 'http://127.0.0.1:8777', 'ready': True})\n",
      "member status: (200, {'node_id': 'fe3d776d-dfcf-4eb4-9b2c-7a218f457c07', 'subnet_id': 'eb20131a-a2d6-48bb-b0ba-82add9bdd294', 'role': 'member', 'hub_url': 'http://127.0.0.1:8777', 'ready': True})\n",
      "hub nodes: (200, {'ok': True, 'nodes': [{'node_id': 'fe3d776d-dfcf-4eb4-9b2c-7a218f457c07', 'last_seen': 1755757578.5121078, 'status': 'up', 'meta': {'hostname': 'INIMATIC', 'roles': ['member']}}]})\n",
      "emit test (member): (200, {'ok': True, 'topic': 'obs.test.ping', 'payload': {'note': 'hello', 'at': 1755757581.113394}})\n",
      "tail lines: 17\n",
      "found obs.test.ping: 1\n",
      "{\n",
      "  \"ts\": 1755757581.113394,\n",
      "  \"topic\": \"obs.test.ping\",\n",
      "  \"payload\": {\n",
      "    \"note\": \"hello\",\n",
      "    \"at\": 1755757581.113394\n",
      "  },\n",
      "  \"trace\": \"c9919127-9994-4da8-a249-26a8ec5ba039\",\n",
      "  \"source\": \"observe_api\",\n",
      "  \"actor\": \"diagnostics\",\n",
      "  \"node_id\": \"fe3d776d-dfcf-4eb4-9b2c-7a218f457c07\",\n",
      "  \"role\": \"member\"\n",
      "}\n"
     ]
    }
   ],
   "source": [
    "import os, json, time, requests\n",
    "\n",
    "HUB_URL = os.environ.get(\"ADAOS_HUB_URL\", \"http://127.0.0.1:8777\")\n",
    "MEMBER_URL = os.environ.get(\"ADAOS_MEMBER_URL\", \"http://127.0.0.1:8778\")\n",
    "TOKEN = os.environ.get(\"ADAOS_TOKEN\", \"dev-local-token\")\n",
    "\n",
    "HEADERS = {\"X-AdaOS-Token\": TOKEN, \"Content-Type\": \"application/json\"}\n",
    "\n",
    "\n",
    "def call(method, base, path, **kw):\n",
    "    url = base.rstrip(\"/\") + path\n",
    "    try:\n",
    "        r = requests.request(method, url, headers=HEADERS, timeout=5, **kw)\n",
    "        try:\n",
    "            data = r.json()\n",
    "        except Exception:\n",
    "            data = {\"_raw\": r.text}\n",
    "        return r.status_code, data\n",
    "    except Exception as e:\n",
    "        return None, {\"error\": str(e)}\n",
    "\n",
    "\n",
    "print(\"health hub:\", call(\"GET\", HUB_URL, \"/health/ready\"))\n",
    "print(\"health member:\", call(\"GET\", MEMBER_URL, \"/health/ready\"))\n",
    "print(\"hub status:\", call(\"GET\", HUB_URL, \"/api/node/status\"))\n",
    "print(\"member status:\", call(\"GET\", MEMBER_URL, \"/api/node/status\"))\n",
    "print(\"hub nodes:\", call(\"GET\", HUB_URL, \"/api/subnet/nodes\"))\n",
    "\n",
    "# генерируем тестовое событие на member → оно попадёт в локальный лог и уйдёт батчем на hub\n",
    "print(\"emit test (member):\", call(\"POST\", MEMBER_URL, \"/api/observe/test\", json={\"kind\": \"ping\", \"note\": \"from-notebook\"}))\n",
    "\n",
    "# даём время батчеру переслать\n",
    "time.sleep(2.0)\n",
    "\n",
    "# хвост логов с hub\n",
    "status, tail = call(\"GET\", HUB_URL, \"/api/observe/tail?lines=1000\")\n",
    "lines = tail.get(\"lines\") or []\n",
    "print(\"tail lines:\", len(lines))\n",
    "\n",
    "# фильтруем по нашему тестовому топику\n",
    "obs = []\n",
    "for ln in lines:\n",
    "    try:\n",
    "        evt = json.loads(ln)\n",
    "        if evt.get(\"topic\") == \"obs.test.ping\":\n",
    "            obs.append(evt)\n",
    "    except Exception:\n",
    "        pass\n",
    "\n",
    "print(\"found obs.test.ping:\", len(obs))\n",
    "if obs:\n",
    "    print(json.dumps(obs[-1], ensure_ascii=False, indent=2))"
   ]
  },
  {
   "cell_type": "code",
   "execution_count": 93,
   "id": "a3ebde64",
   "metadata": {},
   "outputs": [
    {
     "name": "stdout",
     "output_type": "stream",
     "text": [
      "{\"ok\":true,\"topic\":\"obs.test.ping\",\"payload\":{\"note\":\"hello\",\"at\":1755762890.3656685}}\n"
     ]
    },
    {
     "name": "stderr",
     "output_type": "stream",
     "text": [
      "  % Total    % Received % Xferd  Average Speed   Time    Time     Time  Current\n",
      "                                 Dload  Upload   Total   Spent    Left  Speed\n",
      "\n",
      "  0     0    0     0    0     0      0      0 --:--:-- --:--:-- --:--:--     0\n",
      "100    86  100    86    0     0   7972      0 --:--:-- --:--:-- --:--:--  8600\n"
     ]
    }
   ],
   "source": [
    "!curl -H \"X-AdaOS-Token: dev-local-token\" -X POST http://127.0.0.1:8777/api/observe/test"
   ]
  },
  {
   "cell_type": "code",
   "execution_count": null,
   "id": "2be23171",
   "metadata": {},
   "outputs": [
    {
     "name": "stdout",
     "output_type": "stream",
     "text": [
      "Clean project tree at C:\\git\\MUIV\\adaos:\n",
      "- build\n",
      "- docs\n",
      "  - docs\\diagrams\n",
      "    - docs\\diagrams\\out\n",
      "    - docs\\diagrams\\src\n",
      "- src\n",
      "  - src\\adaos\n",
      "    - src\\adaos\\abi\n",
      "    - src\\adaos\\agent\n",
      "      - src\\adaos\\agent\\audio\n",
      "        - src\\adaos\\agent\\audio\\old\n",
      "        - src\\adaos\\agent\\audio\\stt\n",
      "        - src\\adaos\\agent\\audio\\tts\n",
      "      - src\\adaos\\agent\\core\n",
      "      - src\\adaos\\agent\\db\n",
      "      - src\\adaos\\agent\\ovos_adapter\n",
      "      - src\\adaos\\agent\\platform\n",
      "        - src\\adaos\\agent\\platform\\android\n",
      "      - src\\adaos\\agent\\utils\n",
      "    - src\\adaos\\api\n",
      "    - src\\adaos\\common\n",
      "    - src\\adaos\\devportal\n",
      "    - src\\adaos\\integrations\n",
      "      - src\\adaos\\integrations\\inimatic\n",
      "        - src\\adaos\\integrations\\inimatic\\backend\n",
      "        - src\\adaos\\integrations\\inimatic\\browser_extension\n",
      "        - src\\adaos\\integrations\\inimatic\\deployment\n",
      "        - src\\adaos\\integrations\\inimatic\\LoginWV\n",
      "        - src\\adaos\\integrations\\inimatic\\resources\n",
      "        - src\\adaos\\integrations\\inimatic\\src\n",
      "        - src\\adaos\\integrations\\inimatic\\typings\n",
      "      - src\\adaos\\integrations\\ovos_adapter\n",
      "      - src\\adaos\\integrations\\rhasspy_adapter\n",
      "    - src\\adaos\\launcher\n",
      "      - src\\adaos\\launcher\\Linux\n",
      "      - src\\adaos\\launcher\\Windows\n",
      "    - src\\adaos\\orchestrator\n",
      "    - src\\adaos\\platform\n",
      "      - src\\adaos\\platform\\android\n",
      "        - src\\adaos\\platform\\android\\service\n",
      "    - src\\adaos\\runtime\n",
      "    - src\\adaos\\sdk\n",
      "      - src\\adaos\\sdk\\cli\n",
      "        - src\\adaos\\sdk\\cli\\commands\n",
      "      - src\\adaos\\sdk\\llm\n",
      "        - src\\adaos\\sdk\\llm\\prompts\n",
      "      - src\\adaos\\sdk\\locales\n",
      "      - src\\adaos\\sdk\\skills\n",
      "      - src\\adaos\\sdk\\utils\n",
      "    - src\\adaos\\skills_templates\n",
      "      - src\\adaos\\skills_templates\\AlarmSkill\n",
      "        - src\\adaos\\skills_templates\\AlarmSkill\\assets\n",
      "        - src\\adaos\\skills_templates\\AlarmSkill\\handlers\n",
      "        - src\\adaos\\skills_templates\\AlarmSkill\\intents\n",
      "      - src\\adaos\\skills_templates\\demo_skill\n",
      "        - src\\adaos\\skills_templates\\demo_skill\\handlers\n",
      "        - src\\adaos\\skills_templates\\demo_skill\\i18n\n",
      "        - src\\adaos\\skills_templates\\demo_skill\\intents\n",
      "        - src\\adaos\\skills_templates\\demo_skill\\logs\n",
      "        - src\\adaos\\skills_templates\\demo_skill\\prep\n",
      "      - src\\adaos\\skills_templates\\weather_skill\n",
      "        - src\\adaos\\skills_templates\\weather_skill\\assets\n",
      "        - src\\adaos\\skills_templates\\weather_skill\\handlers\n",
      "        - src\\adaos\\skills_templates\\weather_skill\\prep\n",
      "    - src\\adaos\\store\n",
      "- tests\n"
     ]
    }
   ],
   "source": [
    "from pathlib import Path\n",
    "\n",
    "IMPORTANT = {\"src\", \"adaos\", \"tests\", \"docs\"}\n",
    "\n",
    "\n",
    "def list_clean_tree(root=\".\"):\n",
    "    root_path = Path(root).resolve()\n",
    "\n",
    "    def walk(path: Path, depth=0, max_depth=4):\n",
    "        if depth > max_depth:\n",
    "            return\n",
    "        for p in sorted(path.iterdir()):\n",
    "            if p.is_dir() and not p.name.startswith((\".\", \"__\")) and \"egg-info\" not in p.name:\n",
    "                rel = p.relative_to(root_path)\n",
    "                if any(part in IMPORTANT for part in rel.parts) or depth == 0:\n",
    "                    print(\"  \" * depth + f\"- {rel}\")\n",
    "                walk(p, depth + 1, max_depth)\n",
    "\n",
    "    print(f\"Clean project tree at {root_path}:\")\n",
    "    walk(root_path)\n",
    "\n",
    "\n",
    "if __name__ == \"__main__\":\n",
    "    list_clean_tree(\"C:/git/MUIV/adaos\")"
   ]
  },
  {
   "cell_type": "markdown",
   "id": "c012f42c",
   "metadata": {},
   "source": [
    "# Scenarios"
   ]
  },
  {
   "cell_type": "code",
   "execution_count": null,
   "id": "8450009f",
   "metadata": {},
   "outputs": [],
   "source": [
    "import requests\n",
    "\n",
    "H = {\"X-AdaOS-Token\": \"dev-local-token\"}"
   ]
  },
  {
   "cell_type": "code",
   "execution_count": null,
   "id": "ff1f31a3",
   "metadata": {},
   "outputs": [
    {
     "name": "stdout",
     "output_type": "stream",
     "text": [
      "200 {\"ok\":true,\"path\":\"C:\\\\git\\\\MUIV\\\\adaos\\\\.adaos\\\\scenarios\\\\introduction\\\\scenario.json\"}\n"
     ]
    }
   ],
   "source": [
    "r = requests.post(\n",
    "    \"http://127.0.0.1:8777/api/scenarios/create\",\n",
    "    json={\"id\": \"introduction\", \"template\": \"template\"},\n",
    "    headers=H,\n",
    ")\n",
    "print(r.status_code, r.text)"
   ]
  },
  {
   "cell_type": "code",
   "execution_count": null,
   "id": "677dc36b",
   "metadata": {},
   "outputs": [
    {
     "data": {
      "text/plain": [
       "{'ok': True,\n",
       " 'path': 'C:\\\\git\\\\MUIV\\\\adaos\\\\.adaos\\\\scenarios\\\\morning\\\\scenario.json'}"
      ]
     },
     "execution_count": 54,
     "metadata": {},
     "output_type": "execute_result"
    }
   ],
   "source": [
    "# установить сценарий из репо\n",
    "requests.post(\"http://127.0.0.1:8777/api/scenarios/update_repo/morning\", json={\"ref\": \"main\"}, headers=H).json()"
   ]
  },
  {
   "cell_type": "code",
   "execution_count": 86,
   "id": "25e8b582",
   "metadata": {},
   "outputs": [
    {
     "data": {
      "text/plain": [
       "{'ok': True,\n",
       " 'message': \"[green]scenario 'morning' pulled[/green] (version: 0.1.0)\"}"
      ]
     },
     "execution_count": 86,
     "metadata": {},
     "output_type": "execute_result"
    }
   ],
   "source": [
    "# пуш изменений сценария\n",
    "requests.post(\"http://127.0.0.1:8777/api/scenarios/install/morning\", json={\"message\": \"tune morning flow\"}, headers=H).json()"
   ]
  },
  {
   "cell_type": "code",
   "execution_count": null,
   "id": "a428616b",
   "metadata": {},
   "outputs": [
    {
     "data": {
      "text/plain": [
       "{'ok': True,\n",
       " 'message': \"[green]scenario 'morning' pushed[/green] (version: 0.1.0)\"}"
      ]
     },
     "execution_count": 53,
     "metadata": {},
     "output_type": "execute_result"
    }
   ],
   "source": [
    "# пуш изменений сценария\n",
    "requests.post(\"http://127.0.0.1:8777/api/scenarios/push/morning\", json={\"message\": \"tune morning flow\"}, headers=H).json()"
   ]
  },
  {
   "cell_type": "code",
   "execution_count": 85,
   "id": "fa0c9139",
   "metadata": {},
   "outputs": [
    {
     "data": {
      "text/plain": [
       "{'ok': True, 'message': \"[green]scenario 'morning' uninstalled[/green]\"}"
      ]
     },
     "execution_count": 85,
     "metadata": {},
     "output_type": "execute_result"
    }
   ],
   "source": [
    "requests.post(\"http://127.0.0.1:8777/api/scenarios/uninstall/morning\", headers=H).json()"
   ]
  },
  {
   "cell_type": "code",
   "execution_count": 87,
   "id": "e8462649",
   "metadata": {},
   "outputs": [
    {
     "data": {
      "text/plain": [
       "{'items': [{'id': 'template-id',\n",
       "   'name': 'New Scenario',\n",
       "   'version': '0.1.0',\n",
       "   'path': 'C:\\\\git\\\\MUIV\\\\adaos\\\\.adaos\\\\scenarios\\\\morning\\\\scenario.json',\n",
       "   'meta': None}]}"
      ]
     },
     "execution_count": 87,
     "metadata": {},
     "output_type": "execute_result"
    }
   ],
   "source": [
    "requests.get(\"http://127.0.0.1:8777/api/scenarios/list\", headers=H).json()"
   ]
  },
  {
   "cell_type": "code",
   "execution_count": null,
   "id": "13fd1fab",
   "metadata": {},
   "outputs": [
    {
     "name": "stdout",
     "output_type": "stream",
     "text": [
      "OK: Settings base_dir = C:\\Users\\Zver/.adaos\n"
     ]
    }
   ],
   "source": [
    "# run in project root: python - <<'PY'\n",
    "from adaos.services.settings import Settings\n",
    "from adaos.adapters.fs.path_provider import LocalPathProvider\n",
    "from adaos.services.agent_context import AgentContext\n",
    "from adaos.ports import EventBus, Process, Capabilities, Devices, KV, SQL, Secrets, Net, Updates\n",
    "\n",
    "\n",
    "class Dummy:\n",
    "    pass\n",
    "\n",
    "\n",
    "ctx = AgentContext(\n",
    "    settings=Settings.from_env(),\n",
    "    # в PR-1 поля paths ещё нет; после применения PR-2 — раскомментируйте:\n",
    "    # paths=LocalPathProvider(Settings.from_env()),\n",
    "    bus=Dummy(),\n",
    "    proc=Dummy(),\n",
    "    caps=Dummy(),\n",
    "    devices=Dummy(),\n",
    "    kv=Dummy(),\n",
    "    sql=Dummy(),\n",
    "    secrets=Dummy(),\n",
    "    net=Dummy(),\n",
    "    updates=Dummy(),\n",
    ")\n",
    "print(\"OK: Settings base_dir =\", ctx.settings.base_dir)\n",
    "# print(\"OK: skills_dir =\", ctx.paths.skills_dir())  # работает после PR-2\n",
    "# PY"
   ]
  }
 ],
 "metadata": {
  "kernelspec": {
   "display_name": ".venv",
   "language": "python",
   "name": "python3"
  },
  "language_info": {
   "codemirror_mode": {
    "name": "ipython",
    "version": 3
   },
   "file_extension": ".py",
   "mimetype": "text/x-python",
   "name": "python",
   "nbconvert_exporter": "python",
   "pygments_lexer": "ipython3",
   "version": "3.12.3"
  }
 },
 "nbformat": 4,
 "nbformat_minor": 5
}
