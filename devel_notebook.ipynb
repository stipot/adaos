{
 "cells": [
  {
   "cell_type": "code",
   "execution_count": 9,
   "id": "07920cc7",
   "metadata": {},
   "outputs": [
    {
     "name": "stdout",
     "output_type": "stream",
     "text": [
      "Status: 200\n",
      "Response: {'ok': True, 'result': {'ok': True, 'city': 'Berlin', 'temp': 24.81, 'description': 'clear sky'}}\n"
     ]
    }
   ],
   "source": [
    "import requests\n",
    "\n",
    "url = \"http://127.0.0.1:8777/api/tools/call\"\n",
    "headers = {\"Content-Type\": \"application/json\", \"X-AdaOS-Token\": \"dev-local-token\"}  # подставь актуальный токен\n",
    "payload = {\"tool\": \"weather_skill:get_weather\", \"arguments\": {\"city\": \"Berlin\"}}\n",
    "\n",
    "response = requests.post(url, json=payload, headers=headers)\n",
    "\n",
    "print(\"Status:\", response.status_code)\n",
    "try:\n",
    "    print(\"Response:\", response.json())\n",
    "except ValueError:\n",
    "    print(\"Raw Response:\", response.text)"
   ]
  }
 ],
 "metadata": {
  "kernelspec": {
   "display_name": ".venv",
   "language": "python",
   "name": "python3"
  },
  "language_info": {
   "codemirror_mode": {
    "name": "ipython",
    "version": 3
   },
   "file_extension": ".py",
   "mimetype": "text/x-python",
   "name": "python",
   "nbconvert_exporter": "python",
   "pygments_lexer": "ipython3",
   "version": "3.12.0"
  }
 },
 "nbformat": 4,
 "nbformat_minor": 5
}
