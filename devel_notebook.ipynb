{
 "cells": [
  {
   "cell_type": "code",
   "execution_count": 15,
   "id": "07920cc7",
   "metadata": {},
   "outputs": [
    {
     "name": "stdout",
     "output_type": "stream",
     "text": [
      "Status: 200\n",
      "Response: {'ok': True, 'result': {'ok': True, 'city': 'Berlin', 'temp': 18.05, 'description': 'broken clouds'}, 'trace_id': 'bcc179fe-326f-4314-8fa5-e88c7bb70a43'}\n"
     ]
    }
   ],
   "source": [
    "import requests\n",
    "\n",
    "url = \"http://127.0.0.1:8777/api/tools/call\"\n",
    "headers = {\"Content-Type\": \"application/json\", \"X-AdaOS-Token\": \"dev-local-token\"}  # подставь актуальный токен\n",
    "payload = {\"tool\": \"weather_skill:get_weather\", \"arguments\": {\"city\": \"Berlin\"}}\n",
    "\n",
    "response = requests.post(url, json=payload, headers=headers)\n",
    "\n",
    "print(\"Status:\", response.status_code)\n",
    "try:\n",
    "    print(\"Response:\", response.json())\n",
    "except ValueError:\n",
    "    print(\"Raw Response:\", response.text)"
   ]
  },
  {
   "cell_type": "code",
   "execution_count": 16,
   "id": "423129ad",
   "metadata": {},
   "outputs": [
    {
     "name": "stdout",
     "output_type": "stream",
     "text": [
      "HTTP/1.1 200 OK\n",
      "date: Tue, 16 Sep 2025 11:27:54 GMT\n",
      "server: uvicorn\n",
      "content-length: 11\n",
      "content-type: application/json\n",
      "\n",
      "{\"ok\":true}\n"
     ]
    },
    {
     "name": "stderr",
     "output_type": "stream",
     "text": [
      "  % Total    % Received % Xferd  Average Speed   Time    Time     Time  Current\n",
      "                                 Dload  Upload   Total   Spent    Left  Speed\n",
      "\n",
      "  0     0    0     0    0     0      0      0 --:--:-- --:--:-- --:--:--     0\n",
      "100    11  100    11    0     0   4692      0 --:--:-- --:--:-- --:--:--  5500\n"
     ]
    }
   ],
   "source": [
    "!curl -i http://127.0.0.1:8777/health/live"
   ]
  },
  {
   "cell_type": "code",
   "execution_count": 24,
   "id": "06cea149",
   "metadata": {},
   "outputs": [
    {
     "name": "stdout",
     "output_type": "stream",
     "text": [
      "{\"ok\":true,\"nodes\":[]}\n"
     ]
    },
    {
     "name": "stderr",
     "output_type": "stream",
     "text": [
      "  % Total    % Received % Xferd  Average Speed   Time    Time     Time  Current\n",
      "                                 Dload  Upload   Total   Spent    Left  Speed\n",
      "\n",
      "  0     0    0     0    0     0      0      0 --:--:-- --:--:-- --:--:--     0\n",
      "100    22  100    22    0     0   5032      0 --:--:-- --:--:-- --:--:--  5500\n"
     ]
    }
   ],
   "source": [
    "!curl -H \"X-AdaOS-Token: dev-local-token\" http://127.0.0.1:8777/api/subnet/nodes\n"
   ]
  },
  {
   "cell_type": "code",
   "execution_count": 23,
   "id": "1cba73df",
   "metadata": {},
   "outputs": [
    {
     "name": "stdout",
     "output_type": "stream",
     "text": [
      "{'node_id': '2f29994a-131a-4a29-9d51-bb3b235e8574', 'subnet_id': '180de7f4-b7ee-4116-b3c5-a5b9a8e2e22f', 'role': 'hub', 'hub_url': None, 'ready': True}\n"
     ]
    }
   ],
   "source": [
    "print(requests.get(\"http://127.0.0.1:8777/api/node/status\", headers=headers).json())"
   ]
  },
  {
   "cell_type": "code",
   "execution_count": 22,
   "id": "d40f9814",
   "metadata": {},
   "outputs": [
    {
     "name": "stdout",
     "output_type": "stream",
     "text": [
      "{'node_id': '2f29994a-131a-4a29-9d51-bb3b235e8574', 'subnet_id': 'b7c6fb2c-ea81-48c8-9f33-f067956de4e9', 'role': 'member', 'hub_url': 'http://127.0.0.1:8777', 'ready': False}\n",
      "{'ok': True, 'node': {'node_id': '2f29994a-131a-4a29-9d51-bb3b235e8574', 'subnet_id': '180de7f4-b7ee-4116-b3c5-a5b9a8e2e22f', 'role': 'hub', 'hub_url': None, 'ready': True}, 'diagnostics': {'requested_role': 'hub', 'hub_url': 'http://127.0.0.1:8777', 'subnet_id_used': None, 'now_ready': True}}\n",
      "{'node_id': '2f29994a-131a-4a29-9d51-bb3b235e8574', 'subnet_id': '180de7f4-b7ee-4116-b3c5-a5b9a8e2e22f', 'role': 'hub', 'hub_url': None, 'ready': True}\n"
     ]
    }
   ],
   "source": [
    "import requests\n",
    "\n",
    "headers = {\"X-AdaOS-Token\": \"dev-local-token\"}\n",
    "\n",
    "# 1) проверить статус\n",
    "print(requests.get(\"http://127.0.0.1:8778/api/node/status\", headers=headers).json())\n",
    "\n",
    "# 2) сменить роль на member или hub (и задать hub_url)\n",
    "payload = {\"role\": \"hub\", \"hub_url\": \"http://127.0.0.1:8777\"}\n",
    "print(requests.post(\"http://127.0.0.1:8778/api/node/role\", json=payload, headers=headers).json())\n",
    "\n",
    "# 3) снова статус — должен быть role=member, ready=true\n",
    "print(requests.get(\"http://127.0.0.1:8778/api/node/status\", headers=headers).json())"
   ]
  },
  {
   "cell_type": "code",
   "execution_count": 25,
   "id": "d79f8eb9",
   "metadata": {},
   "outputs": [
    {
     "name": "stdout",
     "output_type": "stream",
     "text": [
      "180de7f4-b7ee-4116-b3c5-a5b9a8e2e22f\n"
     ]
    }
   ],
   "source": [
    "import requests\n",
    "\n",
    "headers = {\"X-AdaOS-Token\": \"dev-local-token\"}\n",
    "hub_status = requests.get(\"http://127.0.0.1:8777/api/node/status\", headers=headers).json()\n",
    "print(hub_status[\"subnet_id\"])"
   ]
  },
  {
   "cell_type": "code",
   "execution_count": 26,
   "id": "26faf401",
   "metadata": {},
   "outputs": [
    {
     "name": "stdout",
     "output_type": "stream",
     "text": [
      "{'ok': True, 'node': {'node_id': '2f29994a-131a-4a29-9d51-bb3b235e8574', 'subnet_id': '180de7f4-b7ee-4116-b3c5-a5b9a8e2e22f', 'role': 'hub', 'hub_url': None, 'ready': True}, 'diagnostics': {'requested_role': 'hub', 'hub_url': 'http://127.0.0.1:8777', 'subnet_id_used': '180de7f4-b7ee-4116-b3c5-a5b9a8e2e22f', 'now_ready': True}}\n"
     ]
    }
   ],
   "source": [
    "payload = {\"role\": \"hub\", \"hub_url\": \"http://127.0.0.1:8777\", \"subnet_id\": hub_status[\"subnet_id\"]}\n",
    "print(requests.post(\"http://127.0.0.1:8778/api/node/role\", json=payload, headers=headers).json())"
   ]
  },
  {
   "cell_type": "code",
   "execution_count": 27,
   "id": "61f54c8b",
   "metadata": {},
   "outputs": [
    {
     "name": "stdout",
     "output_type": "stream",
     "text": [
      "{\"ok\":true,\"nodes\":[]}\n"
     ]
    },
    {
     "name": "stderr",
     "output_type": "stream",
     "text": [
      "  % Total    % Received % Xferd  Average Speed   Time    Time     Time  Current\n",
      "                                 Dload  Upload   Total   Spent    Left  Speed\n",
      "\n",
      "  0     0    0     0    0     0      0      0 --:--:-- --:--:-- --:--:--     0\n",
      "100    22  100    22    0     0   5789      0 --:--:-- --:--:-- --:--:--  7333\n"
     ]
    }
   ],
   "source": [
    "!curl -H \"X-AdaOS-Token: dev-local-token\" http://127.0.0.1:8777/api/subnet/nodes\n"
   ]
  },
  {
   "cell_type": "code",
   "execution_count": 28,
   "id": "b44bd576",
   "metadata": {},
   "outputs": [
    {
     "name": "stdout",
     "output_type": "stream",
     "text": [
      "\n",
      "==================== HEALTH (hub & member) ====================\n",
      "\n",
      "hub/live:\n",
      "{\n",
      "  \"ok\": true,\n",
      "  \"status\": 200,\n",
      "  \"url\": \"http://127.0.0.1:8777/health/live\",\n",
      "  \"data\": {\n",
      "    \"ok\": true\n",
      "  },\n",
      "  \"headers\": {\n",
      "    \"Connection\": \"close\",\n",
      "    \"Content-Length\": \"11\",\n",
      "    \"Content-Type\": \"application/json\",\n",
      "    \"Date\": \"Tue, 16 Sep 2025 11:30:02 GMT\",\n",
      "    \"Server\": \"uvicorn\"\n",
      "  }\n",
      "}\n",
      "\n",
      "hub/ready:\n",
      "{\n",
      "  \"ok\": true,\n",
      "  \"status\": 200,\n",
      "  \"url\": \"http://127.0.0.1:8777/health/ready\",\n",
      "  \"data\": {\n",
      "    \"ok\": true\n",
      "  },\n",
      "  \"headers\": {\n",
      "    \"Connection\": \"close\",\n",
      "    \"Content-Length\": \"11\",\n",
      "    \"Content-Type\": \"application/json\",\n",
      "    \"Date\": \"Tue, 16 Sep 2025 11:30:02 GMT\",\n",
      "    \"Server\": \"uvicorn\"\n",
      "  }\n",
      "}\n",
      "\n",
      "member/live:\n",
      "{\n",
      "  \"ok\": true,\n",
      "  \"status\": 200,\n",
      "  \"url\": \"http://127.0.0.1:8778/health/live\",\n",
      "  \"data\": {\n",
      "    \"ok\": true\n",
      "  },\n",
      "  \"headers\": {\n",
      "    \"Connection\": \"close\",\n",
      "    \"Content-Length\": \"11\",\n",
      "    \"Content-Type\": \"application/json\",\n",
      "    \"Date\": \"Tue, 16 Sep 2025 11:30:03 GMT\",\n",
      "    \"Server\": \"uvicorn\"\n",
      "  }\n",
      "}\n",
      "\n",
      "member/ready:\n",
      "{\n",
      "  \"ok\": true,\n",
      "  \"status\": 200,\n",
      "  \"url\": \"http://127.0.0.1:8778/health/ready\",\n",
      "  \"data\": {\n",
      "    \"ok\": true\n",
      "  },\n",
      "  \"headers\": {\n",
      "    \"Connection\": \"close\",\n",
      "    \"Content-Length\": \"11\",\n",
      "    \"Content-Type\": \"application/json\",\n",
      "    \"Date\": \"Tue, 16 Sep 2025 11:30:03 GMT\",\n",
      "    \"Server\": \"uvicorn\"\n",
      "  }\n",
      "}\n",
      "\n",
      "==================== NODE STATUS (hub & member) ====================\n",
      "\n",
      "hub status:\n",
      "{\n",
      "  \"ok\": true,\n",
      "  \"status\": 200,\n",
      "  \"url\": \"http://127.0.0.1:8777/api/node/status\",\n",
      "  \"data\": {\n",
      "    \"node_id\": \"2f29994a-131a-4a29-9d51-bb3b235e8574\",\n",
      "    \"subnet_id\": \"180de7f4-b7ee-4116-b3c5-a5b9a8e2e22f\",\n",
      "    \"role\": \"hub\",\n",
      "    \"hub_url\": null,\n",
      "    \"ready\": true\n",
      "  },\n",
      "  \"headers\": {\n",
      "    \"Connection\": \"close\",\n",
      "    \"Content-Length\": \"142\",\n",
      "    \"Content-Type\": \"application/json\",\n",
      "    \"Date\": \"Tue, 16 Sep 2025 11:30:03 GMT\",\n",
      "    \"Server\": \"uvicorn\"\n",
      "  }\n",
      "}\n",
      "\n",
      "member status:\n",
      "{\n",
      "  \"ok\": true,\n",
      "  \"status\": 200,\n",
      "  \"url\": \"http://127.0.0.1:8778/api/node/status\",\n",
      "  \"data\": {\n",
      "    \"node_id\": \"2f29994a-131a-4a29-9d51-bb3b235e8574\",\n",
      "    \"subnet_id\": \"180de7f4-b7ee-4116-b3c5-a5b9a8e2e22f\",\n",
      "    \"role\": \"hub\",\n",
      "    \"hub_url\": null,\n",
      "    \"ready\": true\n",
      "  },\n",
      "  \"headers\": {\n",
      "    \"Connection\": \"close\",\n",
      "    \"Content-Length\": \"142\",\n",
      "    \"Content-Type\": \"application/json\",\n",
      "    \"Date\": \"Tue, 16 Sep 2025 11:30:03 GMT\",\n",
      "    \"Server\": \"uvicorn\"\n",
      "  }\n",
      "}\n",
      "\n",
      "==================== SUBNET /api/subnet/nodes ====================\n",
      "\n",
      "nodes:\n",
      "{\n",
      "  \"ok\": true,\n",
      "  \"status\": 200,\n",
      "  \"url\": \"http://127.0.0.1:8777/api/subnet/nodes\",\n",
      "  \"data\": {\n",
      "    \"ok\": true,\n",
      "    \"nodes\": []\n",
      "  },\n",
      "  \"headers\": {\n",
      "    \"Connection\": \"close\",\n",
      "    \"Content-Length\": \"22\",\n",
      "    \"Content-Type\": \"application/json\",\n",
      "    \"Date\": \"Tue, 16 Sep 2025 11:30:03 GMT\",\n",
      "    \"Server\": \"uvicorn\"\n",
      "  }\n",
      "}\n",
      "\n",
      "==================== TOOLS CALL → weather_skill:get_weather ====================\n",
      "\n",
      "tool call response:\n",
      "{\n",
      "  \"ok\": true,\n",
      "  \"status\": 200,\n",
      "  \"url\": \"http://127.0.0.1:8778/api/tools/call\",\n",
      "  \"data\": {\n",
      "    \"ok\": true,\n",
      "    \"result\": {\n",
      "      \"ok\": true,\n",
      "      \"city\": \"Berlin\",\n",
      "      \"temp\": 18.05,\n",
      "      \"description\": \"broken clouds\"\n",
      "    },\n",
      "    \"trace_id\": \"a9c8f7ea-d5a2-47e3-a138-389af718138a\"\n",
      "  },\n",
      "  \"headers\": {\n",
      "    \"Connection\": \"close\",\n",
      "    \"Content-Length\": \"141\",\n",
      "    \"Content-Type\": \"application/json\",\n",
      "    \"Date\": \"Tue, 16 Sep 2025 11:30:03 GMT\",\n",
      "    \"Server\": \"uvicorn\",\n",
      "    \"X-Adaos-Trace\": \"a9c8f7ea-d5a2-47e3-a138-389af718138a\"\n",
      "  }\n",
      "}\n",
      "\n",
      "==================== OBSERVE TAIL last 120 lines (hub) ====================\n",
      "tail lines: 61\n",
      "{\"ts\": 1758020288.3489013, \"topic\": \"sys.boot.start\", \"payload\": {\"role\": \"hub\", \"node_id\": \"2f29994a-131a-4a29-9d51-bb3b235e8574\", \"subnet_id\": \"b7c6fb2c-ea81-48c8-9f33-f067956de4e9\"}, \"trace\": \"c5a7034c-9d30-4c0f-8fe7-f4da651ead8a\", \"source\": \"lifecycle\", \"actor\": \"system\", \"node_id\": \"2f29994a-131a-4a29-9d51-bb3b235e8574\", \"role\": \"hub\"}\n",
      "{\"ts\": 1758020288.357901, \"topic\": \"sys.bus.ready\", \"payload\": {}, \"trace\": \"44aabed1-37f4-42ec-84b8-1eb175019f08\", \"source\": \"lifecycle\", \"actor\": \"system\", \"node_id\": \"2f29994a-131a-4a29-9d51-bb3b235e8574\", \"role\": \"hub\"}\n",
      "{\"ts\": 1758020288.359902, \"topic\": \"net.subnet.hub.ready\", \"payload\": {\"subnet_id\": \"b7c6fb2c-ea81-48c8-9f33-f067956de4e9\"}, \"trace\": \"269d3788-ab79-4d78-8602-3963c6aba5db\", \"source\": \"lifecycle\", \"actor\": \"system\", \"node_id\": \"2f29994a-131a-4a29-9d51-bb3b235e8574\", \"role\": \"hub\"}\n",
      "{\"ts\": 1758020288.361903, \"topic\": \"sys.ready\", \"payload\": {\"ts\": 1758020288.3609045}, \"trace\": \"2ece2062-1246-4fad-ae64-e6492a3dd1d2\", \"source\": \"lifecycle\", \"actor\": \"system\", \"node_id\": \"2f29994a-131a-4a29-9d51-bb3b235e8574\", \"role\": \"hub\"}\n",
      "{\"ts\": 1758021290.1290061, \"topic\": \"sys.boot.start\", \"payload\": {\"role\": \"hub\", \"node_id\": \"2f29994a-131a-4a29-9d51-bb3b235e8574\", \"subnet_id\": \"b7c6fb2c-ea81-48c8-9f33-f067956de4e9\"}, \"trace\": \"84e4818b-c954-4e31-a907-4274f1a1bd51\", \"source\": \"lifecycle\", \"actor\": \"system\", \"node_id\": \"2f29994a-131a-4a29-9d51-bb3b235e8574\", \"role\": \"hub\"}\n",
      "{\"ts\": 1758021290.3148115, \"topic\": \"sys.bus.ready\", \"payload\": {}, \"trace\": \"05f78833-5c84-4513-9d96-87a064a5d481\", \"source\": \"lifecycle\", \"actor\": \"system\", \"node_id\": \"2f29994a-131a-4a29-9d51-bb3b235e8574\", \"role\": \"hub\"}\n",
      "{\"ts\": 1758021290.3163812, \"topic\": \"net.subnet.hub.ready\", \"payload\": {\"subnet_id\": \"b7c6fb2c-ea81-48c8-9f33-f067956de4e9\"}, \"trace\": \"5fd531ac-b207-419f-b58c-915c064a8ced\", \"source\": \"lifecycle\", \"actor\": \"system\", \"node_id\": \"2f29994a-131a-4a29-9d51-bb3b235e8574\", \"role\": \"hub\"}\n",
      "{\"ts\": 1758021290.3187284, \"topic\": \"sys.ready\", \"payload\": {\"ts\": 1758021290.317501}, \"trace\": \"45c7e7d1-a15b-49a6-9715-d0aa571e49e7\", \"source\": \"lifecycle\", \"actor\": \"system\", \"node_id\": \"2f29994a-131a-4a29-9d51-bb3b235e8574\", \"role\": \"hub\"}\n",
      "{\"ts\": 1758021357.1158965, \"topic\": \"sys.boot.start\", \"payload\": {\"role\": \"hub\", \"node_id\": \"2f29994a-131a-4a29-9d51-bb3b235e8574\", \"subnet_id\": \"b7c6fb2c-ea81-48c8-9f33-f067956de4e9\"}, \"trace\": \"7831a108-3ae4-4377-94b5-afebde7f8fc4\", \"source\": \"lifecycle\", \"actor\": \"system\", \"node_id\": \"2f29994a-131a-4a29-9d51-bb3b235e8574\", \"role\": \"hub\"}\n",
      "{\"ts\": 1758021357.2987986, \"topic\": \"sys.bus.ready\", \"payload\": {}, \"trace\": \"e7c4ad25-1950-4ec3-aab7-aee25690e5c7\", \"source\": \"lifecycle\", \"actor\": \"system\", \"node_id\": \"2f29994a-131a-4a29-9d51-bb3b235e8574\", \"role\": \"hub\"}\n",
      "{\"ts\": 1758021357.300799, \"topic\": \"net.subnet.hub.ready\", \"payload\": {\"subnet_id\": \"b7c6fb2c-ea81-48c8-9f33-f067956de4e9\"}, \"trace\": \"23ab0ae2-02b0-4adb-b998-96fa6229db0e\", \"source\": \"lifecycle\", \"actor\": \"system\", \"node_id\": \"2f29994a-131a-4a29-9d51-bb3b235e8574\", \"role\": \"hub\"}\n",
      "{\"ts\": 1758021357.3037992, \"topic\": \"sys.ready\", \"payload\": {\"ts\": 1758021357.3017983}, \"trace\": \"9639af8d-397d-4931-a10e-2a45cc64b8ea\", \"source\": \"lifecycle\", \"actor\": \"system\", \"node_id\": \"2f29994a-131a-4a29-9d51-bb3b235e8574\", \"role\": \"hub\"}\n",
      "{\"ts\": 1758021397.6413453, \"topic\": \"sys.boot.start\", \"payload\": {\"role\": \"hub\", \"node_id\": \"2f29994a-131a-4a29-9d51-bb3b235e8574\", \"subnet_id\": \"b7c6fb2c-ea81-48c8-9f33-f067956de4e9\"}, \"trace\": \"3a63039e-6a0e-4e60-8c74-7f0892146e98\", \"source\": \"lifecycle\", \"actor\": \"system\", \"node_id\": \"2f29994a-131a-4a29-9d51-bb3b235e8574\", \"role\": \"hub\"}\n",
      "{\"ts\": 1758021397.8159156, \"topic\": \"sys.bus.ready\", \"payload\": {}, \"trace\": \"e1495018-2245-400e-b868-cff5c8f1d664\", \"source\": \"lifecycle\", \"actor\": \"system\", \"node_id\": \"2f29994a-131a-4a29-9d51-bb3b235e8574\", \"role\": \"hub\"}\n",
      "{\"ts\": 1758021397.8179157, \"topic\": \"net.subnet.hub.ready\", \"payload\": {\"subnet_id\": \"b7c6fb2c-ea81-48c8-9f33-f067956de4e9\"}, \"trace\": \"46b02eac-2ece-4dc9-b3b5-a0d696d14814\", \"source\": \"lifecycle\", \"actor\": \"system\", \"node_id\": \"2f29994a-131a-4a29-9d51-bb3b235e8574\", \"role\": \"hub\"}\n",
      "{\"ts\": 1758021397.8199158, \"topic\": \"sys.ready\", \"payload\": {\"ts\": 1758021397.818916}, \"trace\": \"119041da-7c73-41ae-b248-22555c1eb760\", \"source\": \"lifecycle\", \"actor\": \"system\", \"node_id\": \"2f29994a-131a-4a29-9d51-bb3b235e8574\", \"role\": \"hub\"}\n",
      "{\"ts\": 1758021557.9142203, \"topic\": \"sys.boot.start\", \"payload\": {\"role\": \"hub\", \"node_id\": \"2f29994a-131a-4a29-9d51-bb3b235e8574\", \"subnet_id\": \"b7c6fb2c-ea81-48c8-9f33-f067956de4e9\"}, \"trace\": \"f764db81-62a7-4c16-8ebc-c3a74663a8ed\", \"source\": \"lifecycle\", \"actor\": \"system\", \"node_id\": \"2f29994a-131a-4a29-9d51-bb3b235e8574\", \"role\": \"hub\"}\n",
      "{\"ts\": 1758021558.0935597, \"topic\": \"sys.bus.ready\", \"payload\": {}, \"trace\": \"0e81125f-583c-4371-adda-0db4eeda1be0\", \"source\": \"lifecycle\", \"actor\": \"system\", \"node_id\": \"2f29994a-131a-4a29-9d51-bb3b235e8574\", \"role\": \"hub\"}\n",
      "{\"ts\": 1758021558.0955598, \"topic\": \"net.subnet.hub.ready\", \"payload\": {\"subnet_id\": \"b7c6fb2c-ea81-48c8-9f33-f067956de4e9\"}, \"trace\": \"dcb2d5ff-645e-4b4f-97e1-7343c39a3704\", \"source\": \"lifecycle\", \"actor\": \"system\", \"node_id\": \"2f29994a-131a-4a29-9d51-bb3b235e8574\", \"role\": \"hub\"}\n",
      "{\"ts\": 1758021558.0975597, \"topic\": \"sys.ready\", \"payload\": {\"ts\": 1758021558.0965602}, \"trace\": \"45b9b82d-9511-4cee-aaf2-3122863ba3dd\", \"source\": \"lifecycle\", \"actor\": \"system\", \"node_id\": \"2f29994a-131a-4a29-9d51-bb3b235e8574\", \"role\": \"hub\"}\n",
      "{\"ts\": 1758021582.6593206, \"topic\": \"sys.boot.start\", \"payload\": {\"role\": \"hub\", \"node_id\": \"2f29994a-131a-4a29-9d51-bb3b235e8574\", \"subnet_id\": \"b7c6fb2c-ea81-48c8-9f33-f067956de4e9\"}, \"trace\": \"8dfc2d2e-139c-4a21-9ac3-c896368a810f\", \"source\": \"lifecycle\", \"actor\": \"system\", \"node_id\": \"2f29994a-131a-4a29-9d51-bb3b235e8574\", \"role\": \"hub\"}\n",
      "{\"ts\": 1758021582.8481367, \"topic\": \"sys.bus.ready\", \"payload\": {}, \"trace\": \"4d500790-eff7-4211-9610-569021234c76\", \"source\": \"lifecycle\", \"actor\": \"system\", \"node_id\": \"2f29994a-131a-4a29-9d51-bb3b235e8574\", \"role\": \"hub\"}\n",
      "{\"ts\": 1758021582.8501363, \"topic\": \"net.subnet.hub.ready\", \"payload\": {\"subnet_id\": \"b7c6fb2c-ea81-48c8-9f33-f067956de4e9\"}, \"trace\": \"a5dc2ee5-2491-4135-9ae2-6d4b6de3b21c\", \"source\": \"lifecycle\", \"actor\": \"system\", \"node_id\": \"2f29994a-131a-4a29-9d51-bb3b235e8574\", \"role\": \"hub\"}\n",
      "{\"ts\": 1758021582.8521366, \"topic\": \"sys.ready\", \"payload\": {\"ts\": 1758021582.8511357}, \"trace\": \"e28d2251-026d-4632-a94d-bc880731ef2a\", \"source\": \"lifecycle\", \"actor\": \"system\", \"node_id\": \"2f29994a-131a-4a29-9d51-bb3b235e8574\", \"role\": \"hub\"}\n",
      "{\"ts\": 1758021841.860748, \"topic\": \"sys.boot.start\", \"payload\": {\"role\": \"hub\", \"node_id\": \"2f29994a-131a-4a29-9d51-bb3b235e8574\", \"subnet_id\": \"b7c6fb2c-ea81-48c8-9f33-f067956de4e9\"}, \"trace\": \"3838221c-3b73-4cbf-8db9-dd7f7adbc7ee\", \"source\": \"lifecycle\", \"actor\": \"system\", \"node_id\": \"2f29994a-131a-4a29-9d51-bb3b235e8574\", \"role\": \"hub\"}\n",
      "{\"ts\": 1758021842.0438778, \"topic\": \"sys.bus.ready\", \"payload\": {}, \"trace\": \"91eebb75-e721-4aa6-abd0-730c424df5c6\", \"source\": \"lifecycle\", \"actor\": \"system\", \"node_id\": \"2f29994a-131a-4a29-9d51-bb3b235e8574\", \"role\": \"hub\"}\n",
      "{\"ts\": 1758021842.0458746, \"topic\": \"net.subnet.hub.ready\", \"payload\": {\"subnet_id\": \"b7c6fb2c-ea81-48c8-9f33-f067956de4e9\"}, \"trace\": \"bc28e6bc-b139-4cbf-8cac-013ee892b23b\", \"source\": \"lifecycle\", \"actor\": \"system\", \"node_id\": \"2f29994a-131a-4a29-9d51-bb3b235e8574\", \"role\": \"hub\"}\n",
      "{\"ts\": 1758021842.047874, \"topic\": \"sys.ready\", \"payload\": {\"ts\": 1758021842.0468752}, \"trace\": \"7eccba81-328c-49e3-92e3-813c1138500d\", \"source\": \"lifecycle\", \"actor\": \"system\", \"node_id\": \"2f29994a-131a-4a29-9d51-bb3b235e8574\", \"role\": \"hub\"}\n",
      "{\"ts\": 1758021895.5315187, \"topic\": \"sys.boot.start\", \"payload\": {\"role\": \"hub\", \"node_id\": \"2f29994a-131a-4a29-9d51-bb3b235e8574\", \"subnet_id\": \"b7c6fb2c-ea81-48c8-9f33-f067956de4e9\"}, \"trace\": \"a22a062a-fbb0-4911-8ab9-e6c78bbebae7\", \"source\": \"lifecycle\", \"actor\": \"system\", \"node_id\": \"2f29994a-131a-4a29-9d51-bb3b235e8574\", \"role\": \"hub\"}\n",
      "{\"ts\": 1758021895.7226243, \"topic\": \"sys.bus.ready\", \"payload\": {}, \"trace\": \"f2ccc69c-4e10-4019-999a-7619917e07f6\", \"source\": \"lifecycle\", \"actor\": \"system\", \"node_id\": \"2f29994a-131a-4a29-9d51-bb3b235e8574\", \"role\": \"hub\"}\n",
      "{\"ts\": 1758021895.7246258, \"topic\": \"net.subnet.hub.ready\", \"payload\": {\"subnet_id\": \"b7c6fb2c-ea81-48c8-9f33-f067956de4e9\"}, \"trace\": \"afcd14a3-9336-4b47-a993-b9c539ccd4a2\", \"source\": \"lifecycle\", \"actor\": \"system\", \"node_id\": \"2f29994a-131a-4a29-9d51-bb3b235e8574\", \"role\": \"hub\"}\n",
      "{\"ts\": 1758021895.726624, \"topic\": \"sys.ready\", \"payload\": {\"ts\": 1758021895.7256246}, \"trace\": \"b1e4de84-9774-49b6-a3bf-13380f657eb1\", \"source\": \"lifecycle\", \"actor\": \"system\", \"node_id\": \"2f29994a-131a-4a29-9d51-bb3b235e8574\", \"role\": \"hub\"}\n",
      "{\"ts\": 1758021916.8046896, \"topic\": \"sys.boot.start\", \"payload\": {\"role\": \"hub\", \"node_id\": \"2f29994a-131a-4a29-9d51-bb3b235e8574\", \"subnet_id\": \"b7c6fb2c-ea81-48c8-9f33-f067956de4e9\"}, \"trace\": \"6b07f043-b4c5-4b03-9ec6-b9c4b9b70e90\", \"source\": \"lifecycle\", \"actor\": \"system\", \"node_id\": \"2f29994a-131a-4a29-9d51-bb3b235e8574\", \"role\": \"hub\"}\n",
      "{\"ts\": 1758021916.9952872, \"topic\": \"sys.bus.ready\", \"payload\": {}, \"trace\": \"bc7519c4-cae7-4eab-a1ff-e1064dc0e0a3\", \"source\": \"lifecycle\", \"actor\": \"system\", \"node_id\": \"2f29994a-131a-4a29-9d51-bb3b235e8574\", \"role\": \"hub\"}\n",
      "{\"ts\": 1758021916.9972856, \"topic\": \"net.subnet.hub.ready\", \"payload\": {\"subnet_id\": \"b7c6fb2c-ea81-48c8-9f33-f067956de4e9\"}, \"trace\": \"98ad3d86-0238-46d3-ab0e-46af023ee8eb\", \"source\": \"lifecycle\", \"actor\": \"system\", \"node_id\": \"2f29994a-131a-4a29-9d51-bb3b235e8574\", \"role\": \"hub\"}\n",
      "{\"ts\": 1758021916.9992855, \"topic\": \"sys.ready\", \"payload\": {\"ts\": 1758021916.9982874}, \"trace\": \"cd1d76d9-dcd2-4360-8dc7-3b219f92cfb2\", \"source\": \"lifecycle\", \"actor\": \"system\", \"node_id\": \"2f29994a-131a-4a29-9d51-bb3b235e8574\", \"role\": \"hub\"}\n",
      "{\"ts\": 1758022000.7215116, \"topic\": \"sys.boot.start\", \"payload\": {\"role\": \"hub\", \"node_id\": \"2f29994a-131a-4a29-9d51-bb3b235e8574\", \"subnet_id\": \"b7c6fb2c-ea81-48c8-9f33-f067956de4e9\"}, \"trace\": \"2ab9a7d1-3883-4fca-96c6-b9773d4bf04e\", \"source\": \"lifecycle\", \"actor\": \"system\", \"node_id\": \"2f29994a-131a-4a29-9d51-bb3b235e8574\", \"role\": \"hub\"}\n",
      "{\"ts\": 1758022000.9496996, \"topic\": \"sys.bus.ready\", \"payload\": {}, \"trace\": \"339a7705-dfd4-42e5-8fd4-21d7e5495717\", \"source\": \"lifecycle\", \"actor\": \"system\", \"node_id\": \"2f29994a-131a-4a29-9d51-bb3b235e8574\", \"role\": \"hub\"}\n",
      "{\"ts\": 1758022000.9516935, \"topic\": \"net.subnet.hub.ready\", \"payload\": {\"subnet_id\": \"b7c6fb2c-ea81-48c8-9f33-f067956de4e9\"}, \"trace\": \"27b9de7b-57cc-4f3d-9887-62feaa803b78\", \"source\": \"lifecycle\", \"actor\": \"system\", \"node_id\": \"2f29994a-131a-4a29-9d51-bb3b235e8574\", \"role\": \"hub\"}\n",
      "{\"ts\": 1758022000.9536936, \"topic\": \"sys.ready\", \"payload\": {\"ts\": 1758022000.9526963}, \"trace\": \"65dc4600-0cd1-49fa-8f24-1d63c92aabb9\", \"source\": \"lifecycle\", \"actor\": \"system\", \"node_id\": \"2f29994a-131a-4a29-9d51-bb3b235e8574\", \"role\": \"hub\"}\n",
      "{\"ts\": 1758022101.9734647, \"topic\": \"sys.boot.start\", \"payload\": {\"role\": \"hub\", \"node_id\": \"2f29994a-131a-4a29-9d51-bb3b235e8574\", \"subnet_id\": \"b7c6fb2c-ea81-48c8-9f33-f067956de4e9\"}, \"trace\": \"0f6307d3-30c5-4d00-962f-0603cb878864\", \"source\": \"lifecycle\", \"actor\": \"system\", \"node_id\": \"2f29994a-131a-4a29-9d51-bb3b235e8574\", \"role\": \"hub\"}\n",
      "{\"ts\": 1758022102.1714723, \"topic\": \"sys.bus.ready\", \"payload\": {}, \"trace\": \"d89b879c-4800-4868-ad19-dac18fb0eb09\", \"source\": \"lifecycle\", \"actor\": \"system\", \"node_id\": \"2f29994a-131a-4a29-9d51-bb3b235e8574\", \"role\": \"hub\"}\n",
      "{\"ts\": 1758022102.1724713, \"topic\": \"net.subnet.hub.ready\", \"payload\": {\"subnet_id\": \"b7c6fb2c-ea81-48c8-9f33-f067956de4e9\"}, \"trace\": \"18a52aad-4e34-47db-9e01-b03bffc400bb\", \"source\": \"lifecycle\", \"actor\": \"system\", \"node_id\": \"2f29994a-131a-4a29-9d51-bb3b235e8574\", \"role\": \"hub\"}\n",
      "{\"ts\": 1758022102.1744714, \"topic\": \"sys.ready\", \"payload\": {\"ts\": 1758022102.173472}, \"trace\": \"de03767b-7c4d-4e9c-8174-bef3767e9e3e\", \"source\": \"lifecycle\", \"actor\": \"system\", \"node_id\": \"2f29994a-131a-4a29-9d51-bb3b235e8574\", \"role\": \"hub\"}\n",
      "{\"ts\": 1758022104.5881581, \"topic\": \"sys.stopping\", \"payload\": {}, \"trace\": \"9d0c6b20-4b25-46d1-b3e6-d90e91a0a159\", \"source\": \"lifecycle\", \"actor\": \"system\", \"node_id\": \"2f29994a-131a-4a29-9d51-bb3b235e8574\", \"role\": \"hub\"}\n",
      "{\"ts\": 1758022104.5901568, \"topic\": \"sys.stopped\", \"payload\": {}, \"trace\": \"fb35b035-7dec-4a5d-8b41-117ac8c0ea13\", \"source\": \"lifecycle\", \"actor\": \"system\", \"node_id\": \"2f29994a-131a-4a29-9d51-bb3b235e8574\", \"role\": \"hub\"}\n",
      "{\"ts\": 1758022104.5971575, \"topic\": \"sys.boot.start\", \"payload\": {\"role\": \"member\", \"node_id\": \"2f29994a-131a-4a29-9d51-bb3b235e8574\", \"subnet_id\": \"b7c6fb2c-ea81-48c8-9f33-f067956de4e9\"}, \"trace\": \"37be8a90-97c9-455c-b1ab-e6b990934364\", \"source\": \"lifecycle\", \"actor\": \"system\", \"node_id\": \"2f29994a-131a-4a29-9d51-bb3b235e8574\", \"role\": \"member\"}\n",
      "{\"ts\": 1758022104.6061618, \"topic\": \"sys.bus.ready\", \"payload\": {}, \"trace\": \"f432bb91-83e0-4f12-9b77-f7a3dc4fbf25\", \"source\": \"lifecycle\", \"actor\": \"system\", \"node_id\": \"2f29994a-131a-4a29-9d51-bb3b235e8574\", \"role\": \"member\"}\n",
      "{\"ts\": 1758022104.6176646, \"topic\": \"net.subnet.register.error\", \"payload\": {\"status\": \"non-200\"}, \"trace\": \"c76cb9d7-b09b-47ba-ab07-dc25a47b1bec\", \"source\": \"lifecycle\", \"actor\": \"system\", \"node_id\": \"2f29994a-131a-4a29-9d51-bb3b235e8574\", \"role\": \"member\"}\n",
      "{\"ts\": 1758022148.5357223, \"topic\": \"sys.stopping\", \"payload\": {}, \"trace\": \"bc12d300-c03f-4f6f-9fc7-6f31caeed352\", \"source\": \"lifecycle\", \"actor\": \"system\", \"node_id\": \"2f29994a-131a-4a29-9d51-bb3b235e8574\", \"role\": \"member\"}\n",
      "{\"ts\": 1758022148.542732, \"topic\": \"sys.stopped\", \"payload\": {}, \"trace\": \"673f743f-2569-465b-9ab4-d76bc5b124e9\", \"source\": \"lifecycle\", \"actor\": \"system\", \"node_id\": \"2f29994a-131a-4a29-9d51-bb3b235e8574\", \"role\": \"member\"}\n",
      "{\"ts\": 1758022148.5766237, \"topic\": \"sys.boot.start\", \"payload\": {\"role\": \"hub\", \"node_id\": \"2f29994a-131a-4a29-9d51-bb3b235e8574\", \"subnet_id\": \"180de7f4-b7ee-4116-b3c5-a5b9a8e2e22f\"}, \"trace\": \"1c81253b-b965-4c7a-9ffe-2b86b530d69d\", \"source\": \"lifecycle\", \"actor\": \"system\", \"node_id\": \"2f29994a-131a-4a29-9d51-bb3b235e8574\", \"role\": \"hub\"}\n",
      "{\"ts\": 1758022148.5866795, \"topic\": \"sys.bus.ready\", \"payload\": {}, \"trace\": \"5dd8ab91-c737-45dd-af2e-a488e7b70cce\", \"source\": \"lifecycle\", \"actor\": \"system\", \"node_id\": \"2f29994a-131a-4a29-9d51-bb3b235e8574\", \"role\": \"hub\"}\n",
      "{\"ts\": 1758022148.5891752, \"topic\": \"net.subnet.hub.ready\", \"payload\": {\"subnet_id\": \"180de7f4-b7ee-4116-b3c5-a5b9a8e2e22f\"}, \"trace\": \"241043ce-b241-4b43-ab39-301f9d155ec9\", \"source\": \"lifecycle\", \"actor\": \"system\", \"node_id\": \"2f29994a-131a-4a29-9d51-bb3b235e8574\", \"role\": \"hub\"}\n",
      "{\"ts\": 1758022148.594134, \"topic\": \"sys.ready\", \"payload\": {\"ts\": 1758022148.5902336}, \"trace\": \"e02ba3a2-c108-40fb-9984-3d07944c0dae\", \"source\": \"lifecycle\", \"actor\": \"system\", \"node_id\": \"2f29994a-131a-4a29-9d51-bb3b235e8574\", \"role\": \"hub\"}\n",
      "{\"ts\": 1758022164.7329493, \"topic\": \"sys.stopping\", \"payload\": {}, \"trace\": \"d79b73dd-e29d-46cb-ac87-4502912d3de1\", \"source\": \"lifecycle\", \"actor\": \"system\", \"node_id\": \"2f29994a-131a-4a29-9d51-bb3b235e8574\", \"role\": \"hub\"}\n",
      "{\"ts\": 1758022164.7369485, \"topic\": \"sys.stopped\", \"payload\": {}, \"trace\": \"d8235b16-16f3-445d-9963-cec5053fc978\", \"source\": \"lifecycle\", \"actor\": \"system\", \"node_id\": \"2f29994a-131a-4a29-9d51-bb3b235e8574\", \"role\": \"hub\"}\n",
      "{\"ts\": 1758022164.74395, \"topic\": \"sys.boot.start\", \"payload\": {\"role\": \"hub\", \"node_id\": \"2f29994a-131a-4a29-9d51-bb3b235e8574\", \"subnet_id\": \"180de7f4-b7ee-4116-b3c5-a5b9a8e2e22f\"}, \"trace\": \"7e206a55-2c87-46ae-8510-cb4551921f85\", \"source\": \"lifecycle\", \"actor\": \"system\", \"node_id\": \"2f29994a-131a-4a29-9d51-bb3b235e8574\", \"role\": \"hub\"}\n",
      "{\"ts\": 1758022164.7549486, \"topic\": \"sys.bus.ready\", \"payload\": {}, \"trace\": \"b7e0b884-205c-4aa0-b9b7-e2808454c7bf\", \"source\": \"lifecycle\", \"actor\": \"system\", \"node_id\": \"2f29994a-131a-4a29-9d51-bb3b235e8574\", \"role\": \"hub\"}\n",
      "{\"ts\": 1758022164.76095, \"topic\": \"net.subnet.hub.ready\", \"payload\": {\"subnet_id\": \"180de7f4-b7ee-4116-b3c5-a5b9a8e2e22f\"}, \"trace\": \"a1d6b86f-407d-48bb-82e6-ad75e5e10377\", \"source\": \"lifecycle\", \"actor\": \"system\", \"node_id\": \"2f29994a-131a-4a29-9d51-bb3b235e8574\", \"role\": \"hub\"}\n",
      "{\"ts\": 1758022164.7659059, \"topic\": \"sys.ready\", \"payload\": {\"ts\": 1758022164.7627683}, \"trace\": \"dbbb9130-05ff-419e-88ff-0476036072cf\", \"source\": \"lifecycle\", \"actor\": \"system\", \"node_id\": \"2f29994a-131a-4a29-9d51-bb3b235e8574\", \"role\": \"hub\"}\n",
      "\n",
      "==================== SUMMARY ====================\n",
      "\n",
      "summary:\n",
      "{\n",
      "  \"hub_ready\": true,\n",
      "  \"member_ready\": true,\n",
      "  \"nodes_seen_on_hub\": 0,\n",
      "  \"tool_call_status\": 200,\n",
      "  \"tail_lines\": 61\n",
      "}\n"
     ]
    }
   ],
   "source": [
    "# AdaOS Observability v0 — sanity check notebook\n",
    "#\n",
    "# How to use:\n",
    "# 1) Set HUB_URL, MEMBER_URL, TOKEN below for your setup.\n",
    "# 2) Run this single cell. It will:\n",
    "#    - ping health/live & health/ready\n",
    "#    - show node status for hub & member\n",
    "#    - list subnet nodes from hub\n",
    "#    - (optionally) call a tool to generate events (TOOL_CALL_ENABLED)\n",
    "#    - tail last N lines from hub /api/observe/tail\n",
    "#\n",
    "# All steps are guarded; failures are shown but won't stop the run.\n",
    "\n",
    "import os, json, time, textwrap, pathlib, sys\n",
    "from typing import Optional, Dict, Any, List\n",
    "\n",
    "import requests\n",
    "\n",
    "# ----------------- CONFIG -----------------\n",
    "HUB_URL = os.environ.get(\"ADAOS_HUB_URL\", \"http://127.0.0.1:8777\")\n",
    "MEMBER_URL = os.environ.get(\"ADAOS_MEMBER_URL\", \"http://127.0.0.1:8778\")\n",
    "TOKEN = os.environ.get(\"ADAOS_TOKEN\", \"dev-local-token\")\n",
    "\n",
    "# If you have a working tool (e.g., weather_skill:get_weather) set this True\n",
    "TOOL_CALL_ENABLED = True\n",
    "TOOL_SPEC = \"weather_skill:get_weather\"\n",
    "TOOL_ARGS = {\"city\": \"Berlin\"}\n",
    "\n",
    "TAIL_LINES = 120\n",
    "TOPIC_FILTER = None  # e.g. \"ui.\" or \"net.subnet.\" or None\n",
    "\n",
    "# ------------------------------------------\n",
    "\n",
    "HEADERS = {\"X-AdaOS-Token\": TOKEN, \"Content-Type\": \"application/json\"}\n",
    "\n",
    "\n",
    "def hr(title: str):\n",
    "    print(\"\\n\" + \"=\" * 20 + f\" {title} \" + \"=\" * 20)\n",
    "\n",
    "\n",
    "def req_json(method: str, base: str, path: str, **kwargs) -> Dict[str, Any]:\n",
    "    url = base.rstrip(\"/\") + path\n",
    "    try:\n",
    "        r = requests.request(method, url, headers=HEADERS, timeout=5, **kwargs)\n",
    "        try:\n",
    "            data = r.json()\n",
    "        except Exception:\n",
    "            data = {\"_raw\": r.text}\n",
    "        return {\"ok\": r.ok, \"status\": r.status_code, \"url\": url, \"data\": data, \"headers\": dict(r.headers)}\n",
    "    except Exception as e:\n",
    "        return {\"ok\": False, \"status\": None, \"url\": url, \"error\": str(e)}\n",
    "\n",
    "\n",
    "def pretty_print(label: str, payload: Any):\n",
    "    print(f\"\\n{label}:\")\n",
    "    if isinstance(payload, (dict, list)):\n",
    "        print(json.dumps(payload, ensure_ascii=False, indent=2))\n",
    "    else:\n",
    "        print(payload)\n",
    "\n",
    "\n",
    "# 1) HEALTH\n",
    "hr(\"HEALTH (hub & member)\")\n",
    "hub_live = req_json(\"GET\", HUB_URL, \"/health/live\")\n",
    "hub_ready = req_json(\"GET\", HUB_URL, \"/health/ready\")\n",
    "mem_live = req_json(\"GET\", MEMBER_URL, \"/health/live\")\n",
    "mem_ready = req_json(\"GET\", MEMBER_URL, \"/health/ready\")\n",
    "\n",
    "pretty_print(\"hub/live\", hub_live)\n",
    "pretty_print(\"hub/ready\", hub_ready)\n",
    "pretty_print(\"member/live\", mem_live)\n",
    "pretty_print(\"member/ready\", mem_ready)\n",
    "\n",
    "# 2) NODE STATUS\n",
    "hr(\"NODE STATUS (hub & member)\")\n",
    "hub_status = req_json(\"GET\", HUB_URL, \"/api/node/status\")\n",
    "mem_status = req_json(\"GET\", MEMBER_URL, \"/api/node/status\")\n",
    "pretty_print(\"hub status\", hub_status)\n",
    "pretty_print(\"member status\", mem_status)\n",
    "\n",
    "# 3) SUBNET NODES (from hub)\n",
    "hr(\"SUBNET /api/subnet/nodes\")\n",
    "nodes = req_json(\"GET\", HUB_URL, \"/api/subnet/nodes\")\n",
    "pretty_print(\"nodes\", nodes)\n",
    "\n",
    "# 4) (Optional) TOOL CALL to generate events & trace\n",
    "if TOOL_CALL_ENABLED:\n",
    "    hr(f\"TOOLS CALL → {TOOL_SPEC}\")\n",
    "    tool_resp = req_json(\"POST\", MEMBER_URL, \"/api/tools/call\", json={\"tool\": TOOL_SPEC, \"arguments\": TOOL_ARGS})\n",
    "    pretty_print(\"tool call response\", tool_resp)\n",
    "else:\n",
    "    hr(\"TOOLS CALL skipped (TOOL_CALL_ENABLED=False)\")\n",
    "\n",
    "# 5) OBSERVE TAIL from hub\n",
    "hr(f\"OBSERVE TAIL last {TAIL_LINES} lines (hub)\")\n",
    "tail = req_json(\"GET\", HUB_URL, f\"/api/observe/tail?lines={TAIL_LINES}\")\n",
    "lines = []\n",
    "if tail.get(\"ok\") and isinstance(tail.get(\"data\"), dict):\n",
    "    lines = tail[\"data\"].get(\"lines\") or []\n",
    "    # Optional filter by topic prefix\n",
    "    if TOPIC_FILTER:\n",
    "        keep = []\n",
    "        for ln in lines:\n",
    "            try:\n",
    "                obj = json.loads(ln)\n",
    "                if str(obj.get(\"topic\", \"\")).startswith(TOPIC_FILTER):\n",
    "                    keep.append(ln)\n",
    "            except Exception:\n",
    "                # keep raw if parsing fails and no filter\n",
    "                pass\n",
    "        lines = keep\n",
    "\n",
    "print(f\"tail lines: {len(lines)}\")\n",
    "for ln in lines:\n",
    "    print(ln)\n",
    "\n",
    "# 6) SUMMARY\n",
    "hr(\"SUMMARY\")\n",
    "summary = {\n",
    "    \"hub_ready\": hub_ready.get(\"ok\") and hub_ready.get(\"status\") == 200,\n",
    "    \"member_ready\": mem_ready.get(\"ok\") and mem_ready.get(\"status\") == 200,\n",
    "    \"nodes_seen_on_hub\": len(nodes.get(\"data\", {}).get(\"nodes\", [])) if isinstance(nodes.get(\"data\"), dict) else None,\n",
    "    \"tool_call_status\": hub_ready.get(\"status\") if not TOOL_CALL_ENABLED else (tool_resp.get(\"status\")),\n",
    "    \"tail_lines\": len(lines),\n",
    "}\n",
    "pretty_print(\"summary\", summary)"
   ]
  },
  {
   "cell_type": "code",
   "execution_count": 29,
   "id": "a334e267",
   "metadata": {},
   "outputs": [
    {
     "name": "stdout",
     "output_type": "stream",
     "text": [
      "health hub: (200, {'ok': True})\n",
      "health member: (200, {'ok': True})\n",
      "hub status: (200, {'node_id': '2f29994a-131a-4a29-9d51-bb3b235e8574', 'subnet_id': '180de7f4-b7ee-4116-b3c5-a5b9a8e2e22f', 'role': 'hub', 'hub_url': None, 'ready': True})\n",
      "member status: (200, {'node_id': '2f29994a-131a-4a29-9d51-bb3b235e8574', 'subnet_id': '180de7f4-b7ee-4116-b3c5-a5b9a8e2e22f', 'role': 'hub', 'hub_url': None, 'ready': True})\n",
      "hub nodes: (200, {'ok': True, 'nodes': []})\n",
      "emit test (member): (200, {'ok': True, 'topic': 'obs.test.ping', 'payload': {'note': 'hello', 'at': 1758022209.0505576}})\n",
      "tail lines: 62\n",
      "found obs.test.ping: 1\n",
      "{\n",
      "  \"ts\": 1758022209.0544453,\n",
      "  \"topic\": \"obs.test.ping\",\n",
      "  \"payload\": {\n",
      "    \"note\": \"hello\",\n",
      "    \"at\": 1758022209.0505576\n",
      "  },\n",
      "  \"trace\": \"7d116eae-117d-4cb0-8c72-d0530c07d5c4\",\n",
      "  \"source\": \"observe_api\",\n",
      "  \"actor\": \"diagnostics\",\n",
      "  \"node_id\": \"2f29994a-131a-4a29-9d51-bb3b235e8574\",\n",
      "  \"role\": \"hub\"\n",
      "}\n"
     ]
    }
   ],
   "source": [
    "import os, json, time, requests\n",
    "\n",
    "HUB_URL = os.environ.get(\"ADAOS_HUB_URL\", \"http://127.0.0.1:8777\")\n",
    "MEMBER_URL = os.environ.get(\"ADAOS_MEMBER_URL\", \"http://127.0.0.1:8778\")\n",
    "TOKEN = os.environ.get(\"ADAOS_TOKEN\", \"dev-local-token\")\n",
    "\n",
    "HEADERS = {\"X-AdaOS-Token\": TOKEN, \"Content-Type\": \"application/json\"}\n",
    "\n",
    "\n",
    "def call(method, base, path, **kw):\n",
    "    url = base.rstrip(\"/\") + path\n",
    "    try:\n",
    "        r = requests.request(method, url, headers=HEADERS, timeout=5, **kw)\n",
    "        try:\n",
    "            data = r.json()\n",
    "        except Exception:\n",
    "            data = {\"_raw\": r.text}\n",
    "        return r.status_code, data\n",
    "    except Exception as e:\n",
    "        return None, {\"error\": str(e)}\n",
    "\n",
    "\n",
    "print(\"health hub:\", call(\"GET\", HUB_URL, \"/health/ready\"))\n",
    "print(\"health member:\", call(\"GET\", MEMBER_URL, \"/health/ready\"))\n",
    "print(\"hub status:\", call(\"GET\", HUB_URL, \"/api/node/status\"))\n",
    "print(\"member status:\", call(\"GET\", MEMBER_URL, \"/api/node/status\"))\n",
    "print(\"hub nodes:\", call(\"GET\", HUB_URL, \"/api/subnet/nodes\"))\n",
    "\n",
    "# генерируем тестовое событие на member → оно попадёт в локальный лог и уйдёт батчем на hub\n",
    "print(\"emit test (member):\", call(\"POST\", MEMBER_URL, \"/api/observe/test\", json={\"kind\": \"ping\", \"note\": \"from-notebook\"}))\n",
    "\n",
    "# даём время батчеру переслать\n",
    "time.sleep(2.0)\n",
    "\n",
    "# хвост логов с hub\n",
    "status, tail = call(\"GET\", HUB_URL, \"/api/observe/tail?lines=1000\")\n",
    "lines = tail.get(\"lines\") or []\n",
    "print(\"tail lines:\", len(lines))\n",
    "\n",
    "# фильтруем по нашему тестовому топику\n",
    "obs = []\n",
    "for ln in lines:\n",
    "    try:\n",
    "        evt = json.loads(ln)\n",
    "        if evt.get(\"topic\") == \"obs.test.ping\":\n",
    "            obs.append(evt)\n",
    "    except Exception:\n",
    "        pass\n",
    "\n",
    "print(\"found obs.test.ping:\", len(obs))\n",
    "if obs:\n",
    "    print(json.dumps(obs[-1], ensure_ascii=False, indent=2))"
   ]
  },
  {
   "cell_type": "code",
   "execution_count": 30,
   "id": "a3ebde64",
   "metadata": {},
   "outputs": [
    {
     "name": "stdout",
     "output_type": "stream",
     "text": [
      "{\"ok\":true,\"topic\":\"obs.test.ping\",\"payload\":{\"note\":\"hello\",\"at\":1758022218.5667012}}\n"
     ]
    },
    {
     "name": "stderr",
     "output_type": "stream",
     "text": [
      "  % Total    % Received % Xferd  Average Speed   Time    Time     Time  Current\n",
      "                                 Dload  Upload   Total   Spent    Left  Speed\n",
      "\n",
      "  0     0    0     0    0     0      0      0 --:--:-- --:--:-- --:--:--     0\n",
      "100    86  100    86    0     0  15280      0 --:--:-- --:--:-- --:--:-- 17200\n"
     ]
    }
   ],
   "source": [
    "!curl -H \"X-AdaOS-Token: dev-local-token\" -X POST http://127.0.0.1:8777/api/observe/test"
   ]
  },
  {
   "cell_type": "code",
   "execution_count": 31,
   "id": "2be23171",
   "metadata": {},
   "outputs": [
    {
     "name": "stdout",
     "output_type": "stream",
     "text": [
      "Clean project tree at C:\\git\\MUIV\\adaos\\src\\adaos\\sdk:\n",
      "- descriptions\n",
      "- llm\n",
      "- scenarios\n",
      "- skills\n",
      "- utils\n",
      "- validation\n"
     ]
    }
   ],
   "source": [
    "from pathlib import Path\n",
    "\n",
    "IMPORTANT = {\"src\", \"adaos\", \"tests\", \"docs\"}\n",
    "\n",
    "\n",
    "def list_clean_tree(root=\".\"):\n",
    "    root_path = Path(root).resolve()\n",
    "\n",
    "    def walk(path: Path, depth=0, max_depth=4):\n",
    "        if depth > max_depth:\n",
    "            return\n",
    "        for p in sorted(path.iterdir()):\n",
    "            if p.is_dir() and not p.name.startswith((\".\", \"__\")) and \"egg-info\" not in p.name:\n",
    "                rel = p.relative_to(root_path)\n",
    "                if any(part in IMPORTANT for part in rel.parts) or depth == 0:\n",
    "                    print(\"  \" * depth + f\"- {rel}\")\n",
    "                walk(p, depth + 1, max_depth)\n",
    "\n",
    "    print(f\"Clean project tree at {root_path}:\")\n",
    "    walk(root_path)\n",
    "\n",
    "\n",
    "if __name__ == \"__main__\":\n",
    "    list_clean_tree(\"c:/git/MUIV/adaos/src/adaos/sdk\")"
   ]
  },
  {
   "cell_type": "code",
   "execution_count": 32,
   "id": "7110c90e",
   "metadata": {},
   "outputs": [
    {
     "name": "stdout",
     "output_type": "stream",
     "text": [
      "Clean project tree at C:\\git\\MUIV\\adaos\\src\\adaos\\sdk:\n",
      "  a_permissions.py\n",
      "  bus.py\n",
      "  context.py\n",
      "  decorators.py\n",
      "- descriptions\n",
      "  env.py\n",
      "  errors.py\n",
      "  exporter.py\n",
      "  i18n.py\n",
      "- llm\n",
      "  scenario_service.py\n",
      "- scenarios\n",
      "  skill_api.py\n",
      "  skill_memory.py\n",
      "- skills\n",
      "  types.py\n",
      "- utils\n",
      "- validation\n"
     ]
    }
   ],
   "source": [
    "from pathlib import Path\n",
    "\n",
    "IMPORTANT = {\"src\", \"adaos\", \"tests\", \"docs\"}\n",
    "\n",
    "\n",
    "def list_clean_tree(root=\".\", include_files: bool = False, max_depth: int = 4):\n",
    "    \"\"\"\n",
    "    Печатает дерево проекта. По умолчанию выводит только папки.\n",
    "    Если include_files=True, дополнительно выводит файлы.\n",
    "    Правило отбора такое же, как было: на глубине 0 показываем всё;\n",
    "    глубже — только если в относительном пути встретится один из IMPORTANT.\n",
    "    \"\"\"\n",
    "    root_path = Path(root).resolve()\n",
    "\n",
    "    def should_print(rel_parts: tuple[str, ...], is_dir: bool, depth: int) -> bool:\n",
    "        if depth == 0:\n",
    "            return True\n",
    "        parts_to_check = rel_parts if is_dir else rel_parts[:-1]  # для файла проверяем только родительские папки\n",
    "        return any(part in IMPORTANT for part in parts_to_check)\n",
    "\n",
    "    def walk(path: Path, depth: int = 0):\n",
    "        if depth > max_depth:\n",
    "            return\n",
    "        for p in sorted(path.iterdir()):\n",
    "            name = p.name\n",
    "            if name.startswith((\".\", \"__\")) or \"egg-info\" in name:\n",
    "                continue\n",
    "\n",
    "            rel = p.relative_to(root_path)\n",
    "\n",
    "            if p.is_dir():\n",
    "                if should_print(rel.parts, is_dir=True, depth=depth):\n",
    "                    print(\"  \" * depth + f\"- {rel}\")\n",
    "                walk(p, depth + 1)\n",
    "            elif include_files and p.is_file():\n",
    "                if should_print(rel.parts, is_dir=False, depth=depth):\n",
    "                    print(\"  \" * depth + f\"  {rel}\")\n",
    "\n",
    "    print(f\"Clean project tree at {root_path}:\")\n",
    "    walk(root_path)\n",
    "\n",
    "\n",
    "if __name__ == \"__main__\":\n",
    "    # пример: показать и каталоги, и файлы\n",
    "    list_clean_tree(\"c:/git/MUIV/adaos/src/adaos/sdk\", include_files=True)"
   ]
  },
  {
   "cell_type": "markdown",
   "id": "c012f42c",
   "metadata": {},
   "source": [
    "# Scenarios"
   ]
  },
  {
   "cell_type": "code",
   "execution_count": null,
   "id": "8450009f",
   "metadata": {},
   "outputs": [],
   "source": [
    "import requests\n",
    "\n",
    "H = {\"X-AdaOS-Token\": \"dev-local-token\"}"
   ]
  },
  {
   "cell_type": "code",
   "execution_count": 45,
   "id": "ff1f31a3",
   "metadata": {},
   "outputs": [
    {
     "name": "stdout",
     "output_type": "stream",
     "text": [
      "405 {\"detail\":\"Method Not Allowed\"}\n"
     ]
    }
   ],
   "source": [
    "r = requests.post(\n",
    "    \"http://127.0.0.1:8777/api/scenarios/create\",\n",
    "    json={\"id\": \"introduction1\", \"template\": \"template\"},\n",
    "    headers=H,\n",
    ")\n",
    "print(r.status_code, r.text)"
   ]
  },
  {
   "cell_type": "code",
   "execution_count": 54,
   "id": "677dc36b",
   "metadata": {},
   "outputs": [
    {
     "data": {
      "text/plain": [
       "{'ok': True,\n",
       " 'scenario': {'id': 'morning',\n",
       "  'version': '0.0.0',\n",
       "  'path': 'C:\\\\Users\\\\inimatic\\\\.adaos\\\\scenarios\\\\morning'}}"
      ]
     },
     "execution_count": 54,
     "metadata": {},
     "output_type": "execute_result"
    }
   ],
   "source": [
    "# установить сценарий из репо\n",
    "requests.post(\"http://127.0.0.1:8777/api/scenarios/install/\", json={\"ref\": \"main\", \"name\": \"morning\"}, headers=H).json()"
   ]
  },
  {
   "cell_type": "code",
   "execution_count": 52,
   "id": "fa0c9139",
   "metadata": {},
   "outputs": [
    {
     "data": {
      "text/plain": [
       "{'ok': True}"
      ]
     },
     "execution_count": 52,
     "metadata": {},
     "output_type": "execute_result"
    }
   ],
   "source": [
    "requests.delete(\"http://127.0.0.1:8777/api/scenarios/morning\", json={\"ref\": \"main\", \"name\": \"morning\"}, headers=H).json()"
   ]
  },
  {
   "cell_type": "code",
   "execution_count": 55,
   "id": "e8462649",
   "metadata": {},
   "outputs": [
    {
     "data": {
      "text/plain": [
       "{'items': [{'name': 'introduction', 'pin': None, 'last_updated': 1757502897.0},\n",
       "  {'name': 'morning', 'pin': None, 'last_updated': 1758023979.0}]}"
      ]
     },
     "execution_count": 55,
     "metadata": {},
     "output_type": "execute_result"
    }
   ],
   "source": [
    "requests.get(\"http://127.0.0.1:8777/api/scenarios/list\", headers=H).json()"
   ]
  }
 ],
 "metadata": {
  "kernelspec": {
   "display_name": ".venv",
   "language": "python",
   "name": "python3"
  },
  "language_info": {
   "codemirror_mode": {
    "name": "ipython",
    "version": 3
   },
   "file_extension": ".py",
   "mimetype": "text/x-python",
   "name": "python",
   "nbconvert_exporter": "python",
   "pygments_lexer": "ipython3",
   "version": "3.12.0"
  }
 },
 "nbformat": 4,
 "nbformat_minor": 5
}
