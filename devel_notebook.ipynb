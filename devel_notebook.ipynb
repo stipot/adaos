{
 "cells": [
  {
   "cell_type": "code",
   "execution_count": 3,
   "id": "07920cc7",
   "metadata": {},
   "outputs": [
    {
     "name": "stdout",
     "output_type": "stream",
     "text": [
      "Status: 500\n",
      "Raw Response: Internal Server Error\n"
     ]
    }
   ],
   "source": [
    "import requests\n",
    "\n",
    "url = \"http://127.0.0.1:8777/api/tools/call\"\n",
    "headers = {\"Content-Type\": \"application/json\", \"X-AdaOS-Token\": \"dev-local-token\"}  # подставь актуальный токен\n",
    "payload = {\"tool\": \"weather_skill:get_weather\", \"arguments\": {\"city\": \"Berlin\"}}\n",
    "\n",
    "response = requests.post(url, json=payload, headers=headers)\n",
    "\n",
    "print(\"Status:\", response.status_code)\n",
    "try:\n",
    "    print(\"Response:\", response.json())\n",
    "except ValueError:\n",
    "    print(\"Raw Response:\", response.text)"
   ]
  },
  {
   "cell_type": "code",
   "execution_count": 4,
   "id": "ce67eb4e",
   "metadata": {},
   "outputs": [
    {
     "ename": "ModuleNotFoundError",
     "evalue": "No module named 'adaos.sdk.subnet'",
     "output_type": "error",
     "traceback": [
      "\u001b[31m---------------------------------------------------------------------------\u001b[39m",
      "\u001b[31mModuleNotFoundError\u001b[39m                       Traceback (most recent call last)",
      "\u001b[36mCell\u001b[39m\u001b[36m \u001b[39m\u001b[32mIn[4]\u001b[39m\u001b[32m, line 1\u001b[39m\n\u001b[32m----> \u001b[39m\u001b[32m1\u001b[39m \u001b[38;5;28;01mfrom\u001b[39;00m\u001b[38;5;250m \u001b[39m\u001b[34;01madaos\u001b[39;00m\u001b[34;01m.\u001b[39;00m\u001b[34;01msdk\u001b[39;00m\u001b[34;01m.\u001b[39;00m\u001b[34;01msubnet\u001b[39;00m\u001b[38;5;250m \u001b[39m\u001b[38;5;28;01mimport\u001b[39;00m subnet_set, subnet_get\n\u001b[32m      3\u001b[39m subnet_set(\u001b[33m\"\u001b[39m\u001b[33mhome.city\u001b[39m\u001b[33m\"\u001b[39m, \u001b[33m\"\u001b[39m\u001b[33mBerlin\u001b[39m\u001b[33m\"\u001b[39m)\n\u001b[32m      4\u001b[39m \u001b[38;5;28mprint\u001b[39m(subnet_get(\u001b[33m\"\u001b[39m\u001b[33mhome.city\u001b[39m\u001b[33m\"\u001b[39m))\n",
      "\u001b[31mModuleNotFoundError\u001b[39m: No module named 'adaos.sdk.subnet'"
     ]
    }
   ],
   "source": [
    "from adaos.sdk.subnet import subnet_set, subnet_get\n",
    "\n",
    "subnet_set(\"home.city\", \"Berlin\")\n",
    "print(subnet_get(\"home.city\"))"
   ]
  },
  {
   "cell_type": "code",
   "execution_count": 51,
   "id": "423129ad",
   "metadata": {},
   "outputs": [
    {
     "name": "stdout",
     "output_type": "stream",
     "text": [
      "HTTP/1.1 200 OK\n",
      "date: Fri, 12 Sep 2025 09:55:19 GMT\n",
      "server: uvicorn\n",
      "content-length: 11\n",
      "content-type: application/json\n",
      "\n",
      "{\"ok\":true}\n"
     ]
    },
    {
     "name": "stderr",
     "output_type": "stream",
     "text": [
      "  % Total    % Received % Xferd  Average Speed   Time    Time     Time  Current\n",
      "                                 Dload  Upload   Total   Spent    Left  Speed\n",
      "\n",
      "  0     0    0     0    0     0      0      0 --:--:-- --:--:-- --:--:--     0\n",
      "100    11  100    11    0     0   4934      0 --:--:-- --:--:-- --:--:--  5500\n"
     ]
    }
   ],
   "source": [
    "!curl -i http://127.0.0.1:8777/health/live"
   ]
  },
  {
   "cell_type": "code",
   "execution_count": 52,
   "id": "06cea149",
   "metadata": {},
   "outputs": [
    {
     "name": "stdout",
     "output_type": "stream",
     "text": [
      "{\"ok\":true,\"nodes\":[{\"node_id\":\"fe3d776d-dfcf-4eb4-9b2c-7a218f457c07\",\"last_seen\":1757670929.3936207,\"status\":\"up\",\"meta\":{\"hostname\":\"INIMATIC\",\"roles\":[\"member\"]}}]}\n"
     ]
    },
    {
     "name": "stderr",
     "output_type": "stream",
     "text": [
      "  % Total    % Received % Xferd  Average Speed   Time    Time     Time  Current\n",
      "                                 Dload  Upload   Total   Spent    Left  Speed\n",
      "\n",
      "  0     0    0     0    0     0      0      0 --:--:-- --:--:-- --:--:--     0\n",
      "100   167  100   167    0     0  26737      0 --:--:-- --:--:-- --:--:-- 27833\n"
     ]
    }
   ],
   "source": [
    "!curl -H \"X-AdaOS-Token: dev-local-token\" http://127.0.0.1:8777/api/subnet/nodes\n"
   ]
  },
  {
   "cell_type": "code",
   "execution_count": 39,
   "id": "1cba73df",
   "metadata": {},
   "outputs": [
    {
     "name": "stdout",
     "output_type": "stream",
     "text": [
      "{'node_id': 'e7f6d431-9a32-4474-89f1-da6aac89ed9b', 'subnet_id': 'eb20131a-a2d6-48bb-b0ba-82add9bdd294', 'role': 'hub', 'hub_url': 'http://127.0.0.1:8777', 'ready': True}\n"
     ]
    }
   ],
   "source": [
    "print(requests.get(\"http://127.0.0.1:8777/api/node/status\", headers=headers).json())"
   ]
  },
  {
   "cell_type": "code",
   "execution_count": 9,
   "id": "d40f9814",
   "metadata": {},
   "outputs": [
    {
     "ename": "ConnectionError",
     "evalue": "HTTPConnectionPool(host='127.0.0.1', port=8778): Max retries exceeded with url: /api/node/status (Caused by NewConnectionError('<urllib3.connection.HTTPConnection object at 0x000001D5B2C9C830>: Failed to establish a new connection: [WinError 10061] Подключение не установлено, т.к. конечный компьютер отверг запрос на подключение'))",
     "output_type": "error",
     "traceback": [
      "\u001b[31m---------------------------------------------------------------------------\u001b[39m",
      "\u001b[31mConnectionRefusedError\u001b[39m                    Traceback (most recent call last)",
      "\u001b[36mFile \u001b[39m\u001b[32mc:\\git\\MUIV\\adaos\\.venv\\Lib\\site-packages\\urllib3\\connection.py:198\u001b[39m, in \u001b[36mHTTPConnection._new_conn\u001b[39m\u001b[34m(self)\u001b[39m\n\u001b[32m    197\u001b[39m \u001b[38;5;28;01mtry\u001b[39;00m:\n\u001b[32m--> \u001b[39m\u001b[32m198\u001b[39m     sock = \u001b[43mconnection\u001b[49m\u001b[43m.\u001b[49m\u001b[43mcreate_connection\u001b[49m\u001b[43m(\u001b[49m\n\u001b[32m    199\u001b[39m \u001b[43m        \u001b[49m\u001b[43m(\u001b[49m\u001b[38;5;28;43mself\u001b[39;49m\u001b[43m.\u001b[49m\u001b[43m_dns_host\u001b[49m\u001b[43m,\u001b[49m\u001b[43m \u001b[49m\u001b[38;5;28;43mself\u001b[39;49m\u001b[43m.\u001b[49m\u001b[43mport\u001b[49m\u001b[43m)\u001b[49m\u001b[43m,\u001b[49m\n\u001b[32m    200\u001b[39m \u001b[43m        \u001b[49m\u001b[38;5;28;43mself\u001b[39;49m\u001b[43m.\u001b[49m\u001b[43mtimeout\u001b[49m\u001b[43m,\u001b[49m\n\u001b[32m    201\u001b[39m \u001b[43m        \u001b[49m\u001b[43msource_address\u001b[49m\u001b[43m=\u001b[49m\u001b[38;5;28;43mself\u001b[39;49m\u001b[43m.\u001b[49m\u001b[43msource_address\u001b[49m\u001b[43m,\u001b[49m\n\u001b[32m    202\u001b[39m \u001b[43m        \u001b[49m\u001b[43msocket_options\u001b[49m\u001b[43m=\u001b[49m\u001b[38;5;28;43mself\u001b[39;49m\u001b[43m.\u001b[49m\u001b[43msocket_options\u001b[49m\u001b[43m,\u001b[49m\n\u001b[32m    203\u001b[39m \u001b[43m    \u001b[49m\u001b[43m)\u001b[49m\n\u001b[32m    204\u001b[39m \u001b[38;5;28;01mexcept\u001b[39;00m socket.gaierror \u001b[38;5;28;01mas\u001b[39;00m e:\n",
      "\u001b[36mFile \u001b[39m\u001b[32mc:\\git\\MUIV\\adaos\\.venv\\Lib\\site-packages\\urllib3\\util\\connection.py:85\u001b[39m, in \u001b[36mcreate_connection\u001b[39m\u001b[34m(address, timeout, source_address, socket_options)\u001b[39m\n\u001b[32m     84\u001b[39m \u001b[38;5;28;01mtry\u001b[39;00m:\n\u001b[32m---> \u001b[39m\u001b[32m85\u001b[39m     \u001b[38;5;28;01mraise\u001b[39;00m err\n\u001b[32m     86\u001b[39m \u001b[38;5;28;01mfinally\u001b[39;00m:\n\u001b[32m     87\u001b[39m     \u001b[38;5;66;03m# Break explicitly a reference cycle\u001b[39;00m\n",
      "\u001b[36mFile \u001b[39m\u001b[32mc:\\git\\MUIV\\adaos\\.venv\\Lib\\site-packages\\urllib3\\util\\connection.py:73\u001b[39m, in \u001b[36mcreate_connection\u001b[39m\u001b[34m(address, timeout, source_address, socket_options)\u001b[39m\n\u001b[32m     72\u001b[39m     sock.bind(source_address)\n\u001b[32m---> \u001b[39m\u001b[32m73\u001b[39m \u001b[43msock\u001b[49m\u001b[43m.\u001b[49m\u001b[43mconnect\u001b[49m\u001b[43m(\u001b[49m\u001b[43msa\u001b[49m\u001b[43m)\u001b[49m\n\u001b[32m     74\u001b[39m \u001b[38;5;66;03m# Break explicitly a reference cycle\u001b[39;00m\n",
      "\u001b[31mConnectionRefusedError\u001b[39m: [WinError 10061] Подключение не установлено, т.к. конечный компьютер отверг запрос на подключение",
      "\nThe above exception was the direct cause of the following exception:\n",
      "\u001b[31mNewConnectionError\u001b[39m                        Traceback (most recent call last)",
      "\u001b[36mFile \u001b[39m\u001b[32mc:\\git\\MUIV\\adaos\\.venv\\Lib\\site-packages\\urllib3\\connectionpool.py:787\u001b[39m, in \u001b[36mHTTPConnectionPool.urlopen\u001b[39m\u001b[34m(self, method, url, body, headers, retries, redirect, assert_same_host, timeout, pool_timeout, release_conn, chunked, body_pos, preload_content, decode_content, **response_kw)\u001b[39m\n\u001b[32m    786\u001b[39m \u001b[38;5;66;03m# Make the request on the HTTPConnection object\u001b[39;00m\n\u001b[32m--> \u001b[39m\u001b[32m787\u001b[39m response = \u001b[38;5;28;43mself\u001b[39;49m\u001b[43m.\u001b[49m\u001b[43m_make_request\u001b[49m\u001b[43m(\u001b[49m\n\u001b[32m    788\u001b[39m \u001b[43m    \u001b[49m\u001b[43mconn\u001b[49m\u001b[43m,\u001b[49m\n\u001b[32m    789\u001b[39m \u001b[43m    \u001b[49m\u001b[43mmethod\u001b[49m\u001b[43m,\u001b[49m\n\u001b[32m    790\u001b[39m \u001b[43m    \u001b[49m\u001b[43murl\u001b[49m\u001b[43m,\u001b[49m\n\u001b[32m    791\u001b[39m \u001b[43m    \u001b[49m\u001b[43mtimeout\u001b[49m\u001b[43m=\u001b[49m\u001b[43mtimeout_obj\u001b[49m\u001b[43m,\u001b[49m\n\u001b[32m    792\u001b[39m \u001b[43m    \u001b[49m\u001b[43mbody\u001b[49m\u001b[43m=\u001b[49m\u001b[43mbody\u001b[49m\u001b[43m,\u001b[49m\n\u001b[32m    793\u001b[39m \u001b[43m    \u001b[49m\u001b[43mheaders\u001b[49m\u001b[43m=\u001b[49m\u001b[43mheaders\u001b[49m\u001b[43m,\u001b[49m\n\u001b[32m    794\u001b[39m \u001b[43m    \u001b[49m\u001b[43mchunked\u001b[49m\u001b[43m=\u001b[49m\u001b[43mchunked\u001b[49m\u001b[43m,\u001b[49m\n\u001b[32m    795\u001b[39m \u001b[43m    \u001b[49m\u001b[43mretries\u001b[49m\u001b[43m=\u001b[49m\u001b[43mretries\u001b[49m\u001b[43m,\u001b[49m\n\u001b[32m    796\u001b[39m \u001b[43m    \u001b[49m\u001b[43mresponse_conn\u001b[49m\u001b[43m=\u001b[49m\u001b[43mresponse_conn\u001b[49m\u001b[43m,\u001b[49m\n\u001b[32m    797\u001b[39m \u001b[43m    \u001b[49m\u001b[43mpreload_content\u001b[49m\u001b[43m=\u001b[49m\u001b[43mpreload_content\u001b[49m\u001b[43m,\u001b[49m\n\u001b[32m    798\u001b[39m \u001b[43m    \u001b[49m\u001b[43mdecode_content\u001b[49m\u001b[43m=\u001b[49m\u001b[43mdecode_content\u001b[49m\u001b[43m,\u001b[49m\n\u001b[32m    799\u001b[39m \u001b[43m    \u001b[49m\u001b[43m*\u001b[49m\u001b[43m*\u001b[49m\u001b[43mresponse_kw\u001b[49m\u001b[43m,\u001b[49m\n\u001b[32m    800\u001b[39m \u001b[43m\u001b[49m\u001b[43m)\u001b[49m\n\u001b[32m    802\u001b[39m \u001b[38;5;66;03m# Everything went great!\u001b[39;00m\n",
      "\u001b[36mFile \u001b[39m\u001b[32mc:\\git\\MUIV\\adaos\\.venv\\Lib\\site-packages\\urllib3\\connectionpool.py:493\u001b[39m, in \u001b[36mHTTPConnectionPool._make_request\u001b[39m\u001b[34m(self, conn, method, url, body, headers, retries, timeout, chunked, response_conn, preload_content, decode_content, enforce_content_length)\u001b[39m\n\u001b[32m    492\u001b[39m \u001b[38;5;28;01mtry\u001b[39;00m:\n\u001b[32m--> \u001b[39m\u001b[32m493\u001b[39m     \u001b[43mconn\u001b[49m\u001b[43m.\u001b[49m\u001b[43mrequest\u001b[49m\u001b[43m(\u001b[49m\n\u001b[32m    494\u001b[39m \u001b[43m        \u001b[49m\u001b[43mmethod\u001b[49m\u001b[43m,\u001b[49m\n\u001b[32m    495\u001b[39m \u001b[43m        \u001b[49m\u001b[43murl\u001b[49m\u001b[43m,\u001b[49m\n\u001b[32m    496\u001b[39m \u001b[43m        \u001b[49m\u001b[43mbody\u001b[49m\u001b[43m=\u001b[49m\u001b[43mbody\u001b[49m\u001b[43m,\u001b[49m\n\u001b[32m    497\u001b[39m \u001b[43m        \u001b[49m\u001b[43mheaders\u001b[49m\u001b[43m=\u001b[49m\u001b[43mheaders\u001b[49m\u001b[43m,\u001b[49m\n\u001b[32m    498\u001b[39m \u001b[43m        \u001b[49m\u001b[43mchunked\u001b[49m\u001b[43m=\u001b[49m\u001b[43mchunked\u001b[49m\u001b[43m,\u001b[49m\n\u001b[32m    499\u001b[39m \u001b[43m        \u001b[49m\u001b[43mpreload_content\u001b[49m\u001b[43m=\u001b[49m\u001b[43mpreload_content\u001b[49m\u001b[43m,\u001b[49m\n\u001b[32m    500\u001b[39m \u001b[43m        \u001b[49m\u001b[43mdecode_content\u001b[49m\u001b[43m=\u001b[49m\u001b[43mdecode_content\u001b[49m\u001b[43m,\u001b[49m\n\u001b[32m    501\u001b[39m \u001b[43m        \u001b[49m\u001b[43menforce_content_length\u001b[49m\u001b[43m=\u001b[49m\u001b[43menforce_content_length\u001b[49m\u001b[43m,\u001b[49m\n\u001b[32m    502\u001b[39m \u001b[43m    \u001b[49m\u001b[43m)\u001b[49m\n\u001b[32m    504\u001b[39m \u001b[38;5;66;03m# We are swallowing BrokenPipeError (errno.EPIPE) since the server is\u001b[39;00m\n\u001b[32m    505\u001b[39m \u001b[38;5;66;03m# legitimately able to close the connection after sending a valid response.\u001b[39;00m\n\u001b[32m    506\u001b[39m \u001b[38;5;66;03m# With this behaviour, the received response is still readable.\u001b[39;00m\n",
      "\u001b[36mFile \u001b[39m\u001b[32mc:\\git\\MUIV\\adaos\\.venv\\Lib\\site-packages\\urllib3\\connection.py:494\u001b[39m, in \u001b[36mHTTPConnection.request\u001b[39m\u001b[34m(self, method, url, body, headers, chunked, preload_content, decode_content, enforce_content_length)\u001b[39m\n\u001b[32m    493\u001b[39m     \u001b[38;5;28mself\u001b[39m.putheader(header, value)\n\u001b[32m--> \u001b[39m\u001b[32m494\u001b[39m \u001b[38;5;28;43mself\u001b[39;49m\u001b[43m.\u001b[49m\u001b[43mendheaders\u001b[49m\u001b[43m(\u001b[49m\u001b[43m)\u001b[49m\n\u001b[32m    496\u001b[39m \u001b[38;5;66;03m# If we're given a body we start sending that in chunks.\u001b[39;00m\n",
      "\u001b[36mFile \u001b[39m\u001b[32m~\\AppData\\Local\\Programs\\Python\\Python312\\Lib\\http\\client.py:1314\u001b[39m, in \u001b[36mHTTPConnection.endheaders\u001b[39m\u001b[34m(self, message_body, encode_chunked)\u001b[39m\n\u001b[32m   1313\u001b[39m     \u001b[38;5;28;01mraise\u001b[39;00m CannotSendHeader()\n\u001b[32m-> \u001b[39m\u001b[32m1314\u001b[39m \u001b[38;5;28;43mself\u001b[39;49m\u001b[43m.\u001b[49m\u001b[43m_send_output\u001b[49m\u001b[43m(\u001b[49m\u001b[43mmessage_body\u001b[49m\u001b[43m,\u001b[49m\u001b[43m \u001b[49m\u001b[43mencode_chunked\u001b[49m\u001b[43m=\u001b[49m\u001b[43mencode_chunked\u001b[49m\u001b[43m)\u001b[49m\n",
      "\u001b[36mFile \u001b[39m\u001b[32m~\\AppData\\Local\\Programs\\Python\\Python312\\Lib\\http\\client.py:1074\u001b[39m, in \u001b[36mHTTPConnection._send_output\u001b[39m\u001b[34m(self, message_body, encode_chunked)\u001b[39m\n\u001b[32m   1073\u001b[39m \u001b[38;5;28;01mdel\u001b[39;00m \u001b[38;5;28mself\u001b[39m._buffer[:]\n\u001b[32m-> \u001b[39m\u001b[32m1074\u001b[39m \u001b[38;5;28;43mself\u001b[39;49m\u001b[43m.\u001b[49m\u001b[43msend\u001b[49m\u001b[43m(\u001b[49m\u001b[43mmsg\u001b[49m\u001b[43m)\u001b[49m\n\u001b[32m   1076\u001b[39m \u001b[38;5;28;01mif\u001b[39;00m message_body \u001b[38;5;129;01mis\u001b[39;00m \u001b[38;5;129;01mnot\u001b[39;00m \u001b[38;5;28;01mNone\u001b[39;00m:\n\u001b[32m   1077\u001b[39m \n\u001b[32m   1078\u001b[39m     \u001b[38;5;66;03m# create a consistent interface to message_body\u001b[39;00m\n",
      "\u001b[36mFile \u001b[39m\u001b[32m~\\AppData\\Local\\Programs\\Python\\Python312\\Lib\\http\\client.py:1018\u001b[39m, in \u001b[36mHTTPConnection.send\u001b[39m\u001b[34m(self, data)\u001b[39m\n\u001b[32m   1017\u001b[39m \u001b[38;5;28;01mif\u001b[39;00m \u001b[38;5;28mself\u001b[39m.auto_open:\n\u001b[32m-> \u001b[39m\u001b[32m1018\u001b[39m     \u001b[38;5;28;43mself\u001b[39;49m\u001b[43m.\u001b[49m\u001b[43mconnect\u001b[49m\u001b[43m(\u001b[49m\u001b[43m)\u001b[49m\n\u001b[32m   1019\u001b[39m \u001b[38;5;28;01melse\u001b[39;00m:\n",
      "\u001b[36mFile \u001b[39m\u001b[32mc:\\git\\MUIV\\adaos\\.venv\\Lib\\site-packages\\urllib3\\connection.py:325\u001b[39m, in \u001b[36mHTTPConnection.connect\u001b[39m\u001b[34m(self)\u001b[39m\n\u001b[32m    324\u001b[39m \u001b[38;5;28;01mdef\u001b[39;00m\u001b[38;5;250m \u001b[39m\u001b[34mconnect\u001b[39m(\u001b[38;5;28mself\u001b[39m) -> \u001b[38;5;28;01mNone\u001b[39;00m:\n\u001b[32m--> \u001b[39m\u001b[32m325\u001b[39m     \u001b[38;5;28mself\u001b[39m.sock = \u001b[38;5;28;43mself\u001b[39;49m\u001b[43m.\u001b[49m\u001b[43m_new_conn\u001b[49m\u001b[43m(\u001b[49m\u001b[43m)\u001b[49m\n\u001b[32m    326\u001b[39m     \u001b[38;5;28;01mif\u001b[39;00m \u001b[38;5;28mself\u001b[39m._tunnel_host:\n\u001b[32m    327\u001b[39m         \u001b[38;5;66;03m# If we're tunneling it means we're connected to our proxy.\u001b[39;00m\n",
      "\u001b[36mFile \u001b[39m\u001b[32mc:\\git\\MUIV\\adaos\\.venv\\Lib\\site-packages\\urllib3\\connection.py:213\u001b[39m, in \u001b[36mHTTPConnection._new_conn\u001b[39m\u001b[34m(self)\u001b[39m\n\u001b[32m    212\u001b[39m \u001b[38;5;28;01mexcept\u001b[39;00m \u001b[38;5;167;01mOSError\u001b[39;00m \u001b[38;5;28;01mas\u001b[39;00m e:\n\u001b[32m--> \u001b[39m\u001b[32m213\u001b[39m     \u001b[38;5;28;01mraise\u001b[39;00m NewConnectionError(\n\u001b[32m    214\u001b[39m         \u001b[38;5;28mself\u001b[39m, \u001b[33mf\u001b[39m\u001b[33m\"\u001b[39m\u001b[33mFailed to establish a new connection: \u001b[39m\u001b[38;5;132;01m{\u001b[39;00me\u001b[38;5;132;01m}\u001b[39;00m\u001b[33m\"\u001b[39m\n\u001b[32m    215\u001b[39m     ) \u001b[38;5;28;01mfrom\u001b[39;00m\u001b[38;5;250m \u001b[39m\u001b[34;01me\u001b[39;00m\n\u001b[32m    217\u001b[39m sys.audit(\u001b[33m\"\u001b[39m\u001b[33mhttp.client.connect\u001b[39m\u001b[33m\"\u001b[39m, \u001b[38;5;28mself\u001b[39m, \u001b[38;5;28mself\u001b[39m.host, \u001b[38;5;28mself\u001b[39m.port)\n",
      "\u001b[31mNewConnectionError\u001b[39m: <urllib3.connection.HTTPConnection object at 0x000001D5B2C9C830>: Failed to establish a new connection: [WinError 10061] Подключение не установлено, т.к. конечный компьютер отверг запрос на подключение",
      "\nThe above exception was the direct cause of the following exception:\n",
      "\u001b[31mMaxRetryError\u001b[39m                             Traceback (most recent call last)",
      "\u001b[36mFile \u001b[39m\u001b[32mc:\\git\\MUIV\\adaos\\.venv\\Lib\\site-packages\\requests\\adapters.py:667\u001b[39m, in \u001b[36mHTTPAdapter.send\u001b[39m\u001b[34m(self, request, stream, timeout, verify, cert, proxies)\u001b[39m\n\u001b[32m    666\u001b[39m \u001b[38;5;28;01mtry\u001b[39;00m:\n\u001b[32m--> \u001b[39m\u001b[32m667\u001b[39m     resp = \u001b[43mconn\u001b[49m\u001b[43m.\u001b[49m\u001b[43murlopen\u001b[49m\u001b[43m(\u001b[49m\n\u001b[32m    668\u001b[39m \u001b[43m        \u001b[49m\u001b[43mmethod\u001b[49m\u001b[43m=\u001b[49m\u001b[43mrequest\u001b[49m\u001b[43m.\u001b[49m\u001b[43mmethod\u001b[49m\u001b[43m,\u001b[49m\n\u001b[32m    669\u001b[39m \u001b[43m        \u001b[49m\u001b[43murl\u001b[49m\u001b[43m=\u001b[49m\u001b[43murl\u001b[49m\u001b[43m,\u001b[49m\n\u001b[32m    670\u001b[39m \u001b[43m        \u001b[49m\u001b[43mbody\u001b[49m\u001b[43m=\u001b[49m\u001b[43mrequest\u001b[49m\u001b[43m.\u001b[49m\u001b[43mbody\u001b[49m\u001b[43m,\u001b[49m\n\u001b[32m    671\u001b[39m \u001b[43m        \u001b[49m\u001b[43mheaders\u001b[49m\u001b[43m=\u001b[49m\u001b[43mrequest\u001b[49m\u001b[43m.\u001b[49m\u001b[43mheaders\u001b[49m\u001b[43m,\u001b[49m\n\u001b[32m    672\u001b[39m \u001b[43m        \u001b[49m\u001b[43mredirect\u001b[49m\u001b[43m=\u001b[49m\u001b[38;5;28;43;01mFalse\u001b[39;49;00m\u001b[43m,\u001b[49m\n\u001b[32m    673\u001b[39m \u001b[43m        \u001b[49m\u001b[43massert_same_host\u001b[49m\u001b[43m=\u001b[49m\u001b[38;5;28;43;01mFalse\u001b[39;49;00m\u001b[43m,\u001b[49m\n\u001b[32m    674\u001b[39m \u001b[43m        \u001b[49m\u001b[43mpreload_content\u001b[49m\u001b[43m=\u001b[49m\u001b[38;5;28;43;01mFalse\u001b[39;49;00m\u001b[43m,\u001b[49m\n\u001b[32m    675\u001b[39m \u001b[43m        \u001b[49m\u001b[43mdecode_content\u001b[49m\u001b[43m=\u001b[49m\u001b[38;5;28;43;01mFalse\u001b[39;49;00m\u001b[43m,\u001b[49m\n\u001b[32m    676\u001b[39m \u001b[43m        \u001b[49m\u001b[43mretries\u001b[49m\u001b[43m=\u001b[49m\u001b[38;5;28;43mself\u001b[39;49m\u001b[43m.\u001b[49m\u001b[43mmax_retries\u001b[49m\u001b[43m,\u001b[49m\n\u001b[32m    677\u001b[39m \u001b[43m        \u001b[49m\u001b[43mtimeout\u001b[49m\u001b[43m=\u001b[49m\u001b[43mtimeout\u001b[49m\u001b[43m,\u001b[49m\n\u001b[32m    678\u001b[39m \u001b[43m        \u001b[49m\u001b[43mchunked\u001b[49m\u001b[43m=\u001b[49m\u001b[43mchunked\u001b[49m\u001b[43m,\u001b[49m\n\u001b[32m    679\u001b[39m \u001b[43m    \u001b[49m\u001b[43m)\u001b[49m\n\u001b[32m    681\u001b[39m \u001b[38;5;28;01mexcept\u001b[39;00m (ProtocolError, \u001b[38;5;167;01mOSError\u001b[39;00m) \u001b[38;5;28;01mas\u001b[39;00m err:\n",
      "\u001b[36mFile \u001b[39m\u001b[32mc:\\git\\MUIV\\adaos\\.venv\\Lib\\site-packages\\urllib3\\connectionpool.py:841\u001b[39m, in \u001b[36mHTTPConnectionPool.urlopen\u001b[39m\u001b[34m(self, method, url, body, headers, retries, redirect, assert_same_host, timeout, pool_timeout, release_conn, chunked, body_pos, preload_content, decode_content, **response_kw)\u001b[39m\n\u001b[32m    839\u001b[39m     new_e = ProtocolError(\u001b[33m\"\u001b[39m\u001b[33mConnection aborted.\u001b[39m\u001b[33m\"\u001b[39m, new_e)\n\u001b[32m--> \u001b[39m\u001b[32m841\u001b[39m retries = \u001b[43mretries\u001b[49m\u001b[43m.\u001b[49m\u001b[43mincrement\u001b[49m\u001b[43m(\u001b[49m\n\u001b[32m    842\u001b[39m \u001b[43m    \u001b[49m\u001b[43mmethod\u001b[49m\u001b[43m,\u001b[49m\u001b[43m \u001b[49m\u001b[43murl\u001b[49m\u001b[43m,\u001b[49m\u001b[43m \u001b[49m\u001b[43merror\u001b[49m\u001b[43m=\u001b[49m\u001b[43mnew_e\u001b[49m\u001b[43m,\u001b[49m\u001b[43m \u001b[49m\u001b[43m_pool\u001b[49m\u001b[43m=\u001b[49m\u001b[38;5;28;43mself\u001b[39;49m\u001b[43m,\u001b[49m\u001b[43m \u001b[49m\u001b[43m_stacktrace\u001b[49m\u001b[43m=\u001b[49m\u001b[43msys\u001b[49m\u001b[43m.\u001b[49m\u001b[43mexc_info\u001b[49m\u001b[43m(\u001b[49m\u001b[43m)\u001b[49m\u001b[43m[\u001b[49m\u001b[32;43m2\u001b[39;49m\u001b[43m]\u001b[49m\n\u001b[32m    843\u001b[39m \u001b[43m\u001b[49m\u001b[43m)\u001b[49m\n\u001b[32m    844\u001b[39m retries.sleep()\n",
      "\u001b[36mFile \u001b[39m\u001b[32mc:\\git\\MUIV\\adaos\\.venv\\Lib\\site-packages\\urllib3\\util\\retry.py:519\u001b[39m, in \u001b[36mRetry.increment\u001b[39m\u001b[34m(self, method, url, response, error, _pool, _stacktrace)\u001b[39m\n\u001b[32m    518\u001b[39m     reason = error \u001b[38;5;129;01mor\u001b[39;00m ResponseError(cause)\n\u001b[32m--> \u001b[39m\u001b[32m519\u001b[39m     \u001b[38;5;28;01mraise\u001b[39;00m MaxRetryError(_pool, url, reason) \u001b[38;5;28;01mfrom\u001b[39;00m\u001b[38;5;250m \u001b[39m\u001b[34;01mreason\u001b[39;00m  \u001b[38;5;66;03m# type: ignore[arg-type]\u001b[39;00m\n\u001b[32m    521\u001b[39m log.debug(\u001b[33m\"\u001b[39m\u001b[33mIncremented Retry for (url=\u001b[39m\u001b[33m'\u001b[39m\u001b[38;5;132;01m%s\u001b[39;00m\u001b[33m'\u001b[39m\u001b[33m): \u001b[39m\u001b[38;5;132;01m%r\u001b[39;00m\u001b[33m\"\u001b[39m, url, new_retry)\n",
      "\u001b[31mMaxRetryError\u001b[39m: HTTPConnectionPool(host='127.0.0.1', port=8778): Max retries exceeded with url: /api/node/status (Caused by NewConnectionError('<urllib3.connection.HTTPConnection object at 0x000001D5B2C9C830>: Failed to establish a new connection: [WinError 10061] Подключение не установлено, т.к. конечный компьютер отверг запрос на подключение'))",
      "\nDuring handling of the above exception, another exception occurred:\n",
      "\u001b[31mConnectionError\u001b[39m                           Traceback (most recent call last)",
      "\u001b[36mCell\u001b[39m\u001b[36m \u001b[39m\u001b[32mIn[9]\u001b[39m\u001b[32m, line 6\u001b[39m\n\u001b[32m      3\u001b[39m headers = {\u001b[33m\"\u001b[39m\u001b[33mX-AdaOS-Token\u001b[39m\u001b[33m\"\u001b[39m: \u001b[33m\"\u001b[39m\u001b[33mdev-local-token\u001b[39m\u001b[33m\"\u001b[39m}\n\u001b[32m      5\u001b[39m \u001b[38;5;66;03m# 1) проверить статус\u001b[39;00m\n\u001b[32m----> \u001b[39m\u001b[32m6\u001b[39m \u001b[38;5;28mprint\u001b[39m(\u001b[43mrequests\u001b[49m\u001b[43m.\u001b[49m\u001b[43mget\u001b[49m\u001b[43m(\u001b[49m\u001b[33;43m\"\u001b[39;49m\u001b[33;43mhttp://127.0.0.1:8778/api/node/status\u001b[39;49m\u001b[33;43m\"\u001b[39;49m\u001b[43m,\u001b[49m\u001b[43m \u001b[49m\u001b[43mheaders\u001b[49m\u001b[43m=\u001b[49m\u001b[43mheaders\u001b[49m\u001b[43m)\u001b[49m.json())\n\u001b[32m      8\u001b[39m \u001b[38;5;66;03m# 2) сменить роль на member или hub (и задать hub_url)\u001b[39;00m\n\u001b[32m      9\u001b[39m payload = {\u001b[33m\"\u001b[39m\u001b[33mrole\u001b[39m\u001b[33m\"\u001b[39m: \u001b[33m\"\u001b[39m\u001b[33mmember\u001b[39m\u001b[33m\"\u001b[39m, \u001b[33m\"\u001b[39m\u001b[33mhub_url\u001b[39m\u001b[33m\"\u001b[39m: \u001b[33m\"\u001b[39m\u001b[33mhttp://127.0.0.1:8777\u001b[39m\u001b[33m\"\u001b[39m}\n",
      "\u001b[36mFile \u001b[39m\u001b[32mc:\\git\\MUIV\\adaos\\.venv\\Lib\\site-packages\\requests\\api.py:73\u001b[39m, in \u001b[36mget\u001b[39m\u001b[34m(url, params, **kwargs)\u001b[39m\n\u001b[32m     62\u001b[39m \u001b[38;5;28;01mdef\u001b[39;00m\u001b[38;5;250m \u001b[39m\u001b[34mget\u001b[39m(url, params=\u001b[38;5;28;01mNone\u001b[39;00m, **kwargs):\n\u001b[32m     63\u001b[39m \u001b[38;5;250m    \u001b[39m\u001b[33mr\u001b[39m\u001b[33;03m\"\"\"Sends a GET request.\u001b[39;00m\n\u001b[32m     64\u001b[39m \n\u001b[32m     65\u001b[39m \u001b[33;03m    :param url: URL for the new :class:`Request` object.\u001b[39;00m\n\u001b[32m   (...)\u001b[39m\u001b[32m     70\u001b[39m \u001b[33;03m    :rtype: requests.Response\u001b[39;00m\n\u001b[32m     71\u001b[39m \u001b[33;03m    \"\"\"\u001b[39;00m\n\u001b[32m---> \u001b[39m\u001b[32m73\u001b[39m     \u001b[38;5;28;01mreturn\u001b[39;00m \u001b[43mrequest\u001b[49m\u001b[43m(\u001b[49m\u001b[33;43m\"\u001b[39;49m\u001b[33;43mget\u001b[39;49m\u001b[33;43m\"\u001b[39;49m\u001b[43m,\u001b[49m\u001b[43m \u001b[49m\u001b[43murl\u001b[49m\u001b[43m,\u001b[49m\u001b[43m \u001b[49m\u001b[43mparams\u001b[49m\u001b[43m=\u001b[49m\u001b[43mparams\u001b[49m\u001b[43m,\u001b[49m\u001b[43m \u001b[49m\u001b[43m*\u001b[49m\u001b[43m*\u001b[49m\u001b[43mkwargs\u001b[49m\u001b[43m)\u001b[49m\n",
      "\u001b[36mFile \u001b[39m\u001b[32mc:\\git\\MUIV\\adaos\\.venv\\Lib\\site-packages\\requests\\api.py:59\u001b[39m, in \u001b[36mrequest\u001b[39m\u001b[34m(method, url, **kwargs)\u001b[39m\n\u001b[32m     55\u001b[39m \u001b[38;5;66;03m# By using the 'with' statement we are sure the session is closed, thus we\u001b[39;00m\n\u001b[32m     56\u001b[39m \u001b[38;5;66;03m# avoid leaving sockets open which can trigger a ResourceWarning in some\u001b[39;00m\n\u001b[32m     57\u001b[39m \u001b[38;5;66;03m# cases, and look like a memory leak in others.\u001b[39;00m\n\u001b[32m     58\u001b[39m \u001b[38;5;28;01mwith\u001b[39;00m sessions.Session() \u001b[38;5;28;01mas\u001b[39;00m session:\n\u001b[32m---> \u001b[39m\u001b[32m59\u001b[39m     \u001b[38;5;28;01mreturn\u001b[39;00m \u001b[43msession\u001b[49m\u001b[43m.\u001b[49m\u001b[43mrequest\u001b[49m\u001b[43m(\u001b[49m\u001b[43mmethod\u001b[49m\u001b[43m=\u001b[49m\u001b[43mmethod\u001b[49m\u001b[43m,\u001b[49m\u001b[43m \u001b[49m\u001b[43murl\u001b[49m\u001b[43m=\u001b[49m\u001b[43murl\u001b[49m\u001b[43m,\u001b[49m\u001b[43m \u001b[49m\u001b[43m*\u001b[49m\u001b[43m*\u001b[49m\u001b[43mkwargs\u001b[49m\u001b[43m)\u001b[49m\n",
      "\u001b[36mFile \u001b[39m\u001b[32mc:\\git\\MUIV\\adaos\\.venv\\Lib\\site-packages\\requests\\sessions.py:589\u001b[39m, in \u001b[36mSession.request\u001b[39m\u001b[34m(self, method, url, params, data, headers, cookies, files, auth, timeout, allow_redirects, proxies, hooks, stream, verify, cert, json)\u001b[39m\n\u001b[32m    584\u001b[39m send_kwargs = {\n\u001b[32m    585\u001b[39m     \u001b[33m\"\u001b[39m\u001b[33mtimeout\u001b[39m\u001b[33m\"\u001b[39m: timeout,\n\u001b[32m    586\u001b[39m     \u001b[33m\"\u001b[39m\u001b[33mallow_redirects\u001b[39m\u001b[33m\"\u001b[39m: allow_redirects,\n\u001b[32m    587\u001b[39m }\n\u001b[32m    588\u001b[39m send_kwargs.update(settings)\n\u001b[32m--> \u001b[39m\u001b[32m589\u001b[39m resp = \u001b[38;5;28;43mself\u001b[39;49m\u001b[43m.\u001b[49m\u001b[43msend\u001b[49m\u001b[43m(\u001b[49m\u001b[43mprep\u001b[49m\u001b[43m,\u001b[49m\u001b[43m \u001b[49m\u001b[43m*\u001b[49m\u001b[43m*\u001b[49m\u001b[43msend_kwargs\u001b[49m\u001b[43m)\u001b[49m\n\u001b[32m    591\u001b[39m \u001b[38;5;28;01mreturn\u001b[39;00m resp\n",
      "\u001b[36mFile \u001b[39m\u001b[32mc:\\git\\MUIV\\adaos\\.venv\\Lib\\site-packages\\requests\\sessions.py:703\u001b[39m, in \u001b[36mSession.send\u001b[39m\u001b[34m(self, request, **kwargs)\u001b[39m\n\u001b[32m    700\u001b[39m start = preferred_clock()\n\u001b[32m    702\u001b[39m \u001b[38;5;66;03m# Send the request\u001b[39;00m\n\u001b[32m--> \u001b[39m\u001b[32m703\u001b[39m r = \u001b[43madapter\u001b[49m\u001b[43m.\u001b[49m\u001b[43msend\u001b[49m\u001b[43m(\u001b[49m\u001b[43mrequest\u001b[49m\u001b[43m,\u001b[49m\u001b[43m \u001b[49m\u001b[43m*\u001b[49m\u001b[43m*\u001b[49m\u001b[43mkwargs\u001b[49m\u001b[43m)\u001b[49m\n\u001b[32m    705\u001b[39m \u001b[38;5;66;03m# Total elapsed time of the request (approximately)\u001b[39;00m\n\u001b[32m    706\u001b[39m elapsed = preferred_clock() - start\n",
      "\u001b[36mFile \u001b[39m\u001b[32mc:\\git\\MUIV\\adaos\\.venv\\Lib\\site-packages\\requests\\adapters.py:700\u001b[39m, in \u001b[36mHTTPAdapter.send\u001b[39m\u001b[34m(self, request, stream, timeout, verify, cert, proxies)\u001b[39m\n\u001b[32m    696\u001b[39m     \u001b[38;5;28;01mif\u001b[39;00m \u001b[38;5;28misinstance\u001b[39m(e.reason, _SSLError):\n\u001b[32m    697\u001b[39m         \u001b[38;5;66;03m# This branch is for urllib3 v1.22 and later.\u001b[39;00m\n\u001b[32m    698\u001b[39m         \u001b[38;5;28;01mraise\u001b[39;00m SSLError(e, request=request)\n\u001b[32m--> \u001b[39m\u001b[32m700\u001b[39m     \u001b[38;5;28;01mraise\u001b[39;00m \u001b[38;5;167;01mConnectionError\u001b[39;00m(e, request=request)\n\u001b[32m    702\u001b[39m \u001b[38;5;28;01mexcept\u001b[39;00m ClosedPoolError \u001b[38;5;28;01mas\u001b[39;00m e:\n\u001b[32m    703\u001b[39m     \u001b[38;5;28;01mraise\u001b[39;00m \u001b[38;5;167;01mConnectionError\u001b[39;00m(e, request=request)\n",
      "\u001b[31mConnectionError\u001b[39m: HTTPConnectionPool(host='127.0.0.1', port=8778): Max retries exceeded with url: /api/node/status (Caused by NewConnectionError('<urllib3.connection.HTTPConnection object at 0x000001D5B2C9C830>: Failed to establish a new connection: [WinError 10061] Подключение не установлено, т.к. конечный компьютер отверг запрос на подключение'))"
     ]
    }
   ],
   "source": [
    "import requests\n",
    "\n",
    "headers = {\"X-AdaOS-Token\": \"dev-local-token\"}\n",
    "\n",
    "# 1) проверить статус\n",
    "print(requests.get(\"http://127.0.0.1:8778/api/node/status\", headers=headers).json())\n",
    "\n",
    "# 2) сменить роль на member или hub (и задать hub_url)\n",
    "payload = {\"role\": \"member\", \"hub_url\": \"http://127.0.0.1:8777\"}\n",
    "print(requests.post(\"http://127.0.0.1:8778/api/node/role\", json=payload, headers=headers).json())\n",
    "\n",
    "# 3) снова статус — должен быть role=member, ready=true\n",
    "print(requests.get(\"http://127.0.0.1:8778/api/node/status\", headers=headers).json())"
   ]
  },
  {
   "cell_type": "code",
   "execution_count": 49,
   "id": "d79f8eb9",
   "metadata": {},
   "outputs": [
    {
     "name": "stdout",
     "output_type": "stream",
     "text": [
      "eb20131a-a2d6-48bb-b0ba-82add9bdd294\n"
     ]
    }
   ],
   "source": [
    "import requests\n",
    "\n",
    "headers = {\"X-AdaOS-Token\": \"dev-local-token\"}\n",
    "hub_status = requests.get(\"http://127.0.0.1:8777/api/node/status\", headers=headers).json()\n",
    "print(hub_status[\"subnet_id\"])"
   ]
  },
  {
   "cell_type": "code",
   "execution_count": 41,
   "id": "26faf401",
   "metadata": {},
   "outputs": [
    {
     "ename": "ConnectionError",
     "evalue": "HTTPConnectionPool(host='127.0.0.1', port=8778): Max retries exceeded with url: /api/node/role (Caused by NewConnectionError('<urllib3.connection.HTTPConnection object at 0x000001D5B2BF7320>: Failed to establish a new connection: [WinError 10061] Подключение не установлено, т.к. конечный компьютер отверг запрос на подключение'))",
     "output_type": "error",
     "traceback": [
      "\u001b[31m---------------------------------------------------------------------------\u001b[39m",
      "\u001b[31mConnectionRefusedError\u001b[39m                    Traceback (most recent call last)",
      "\u001b[36mFile \u001b[39m\u001b[32mc:\\git\\MUIV\\adaos\\.venv\\Lib\\site-packages\\urllib3\\connection.py:198\u001b[39m, in \u001b[36mHTTPConnection._new_conn\u001b[39m\u001b[34m(self)\u001b[39m\n\u001b[32m    197\u001b[39m \u001b[38;5;28;01mtry\u001b[39;00m:\n\u001b[32m--> \u001b[39m\u001b[32m198\u001b[39m     sock = \u001b[43mconnection\u001b[49m\u001b[43m.\u001b[49m\u001b[43mcreate_connection\u001b[49m\u001b[43m(\u001b[49m\n\u001b[32m    199\u001b[39m \u001b[43m        \u001b[49m\u001b[43m(\u001b[49m\u001b[38;5;28;43mself\u001b[39;49m\u001b[43m.\u001b[49m\u001b[43m_dns_host\u001b[49m\u001b[43m,\u001b[49m\u001b[43m \u001b[49m\u001b[38;5;28;43mself\u001b[39;49m\u001b[43m.\u001b[49m\u001b[43mport\u001b[49m\u001b[43m)\u001b[49m\u001b[43m,\u001b[49m\n\u001b[32m    200\u001b[39m \u001b[43m        \u001b[49m\u001b[38;5;28;43mself\u001b[39;49m\u001b[43m.\u001b[49m\u001b[43mtimeout\u001b[49m\u001b[43m,\u001b[49m\n\u001b[32m    201\u001b[39m \u001b[43m        \u001b[49m\u001b[43msource_address\u001b[49m\u001b[43m=\u001b[49m\u001b[38;5;28;43mself\u001b[39;49m\u001b[43m.\u001b[49m\u001b[43msource_address\u001b[49m\u001b[43m,\u001b[49m\n\u001b[32m    202\u001b[39m \u001b[43m        \u001b[49m\u001b[43msocket_options\u001b[49m\u001b[43m=\u001b[49m\u001b[38;5;28;43mself\u001b[39;49m\u001b[43m.\u001b[49m\u001b[43msocket_options\u001b[49m\u001b[43m,\u001b[49m\n\u001b[32m    203\u001b[39m \u001b[43m    \u001b[49m\u001b[43m)\u001b[49m\n\u001b[32m    204\u001b[39m \u001b[38;5;28;01mexcept\u001b[39;00m socket.gaierror \u001b[38;5;28;01mas\u001b[39;00m e:\n",
      "\u001b[36mFile \u001b[39m\u001b[32mc:\\git\\MUIV\\adaos\\.venv\\Lib\\site-packages\\urllib3\\util\\connection.py:85\u001b[39m, in \u001b[36mcreate_connection\u001b[39m\u001b[34m(address, timeout, source_address, socket_options)\u001b[39m\n\u001b[32m     84\u001b[39m \u001b[38;5;28;01mtry\u001b[39;00m:\n\u001b[32m---> \u001b[39m\u001b[32m85\u001b[39m     \u001b[38;5;28;01mraise\u001b[39;00m err\n\u001b[32m     86\u001b[39m \u001b[38;5;28;01mfinally\u001b[39;00m:\n\u001b[32m     87\u001b[39m     \u001b[38;5;66;03m# Break explicitly a reference cycle\u001b[39;00m\n",
      "\u001b[36mFile \u001b[39m\u001b[32mc:\\git\\MUIV\\adaos\\.venv\\Lib\\site-packages\\urllib3\\util\\connection.py:73\u001b[39m, in \u001b[36mcreate_connection\u001b[39m\u001b[34m(address, timeout, source_address, socket_options)\u001b[39m\n\u001b[32m     72\u001b[39m     sock.bind(source_address)\n\u001b[32m---> \u001b[39m\u001b[32m73\u001b[39m \u001b[43msock\u001b[49m\u001b[43m.\u001b[49m\u001b[43mconnect\u001b[49m\u001b[43m(\u001b[49m\u001b[43msa\u001b[49m\u001b[43m)\u001b[49m\n\u001b[32m     74\u001b[39m \u001b[38;5;66;03m# Break explicitly a reference cycle\u001b[39;00m\n",
      "\u001b[31mConnectionRefusedError\u001b[39m: [WinError 10061] Подключение не установлено, т.к. конечный компьютер отверг запрос на подключение",
      "\nThe above exception was the direct cause of the following exception:\n",
      "\u001b[31mNewConnectionError\u001b[39m                        Traceback (most recent call last)",
      "\u001b[36mFile \u001b[39m\u001b[32mc:\\git\\MUIV\\adaos\\.venv\\Lib\\site-packages\\urllib3\\connectionpool.py:787\u001b[39m, in \u001b[36mHTTPConnectionPool.urlopen\u001b[39m\u001b[34m(self, method, url, body, headers, retries, redirect, assert_same_host, timeout, pool_timeout, release_conn, chunked, body_pos, preload_content, decode_content, **response_kw)\u001b[39m\n\u001b[32m    786\u001b[39m \u001b[38;5;66;03m# Make the request on the HTTPConnection object\u001b[39;00m\n\u001b[32m--> \u001b[39m\u001b[32m787\u001b[39m response = \u001b[38;5;28;43mself\u001b[39;49m\u001b[43m.\u001b[49m\u001b[43m_make_request\u001b[49m\u001b[43m(\u001b[49m\n\u001b[32m    788\u001b[39m \u001b[43m    \u001b[49m\u001b[43mconn\u001b[49m\u001b[43m,\u001b[49m\n\u001b[32m    789\u001b[39m \u001b[43m    \u001b[49m\u001b[43mmethod\u001b[49m\u001b[43m,\u001b[49m\n\u001b[32m    790\u001b[39m \u001b[43m    \u001b[49m\u001b[43murl\u001b[49m\u001b[43m,\u001b[49m\n\u001b[32m    791\u001b[39m \u001b[43m    \u001b[49m\u001b[43mtimeout\u001b[49m\u001b[43m=\u001b[49m\u001b[43mtimeout_obj\u001b[49m\u001b[43m,\u001b[49m\n\u001b[32m    792\u001b[39m \u001b[43m    \u001b[49m\u001b[43mbody\u001b[49m\u001b[43m=\u001b[49m\u001b[43mbody\u001b[49m\u001b[43m,\u001b[49m\n\u001b[32m    793\u001b[39m \u001b[43m    \u001b[49m\u001b[43mheaders\u001b[49m\u001b[43m=\u001b[49m\u001b[43mheaders\u001b[49m\u001b[43m,\u001b[49m\n\u001b[32m    794\u001b[39m \u001b[43m    \u001b[49m\u001b[43mchunked\u001b[49m\u001b[43m=\u001b[49m\u001b[43mchunked\u001b[49m\u001b[43m,\u001b[49m\n\u001b[32m    795\u001b[39m \u001b[43m    \u001b[49m\u001b[43mretries\u001b[49m\u001b[43m=\u001b[49m\u001b[43mretries\u001b[49m\u001b[43m,\u001b[49m\n\u001b[32m    796\u001b[39m \u001b[43m    \u001b[49m\u001b[43mresponse_conn\u001b[49m\u001b[43m=\u001b[49m\u001b[43mresponse_conn\u001b[49m\u001b[43m,\u001b[49m\n\u001b[32m    797\u001b[39m \u001b[43m    \u001b[49m\u001b[43mpreload_content\u001b[49m\u001b[43m=\u001b[49m\u001b[43mpreload_content\u001b[49m\u001b[43m,\u001b[49m\n\u001b[32m    798\u001b[39m \u001b[43m    \u001b[49m\u001b[43mdecode_content\u001b[49m\u001b[43m=\u001b[49m\u001b[43mdecode_content\u001b[49m\u001b[43m,\u001b[49m\n\u001b[32m    799\u001b[39m \u001b[43m    \u001b[49m\u001b[43m*\u001b[49m\u001b[43m*\u001b[49m\u001b[43mresponse_kw\u001b[49m\u001b[43m,\u001b[49m\n\u001b[32m    800\u001b[39m \u001b[43m\u001b[49m\u001b[43m)\u001b[49m\n\u001b[32m    802\u001b[39m \u001b[38;5;66;03m# Everything went great!\u001b[39;00m\n",
      "\u001b[36mFile \u001b[39m\u001b[32mc:\\git\\MUIV\\adaos\\.venv\\Lib\\site-packages\\urllib3\\connectionpool.py:493\u001b[39m, in \u001b[36mHTTPConnectionPool._make_request\u001b[39m\u001b[34m(self, conn, method, url, body, headers, retries, timeout, chunked, response_conn, preload_content, decode_content, enforce_content_length)\u001b[39m\n\u001b[32m    492\u001b[39m \u001b[38;5;28;01mtry\u001b[39;00m:\n\u001b[32m--> \u001b[39m\u001b[32m493\u001b[39m     \u001b[43mconn\u001b[49m\u001b[43m.\u001b[49m\u001b[43mrequest\u001b[49m\u001b[43m(\u001b[49m\n\u001b[32m    494\u001b[39m \u001b[43m        \u001b[49m\u001b[43mmethod\u001b[49m\u001b[43m,\u001b[49m\n\u001b[32m    495\u001b[39m \u001b[43m        \u001b[49m\u001b[43murl\u001b[49m\u001b[43m,\u001b[49m\n\u001b[32m    496\u001b[39m \u001b[43m        \u001b[49m\u001b[43mbody\u001b[49m\u001b[43m=\u001b[49m\u001b[43mbody\u001b[49m\u001b[43m,\u001b[49m\n\u001b[32m    497\u001b[39m \u001b[43m        \u001b[49m\u001b[43mheaders\u001b[49m\u001b[43m=\u001b[49m\u001b[43mheaders\u001b[49m\u001b[43m,\u001b[49m\n\u001b[32m    498\u001b[39m \u001b[43m        \u001b[49m\u001b[43mchunked\u001b[49m\u001b[43m=\u001b[49m\u001b[43mchunked\u001b[49m\u001b[43m,\u001b[49m\n\u001b[32m    499\u001b[39m \u001b[43m        \u001b[49m\u001b[43mpreload_content\u001b[49m\u001b[43m=\u001b[49m\u001b[43mpreload_content\u001b[49m\u001b[43m,\u001b[49m\n\u001b[32m    500\u001b[39m \u001b[43m        \u001b[49m\u001b[43mdecode_content\u001b[49m\u001b[43m=\u001b[49m\u001b[43mdecode_content\u001b[49m\u001b[43m,\u001b[49m\n\u001b[32m    501\u001b[39m \u001b[43m        \u001b[49m\u001b[43menforce_content_length\u001b[49m\u001b[43m=\u001b[49m\u001b[43menforce_content_length\u001b[49m\u001b[43m,\u001b[49m\n\u001b[32m    502\u001b[39m \u001b[43m    \u001b[49m\u001b[43m)\u001b[49m\n\u001b[32m    504\u001b[39m \u001b[38;5;66;03m# We are swallowing BrokenPipeError (errno.EPIPE) since the server is\u001b[39;00m\n\u001b[32m    505\u001b[39m \u001b[38;5;66;03m# legitimately able to close the connection after sending a valid response.\u001b[39;00m\n\u001b[32m    506\u001b[39m \u001b[38;5;66;03m# With this behaviour, the received response is still readable.\u001b[39;00m\n",
      "\u001b[36mFile \u001b[39m\u001b[32mc:\\git\\MUIV\\adaos\\.venv\\Lib\\site-packages\\urllib3\\connection.py:494\u001b[39m, in \u001b[36mHTTPConnection.request\u001b[39m\u001b[34m(self, method, url, body, headers, chunked, preload_content, decode_content, enforce_content_length)\u001b[39m\n\u001b[32m    493\u001b[39m     \u001b[38;5;28mself\u001b[39m.putheader(header, value)\n\u001b[32m--> \u001b[39m\u001b[32m494\u001b[39m \u001b[38;5;28;43mself\u001b[39;49m\u001b[43m.\u001b[49m\u001b[43mendheaders\u001b[49m\u001b[43m(\u001b[49m\u001b[43m)\u001b[49m\n\u001b[32m    496\u001b[39m \u001b[38;5;66;03m# If we're given a body we start sending that in chunks.\u001b[39;00m\n",
      "\u001b[36mFile \u001b[39m\u001b[32m~\\AppData\\Local\\Programs\\Python\\Python312\\Lib\\http\\client.py:1314\u001b[39m, in \u001b[36mHTTPConnection.endheaders\u001b[39m\u001b[34m(self, message_body, encode_chunked)\u001b[39m\n\u001b[32m   1313\u001b[39m     \u001b[38;5;28;01mraise\u001b[39;00m CannotSendHeader()\n\u001b[32m-> \u001b[39m\u001b[32m1314\u001b[39m \u001b[38;5;28;43mself\u001b[39;49m\u001b[43m.\u001b[49m\u001b[43m_send_output\u001b[49m\u001b[43m(\u001b[49m\u001b[43mmessage_body\u001b[49m\u001b[43m,\u001b[49m\u001b[43m \u001b[49m\u001b[43mencode_chunked\u001b[49m\u001b[43m=\u001b[49m\u001b[43mencode_chunked\u001b[49m\u001b[43m)\u001b[49m\n",
      "\u001b[36mFile \u001b[39m\u001b[32m~\\AppData\\Local\\Programs\\Python\\Python312\\Lib\\http\\client.py:1074\u001b[39m, in \u001b[36mHTTPConnection._send_output\u001b[39m\u001b[34m(self, message_body, encode_chunked)\u001b[39m\n\u001b[32m   1073\u001b[39m \u001b[38;5;28;01mdel\u001b[39;00m \u001b[38;5;28mself\u001b[39m._buffer[:]\n\u001b[32m-> \u001b[39m\u001b[32m1074\u001b[39m \u001b[38;5;28;43mself\u001b[39;49m\u001b[43m.\u001b[49m\u001b[43msend\u001b[49m\u001b[43m(\u001b[49m\u001b[43mmsg\u001b[49m\u001b[43m)\u001b[49m\n\u001b[32m   1076\u001b[39m \u001b[38;5;28;01mif\u001b[39;00m message_body \u001b[38;5;129;01mis\u001b[39;00m \u001b[38;5;129;01mnot\u001b[39;00m \u001b[38;5;28;01mNone\u001b[39;00m:\n\u001b[32m   1077\u001b[39m \n\u001b[32m   1078\u001b[39m     \u001b[38;5;66;03m# create a consistent interface to message_body\u001b[39;00m\n",
      "\u001b[36mFile \u001b[39m\u001b[32m~\\AppData\\Local\\Programs\\Python\\Python312\\Lib\\http\\client.py:1018\u001b[39m, in \u001b[36mHTTPConnection.send\u001b[39m\u001b[34m(self, data)\u001b[39m\n\u001b[32m   1017\u001b[39m \u001b[38;5;28;01mif\u001b[39;00m \u001b[38;5;28mself\u001b[39m.auto_open:\n\u001b[32m-> \u001b[39m\u001b[32m1018\u001b[39m     \u001b[38;5;28;43mself\u001b[39;49m\u001b[43m.\u001b[49m\u001b[43mconnect\u001b[49m\u001b[43m(\u001b[49m\u001b[43m)\u001b[49m\n\u001b[32m   1019\u001b[39m \u001b[38;5;28;01melse\u001b[39;00m:\n",
      "\u001b[36mFile \u001b[39m\u001b[32mc:\\git\\MUIV\\adaos\\.venv\\Lib\\site-packages\\urllib3\\connection.py:325\u001b[39m, in \u001b[36mHTTPConnection.connect\u001b[39m\u001b[34m(self)\u001b[39m\n\u001b[32m    324\u001b[39m \u001b[38;5;28;01mdef\u001b[39;00m\u001b[38;5;250m \u001b[39m\u001b[34mconnect\u001b[39m(\u001b[38;5;28mself\u001b[39m) -> \u001b[38;5;28;01mNone\u001b[39;00m:\n\u001b[32m--> \u001b[39m\u001b[32m325\u001b[39m     \u001b[38;5;28mself\u001b[39m.sock = \u001b[38;5;28;43mself\u001b[39;49m\u001b[43m.\u001b[49m\u001b[43m_new_conn\u001b[49m\u001b[43m(\u001b[49m\u001b[43m)\u001b[49m\n\u001b[32m    326\u001b[39m     \u001b[38;5;28;01mif\u001b[39;00m \u001b[38;5;28mself\u001b[39m._tunnel_host:\n\u001b[32m    327\u001b[39m         \u001b[38;5;66;03m# If we're tunneling it means we're connected to our proxy.\u001b[39;00m\n",
      "\u001b[36mFile \u001b[39m\u001b[32mc:\\git\\MUIV\\adaos\\.venv\\Lib\\site-packages\\urllib3\\connection.py:213\u001b[39m, in \u001b[36mHTTPConnection._new_conn\u001b[39m\u001b[34m(self)\u001b[39m\n\u001b[32m    212\u001b[39m \u001b[38;5;28;01mexcept\u001b[39;00m \u001b[38;5;167;01mOSError\u001b[39;00m \u001b[38;5;28;01mas\u001b[39;00m e:\n\u001b[32m--> \u001b[39m\u001b[32m213\u001b[39m     \u001b[38;5;28;01mraise\u001b[39;00m NewConnectionError(\n\u001b[32m    214\u001b[39m         \u001b[38;5;28mself\u001b[39m, \u001b[33mf\u001b[39m\u001b[33m\"\u001b[39m\u001b[33mFailed to establish a new connection: \u001b[39m\u001b[38;5;132;01m{\u001b[39;00me\u001b[38;5;132;01m}\u001b[39;00m\u001b[33m\"\u001b[39m\n\u001b[32m    215\u001b[39m     ) \u001b[38;5;28;01mfrom\u001b[39;00m\u001b[38;5;250m \u001b[39m\u001b[34;01me\u001b[39;00m\n\u001b[32m    217\u001b[39m sys.audit(\u001b[33m\"\u001b[39m\u001b[33mhttp.client.connect\u001b[39m\u001b[33m\"\u001b[39m, \u001b[38;5;28mself\u001b[39m, \u001b[38;5;28mself\u001b[39m.host, \u001b[38;5;28mself\u001b[39m.port)\n",
      "\u001b[31mNewConnectionError\u001b[39m: <urllib3.connection.HTTPConnection object at 0x000001D5B2BF7320>: Failed to establish a new connection: [WinError 10061] Подключение не установлено, т.к. конечный компьютер отверг запрос на подключение",
      "\nThe above exception was the direct cause of the following exception:\n",
      "\u001b[31mMaxRetryError\u001b[39m                             Traceback (most recent call last)",
      "\u001b[36mFile \u001b[39m\u001b[32mc:\\git\\MUIV\\adaos\\.venv\\Lib\\site-packages\\requests\\adapters.py:667\u001b[39m, in \u001b[36mHTTPAdapter.send\u001b[39m\u001b[34m(self, request, stream, timeout, verify, cert, proxies)\u001b[39m\n\u001b[32m    666\u001b[39m \u001b[38;5;28;01mtry\u001b[39;00m:\n\u001b[32m--> \u001b[39m\u001b[32m667\u001b[39m     resp = \u001b[43mconn\u001b[49m\u001b[43m.\u001b[49m\u001b[43murlopen\u001b[49m\u001b[43m(\u001b[49m\n\u001b[32m    668\u001b[39m \u001b[43m        \u001b[49m\u001b[43mmethod\u001b[49m\u001b[43m=\u001b[49m\u001b[43mrequest\u001b[49m\u001b[43m.\u001b[49m\u001b[43mmethod\u001b[49m\u001b[43m,\u001b[49m\n\u001b[32m    669\u001b[39m \u001b[43m        \u001b[49m\u001b[43murl\u001b[49m\u001b[43m=\u001b[49m\u001b[43murl\u001b[49m\u001b[43m,\u001b[49m\n\u001b[32m    670\u001b[39m \u001b[43m        \u001b[49m\u001b[43mbody\u001b[49m\u001b[43m=\u001b[49m\u001b[43mrequest\u001b[49m\u001b[43m.\u001b[49m\u001b[43mbody\u001b[49m\u001b[43m,\u001b[49m\n\u001b[32m    671\u001b[39m \u001b[43m        \u001b[49m\u001b[43mheaders\u001b[49m\u001b[43m=\u001b[49m\u001b[43mrequest\u001b[49m\u001b[43m.\u001b[49m\u001b[43mheaders\u001b[49m\u001b[43m,\u001b[49m\n\u001b[32m    672\u001b[39m \u001b[43m        \u001b[49m\u001b[43mredirect\u001b[49m\u001b[43m=\u001b[49m\u001b[38;5;28;43;01mFalse\u001b[39;49;00m\u001b[43m,\u001b[49m\n\u001b[32m    673\u001b[39m \u001b[43m        \u001b[49m\u001b[43massert_same_host\u001b[49m\u001b[43m=\u001b[49m\u001b[38;5;28;43;01mFalse\u001b[39;49;00m\u001b[43m,\u001b[49m\n\u001b[32m    674\u001b[39m \u001b[43m        \u001b[49m\u001b[43mpreload_content\u001b[49m\u001b[43m=\u001b[49m\u001b[38;5;28;43;01mFalse\u001b[39;49;00m\u001b[43m,\u001b[49m\n\u001b[32m    675\u001b[39m \u001b[43m        \u001b[49m\u001b[43mdecode_content\u001b[49m\u001b[43m=\u001b[49m\u001b[38;5;28;43;01mFalse\u001b[39;49;00m\u001b[43m,\u001b[49m\n\u001b[32m    676\u001b[39m \u001b[43m        \u001b[49m\u001b[43mretries\u001b[49m\u001b[43m=\u001b[49m\u001b[38;5;28;43mself\u001b[39;49m\u001b[43m.\u001b[49m\u001b[43mmax_retries\u001b[49m\u001b[43m,\u001b[49m\n\u001b[32m    677\u001b[39m \u001b[43m        \u001b[49m\u001b[43mtimeout\u001b[49m\u001b[43m=\u001b[49m\u001b[43mtimeout\u001b[49m\u001b[43m,\u001b[49m\n\u001b[32m    678\u001b[39m \u001b[43m        \u001b[49m\u001b[43mchunked\u001b[49m\u001b[43m=\u001b[49m\u001b[43mchunked\u001b[49m\u001b[43m,\u001b[49m\n\u001b[32m    679\u001b[39m \u001b[43m    \u001b[49m\u001b[43m)\u001b[49m\n\u001b[32m    681\u001b[39m \u001b[38;5;28;01mexcept\u001b[39;00m (ProtocolError, \u001b[38;5;167;01mOSError\u001b[39;00m) \u001b[38;5;28;01mas\u001b[39;00m err:\n",
      "\u001b[36mFile \u001b[39m\u001b[32mc:\\git\\MUIV\\adaos\\.venv\\Lib\\site-packages\\urllib3\\connectionpool.py:841\u001b[39m, in \u001b[36mHTTPConnectionPool.urlopen\u001b[39m\u001b[34m(self, method, url, body, headers, retries, redirect, assert_same_host, timeout, pool_timeout, release_conn, chunked, body_pos, preload_content, decode_content, **response_kw)\u001b[39m\n\u001b[32m    839\u001b[39m     new_e = ProtocolError(\u001b[33m\"\u001b[39m\u001b[33mConnection aborted.\u001b[39m\u001b[33m\"\u001b[39m, new_e)\n\u001b[32m--> \u001b[39m\u001b[32m841\u001b[39m retries = \u001b[43mretries\u001b[49m\u001b[43m.\u001b[49m\u001b[43mincrement\u001b[49m\u001b[43m(\u001b[49m\n\u001b[32m    842\u001b[39m \u001b[43m    \u001b[49m\u001b[43mmethod\u001b[49m\u001b[43m,\u001b[49m\u001b[43m \u001b[49m\u001b[43murl\u001b[49m\u001b[43m,\u001b[49m\u001b[43m \u001b[49m\u001b[43merror\u001b[49m\u001b[43m=\u001b[49m\u001b[43mnew_e\u001b[49m\u001b[43m,\u001b[49m\u001b[43m \u001b[49m\u001b[43m_pool\u001b[49m\u001b[43m=\u001b[49m\u001b[38;5;28;43mself\u001b[39;49m\u001b[43m,\u001b[49m\u001b[43m \u001b[49m\u001b[43m_stacktrace\u001b[49m\u001b[43m=\u001b[49m\u001b[43msys\u001b[49m\u001b[43m.\u001b[49m\u001b[43mexc_info\u001b[49m\u001b[43m(\u001b[49m\u001b[43m)\u001b[49m\u001b[43m[\u001b[49m\u001b[32;43m2\u001b[39;49m\u001b[43m]\u001b[49m\n\u001b[32m    843\u001b[39m \u001b[43m\u001b[49m\u001b[43m)\u001b[49m\n\u001b[32m    844\u001b[39m retries.sleep()\n",
      "\u001b[36mFile \u001b[39m\u001b[32mc:\\git\\MUIV\\adaos\\.venv\\Lib\\site-packages\\urllib3\\util\\retry.py:519\u001b[39m, in \u001b[36mRetry.increment\u001b[39m\u001b[34m(self, method, url, response, error, _pool, _stacktrace)\u001b[39m\n\u001b[32m    518\u001b[39m     reason = error \u001b[38;5;129;01mor\u001b[39;00m ResponseError(cause)\n\u001b[32m--> \u001b[39m\u001b[32m519\u001b[39m     \u001b[38;5;28;01mraise\u001b[39;00m MaxRetryError(_pool, url, reason) \u001b[38;5;28;01mfrom\u001b[39;00m\u001b[38;5;250m \u001b[39m\u001b[34;01mreason\u001b[39;00m  \u001b[38;5;66;03m# type: ignore[arg-type]\u001b[39;00m\n\u001b[32m    521\u001b[39m log.debug(\u001b[33m\"\u001b[39m\u001b[33mIncremented Retry for (url=\u001b[39m\u001b[33m'\u001b[39m\u001b[38;5;132;01m%s\u001b[39;00m\u001b[33m'\u001b[39m\u001b[33m): \u001b[39m\u001b[38;5;132;01m%r\u001b[39;00m\u001b[33m\"\u001b[39m, url, new_retry)\n",
      "\u001b[31mMaxRetryError\u001b[39m: HTTPConnectionPool(host='127.0.0.1', port=8778): Max retries exceeded with url: /api/node/role (Caused by NewConnectionError('<urllib3.connection.HTTPConnection object at 0x000001D5B2BF7320>: Failed to establish a new connection: [WinError 10061] Подключение не установлено, т.к. конечный компьютер отверг запрос на подключение'))",
      "\nDuring handling of the above exception, another exception occurred:\n",
      "\u001b[31mConnectionError\u001b[39m                           Traceback (most recent call last)",
      "\u001b[36mCell\u001b[39m\u001b[36m \u001b[39m\u001b[32mIn[41]\u001b[39m\u001b[32m, line 2\u001b[39m\n\u001b[32m      1\u001b[39m payload = {\u001b[33m\"\u001b[39m\u001b[33mrole\u001b[39m\u001b[33m\"\u001b[39m: \u001b[33m\"\u001b[39m\u001b[33mhub\u001b[39m\u001b[33m\"\u001b[39m, \u001b[33m\"\u001b[39m\u001b[33mhub_url\u001b[39m\u001b[33m\"\u001b[39m: \u001b[33m\"\u001b[39m\u001b[33mhttp://127.0.0.1:8777\u001b[39m\u001b[33m\"\u001b[39m, \u001b[33m\"\u001b[39m\u001b[33msubnet_id\u001b[39m\u001b[33m\"\u001b[39m: hub_status[\u001b[33m\"\u001b[39m\u001b[33msubnet_id\u001b[39m\u001b[33m\"\u001b[39m]}\n\u001b[32m----> \u001b[39m\u001b[32m2\u001b[39m \u001b[38;5;28mprint\u001b[39m(\u001b[43mrequests\u001b[49m\u001b[43m.\u001b[49m\u001b[43mpost\u001b[49m\u001b[43m(\u001b[49m\u001b[33;43m\"\u001b[39;49m\u001b[33;43mhttp://127.0.0.1:8778/api/node/role\u001b[39;49m\u001b[33;43m\"\u001b[39;49m\u001b[43m,\u001b[49m\u001b[43m \u001b[49m\u001b[43mjson\u001b[49m\u001b[43m=\u001b[49m\u001b[43mpayload\u001b[49m\u001b[43m,\u001b[49m\u001b[43m \u001b[49m\u001b[43mheaders\u001b[49m\u001b[43m=\u001b[49m\u001b[43mheaders\u001b[49m\u001b[43m)\u001b[49m.json())\n",
      "\u001b[36mFile \u001b[39m\u001b[32mc:\\git\\MUIV\\adaos\\.venv\\Lib\\site-packages\\requests\\api.py:115\u001b[39m, in \u001b[36mpost\u001b[39m\u001b[34m(url, data, json, **kwargs)\u001b[39m\n\u001b[32m    103\u001b[39m \u001b[38;5;28;01mdef\u001b[39;00m\u001b[38;5;250m \u001b[39m\u001b[34mpost\u001b[39m(url, data=\u001b[38;5;28;01mNone\u001b[39;00m, json=\u001b[38;5;28;01mNone\u001b[39;00m, **kwargs):\n\u001b[32m    104\u001b[39m \u001b[38;5;250m    \u001b[39m\u001b[33mr\u001b[39m\u001b[33;03m\"\"\"Sends a POST request.\u001b[39;00m\n\u001b[32m    105\u001b[39m \n\u001b[32m    106\u001b[39m \u001b[33;03m    :param url: URL for the new :class:`Request` object.\u001b[39;00m\n\u001b[32m   (...)\u001b[39m\u001b[32m    112\u001b[39m \u001b[33;03m    :rtype: requests.Response\u001b[39;00m\n\u001b[32m    113\u001b[39m \u001b[33;03m    \"\"\"\u001b[39;00m\n\u001b[32m--> \u001b[39m\u001b[32m115\u001b[39m     \u001b[38;5;28;01mreturn\u001b[39;00m \u001b[43mrequest\u001b[49m\u001b[43m(\u001b[49m\u001b[33;43m\"\u001b[39;49m\u001b[33;43mpost\u001b[39;49m\u001b[33;43m\"\u001b[39;49m\u001b[43m,\u001b[49m\u001b[43m \u001b[49m\u001b[43murl\u001b[49m\u001b[43m,\u001b[49m\u001b[43m \u001b[49m\u001b[43mdata\u001b[49m\u001b[43m=\u001b[49m\u001b[43mdata\u001b[49m\u001b[43m,\u001b[49m\u001b[43m \u001b[49m\u001b[43mjson\u001b[49m\u001b[43m=\u001b[49m\u001b[43mjson\u001b[49m\u001b[43m,\u001b[49m\u001b[43m \u001b[49m\u001b[43m*\u001b[49m\u001b[43m*\u001b[49m\u001b[43mkwargs\u001b[49m\u001b[43m)\u001b[49m\n",
      "\u001b[36mFile \u001b[39m\u001b[32mc:\\git\\MUIV\\adaos\\.venv\\Lib\\site-packages\\requests\\api.py:59\u001b[39m, in \u001b[36mrequest\u001b[39m\u001b[34m(method, url, **kwargs)\u001b[39m\n\u001b[32m     55\u001b[39m \u001b[38;5;66;03m# By using the 'with' statement we are sure the session is closed, thus we\u001b[39;00m\n\u001b[32m     56\u001b[39m \u001b[38;5;66;03m# avoid leaving sockets open which can trigger a ResourceWarning in some\u001b[39;00m\n\u001b[32m     57\u001b[39m \u001b[38;5;66;03m# cases, and look like a memory leak in others.\u001b[39;00m\n\u001b[32m     58\u001b[39m \u001b[38;5;28;01mwith\u001b[39;00m sessions.Session() \u001b[38;5;28;01mas\u001b[39;00m session:\n\u001b[32m---> \u001b[39m\u001b[32m59\u001b[39m     \u001b[38;5;28;01mreturn\u001b[39;00m \u001b[43msession\u001b[49m\u001b[43m.\u001b[49m\u001b[43mrequest\u001b[49m\u001b[43m(\u001b[49m\u001b[43mmethod\u001b[49m\u001b[43m=\u001b[49m\u001b[43mmethod\u001b[49m\u001b[43m,\u001b[49m\u001b[43m \u001b[49m\u001b[43murl\u001b[49m\u001b[43m=\u001b[49m\u001b[43murl\u001b[49m\u001b[43m,\u001b[49m\u001b[43m \u001b[49m\u001b[43m*\u001b[49m\u001b[43m*\u001b[49m\u001b[43mkwargs\u001b[49m\u001b[43m)\u001b[49m\n",
      "\u001b[36mFile \u001b[39m\u001b[32mc:\\git\\MUIV\\adaos\\.venv\\Lib\\site-packages\\requests\\sessions.py:589\u001b[39m, in \u001b[36mSession.request\u001b[39m\u001b[34m(self, method, url, params, data, headers, cookies, files, auth, timeout, allow_redirects, proxies, hooks, stream, verify, cert, json)\u001b[39m\n\u001b[32m    584\u001b[39m send_kwargs = {\n\u001b[32m    585\u001b[39m     \u001b[33m\"\u001b[39m\u001b[33mtimeout\u001b[39m\u001b[33m\"\u001b[39m: timeout,\n\u001b[32m    586\u001b[39m     \u001b[33m\"\u001b[39m\u001b[33mallow_redirects\u001b[39m\u001b[33m\"\u001b[39m: allow_redirects,\n\u001b[32m    587\u001b[39m }\n\u001b[32m    588\u001b[39m send_kwargs.update(settings)\n\u001b[32m--> \u001b[39m\u001b[32m589\u001b[39m resp = \u001b[38;5;28;43mself\u001b[39;49m\u001b[43m.\u001b[49m\u001b[43msend\u001b[49m\u001b[43m(\u001b[49m\u001b[43mprep\u001b[49m\u001b[43m,\u001b[49m\u001b[43m \u001b[49m\u001b[43m*\u001b[49m\u001b[43m*\u001b[49m\u001b[43msend_kwargs\u001b[49m\u001b[43m)\u001b[49m\n\u001b[32m    591\u001b[39m \u001b[38;5;28;01mreturn\u001b[39;00m resp\n",
      "\u001b[36mFile \u001b[39m\u001b[32mc:\\git\\MUIV\\adaos\\.venv\\Lib\\site-packages\\requests\\sessions.py:703\u001b[39m, in \u001b[36mSession.send\u001b[39m\u001b[34m(self, request, **kwargs)\u001b[39m\n\u001b[32m    700\u001b[39m start = preferred_clock()\n\u001b[32m    702\u001b[39m \u001b[38;5;66;03m# Send the request\u001b[39;00m\n\u001b[32m--> \u001b[39m\u001b[32m703\u001b[39m r = \u001b[43madapter\u001b[49m\u001b[43m.\u001b[49m\u001b[43msend\u001b[49m\u001b[43m(\u001b[49m\u001b[43mrequest\u001b[49m\u001b[43m,\u001b[49m\u001b[43m \u001b[49m\u001b[43m*\u001b[49m\u001b[43m*\u001b[49m\u001b[43mkwargs\u001b[49m\u001b[43m)\u001b[49m\n\u001b[32m    705\u001b[39m \u001b[38;5;66;03m# Total elapsed time of the request (approximately)\u001b[39;00m\n\u001b[32m    706\u001b[39m elapsed = preferred_clock() - start\n",
      "\u001b[36mFile \u001b[39m\u001b[32mc:\\git\\MUIV\\adaos\\.venv\\Lib\\site-packages\\requests\\adapters.py:700\u001b[39m, in \u001b[36mHTTPAdapter.send\u001b[39m\u001b[34m(self, request, stream, timeout, verify, cert, proxies)\u001b[39m\n\u001b[32m    696\u001b[39m     \u001b[38;5;28;01mif\u001b[39;00m \u001b[38;5;28misinstance\u001b[39m(e.reason, _SSLError):\n\u001b[32m    697\u001b[39m         \u001b[38;5;66;03m# This branch is for urllib3 v1.22 and later.\u001b[39;00m\n\u001b[32m    698\u001b[39m         \u001b[38;5;28;01mraise\u001b[39;00m SSLError(e, request=request)\n\u001b[32m--> \u001b[39m\u001b[32m700\u001b[39m     \u001b[38;5;28;01mraise\u001b[39;00m \u001b[38;5;167;01mConnectionError\u001b[39;00m(e, request=request)\n\u001b[32m    702\u001b[39m \u001b[38;5;28;01mexcept\u001b[39;00m ClosedPoolError \u001b[38;5;28;01mas\u001b[39;00m e:\n\u001b[32m    703\u001b[39m     \u001b[38;5;28;01mraise\u001b[39;00m \u001b[38;5;167;01mConnectionError\u001b[39;00m(e, request=request)\n",
      "\u001b[31mConnectionError\u001b[39m: HTTPConnectionPool(host='127.0.0.1', port=8778): Max retries exceeded with url: /api/node/role (Caused by NewConnectionError('<urllib3.connection.HTTPConnection object at 0x000001D5B2BF7320>: Failed to establish a new connection: [WinError 10061] Подключение не установлено, т.к. конечный компьютер отверг запрос на подключение'))"
     ]
    }
   ],
   "source": [
    "payload = {\"role\": \"hub\", \"hub_url\": \"http://127.0.0.1:8777\", \"subnet_id\": hub_status[\"subnet_id\"]}\n",
    "print(requests.post(\"http://127.0.0.1:8778/api/node/role\", json=payload, headers=headers).json())"
   ]
  },
  {
   "cell_type": "code",
   "execution_count": 42,
   "id": "61f54c8b",
   "metadata": {},
   "outputs": [
    {
     "name": "stdout",
     "output_type": "stream",
     "text": [
      "{\"ok\":true,\"nodes\":[]}\n"
     ]
    },
    {
     "name": "stderr",
     "output_type": "stream",
     "text": [
      "  % Total    % Received % Xferd  Average Speed   Time    Time     Time  Current\n",
      "                                 Dload  Upload   Total   Spent    Left  Speed\n",
      "\n",
      "  0     0    0     0    0     0      0      0 --:--:-- --:--:-- --:--:--     0\n",
      "100    22  100    22    0     0   4385      0 --:--:-- --:--:-- --:--:--  5500\n"
     ]
    }
   ],
   "source": [
    "!curl -H \"X-AdaOS-Token: dev-local-token\" http://127.0.0.1:8777/api/subnet/nodes\n"
   ]
  },
  {
   "cell_type": "code",
   "execution_count": 43,
   "id": "b44bd576",
   "metadata": {},
   "outputs": [
    {
     "name": "stdout",
     "output_type": "stream",
     "text": [
      "\n",
      "==================== HEALTH (hub & member) ====================\n",
      "\n",
      "hub/live:\n",
      "{\n",
      "  \"ok\": true,\n",
      "  \"status\": 200,\n",
      "  \"url\": \"http://127.0.0.1:8777/health/live\",\n",
      "  \"data\": {\n",
      "    \"ok\": true\n",
      "  },\n",
      "  \"headers\": {\n",
      "    \"date\": \"Thu, 11 Sep 2025 13:52:16 GMT\",\n",
      "    \"server\": \"uvicorn\",\n",
      "    \"content-length\": \"11\",\n",
      "    \"content-type\": \"application/json\"\n",
      "  }\n",
      "}\n",
      "\n",
      "hub/ready:\n",
      "{\n",
      "  \"ok\": true,\n",
      "  \"status\": 200,\n",
      "  \"url\": \"http://127.0.0.1:8777/health/ready\",\n",
      "  \"data\": {\n",
      "    \"ok\": true\n",
      "  },\n",
      "  \"headers\": {\n",
      "    \"date\": \"Thu, 11 Sep 2025 13:52:16 GMT\",\n",
      "    \"server\": \"uvicorn\",\n",
      "    \"content-length\": \"11\",\n",
      "    \"content-type\": \"application/json\"\n",
      "  }\n",
      "}\n",
      "\n",
      "member/live:\n",
      "{\n",
      "  \"ok\": false,\n",
      "  \"status\": null,\n",
      "  \"url\": \"http://127.0.0.1:8778/health/live\",\n",
      "  \"error\": \"HTTPConnectionPool(host='127.0.0.1', port=8778): Max retries exceeded with url: /health/live (Caused by NewConnectionError('<urllib3.connection.HTTPConnection object at 0x000001D5B3B21DC0>: Failed to establish a new connection: [WinError 10061] Подключение не установлено, т.к. конечный компьютер отверг запрос на подключение'))\"\n",
      "}\n",
      "\n",
      "member/ready:\n",
      "{\n",
      "  \"ok\": false,\n",
      "  \"status\": null,\n",
      "  \"url\": \"http://127.0.0.1:8778/health/ready\",\n",
      "  \"error\": \"HTTPConnectionPool(host='127.0.0.1', port=8778): Max retries exceeded with url: /health/ready (Caused by NewConnectionError('<urllib3.connection.HTTPConnection object at 0x000001D5B3B21BE0>: Failed to establish a new connection: [WinError 10061] Подключение не установлено, т.к. конечный компьютер отверг запрос на подключение'))\"\n",
      "}\n",
      "\n",
      "==================== NODE STATUS (hub & member) ====================\n",
      "\n",
      "hub status:\n",
      "{\n",
      "  \"ok\": true,\n",
      "  \"status\": 200,\n",
      "  \"url\": \"http://127.0.0.1:8777/api/node/status\",\n",
      "  \"data\": {\n",
      "    \"node_id\": \"e7f6d431-9a32-4474-89f1-da6aac89ed9b\",\n",
      "    \"subnet_id\": \"eb20131a-a2d6-48bb-b0ba-82add9bdd294\",\n",
      "    \"role\": \"hub\",\n",
      "    \"hub_url\": \"http://127.0.0.1:8777\",\n",
      "    \"ready\": true\n",
      "  },\n",
      "  \"headers\": {\n",
      "    \"date\": \"Thu, 11 Sep 2025 13:52:19 GMT\",\n",
      "    \"server\": \"uvicorn\",\n",
      "    \"content-length\": \"161\",\n",
      "    \"content-type\": \"application/json\"\n",
      "  }\n",
      "}\n",
      "\n",
      "member status:\n",
      "{\n",
      "  \"ok\": false,\n",
      "  \"status\": null,\n",
      "  \"url\": \"http://127.0.0.1:8778/api/node/status\",\n",
      "  \"error\": \"HTTPConnectionPool(host='127.0.0.1', port=8778): Max retries exceeded with url: /api/node/status (Caused by NewConnectionError('<urllib3.connection.HTTPConnection object at 0x000001D5B3C7D3D0>: Failed to establish a new connection: [WinError 10061] Подключение не установлено, т.к. конечный компьютер отверг запрос на подключение'))\"\n",
      "}\n",
      "\n",
      "==================== SUBNET /api/subnet/nodes ====================\n",
      "\n",
      "nodes:\n",
      "{\n",
      "  \"ok\": true,\n",
      "  \"status\": 200,\n",
      "  \"url\": \"http://127.0.0.1:8777/api/subnet/nodes\",\n",
      "  \"data\": {\n",
      "    \"ok\": true,\n",
      "    \"nodes\": []\n",
      "  },\n",
      "  \"headers\": {\n",
      "    \"date\": \"Thu, 11 Sep 2025 13:52:21 GMT\",\n",
      "    \"server\": \"uvicorn\",\n",
      "    \"content-length\": \"22\",\n",
      "    \"content-type\": \"application/json\"\n",
      "  }\n",
      "}\n",
      "\n",
      "==================== TOOLS CALL → weather_skill:get_weather ====================\n",
      "\n",
      "tool call response:\n",
      "{\n",
      "  \"ok\": false,\n",
      "  \"status\": null,\n",
      "  \"url\": \"http://127.0.0.1:8778/api/tools/call\",\n",
      "  \"error\": \"HTTPConnectionPool(host='127.0.0.1', port=8778): Max retries exceeded with url: /api/tools/call (Caused by NewConnectionError('<urllib3.connection.HTTPConnection object at 0x000001D5B3B20AA0>: Failed to establish a new connection: [WinError 10061] Подключение не установлено, т.к. конечный компьютер отверг запрос на подключение'))\"\n",
      "}\n",
      "\n",
      "==================== OBSERVE TAIL last 120 lines (hub) ====================\n",
      "tail lines: 120\n",
      "{\"ts\": 1756977008.8735054, \"topic\": \"sys.bus.ready\", \"payload\": {}, \"trace\": \"d19d10ef-89a8-491d-a915-b9ec11f43b58\", \"source\": \"lifecycle\", \"actor\": \"system\", \"node_id\": \"e7f6d431-9a32-4474-89f1-da6aac89ed9b\", \"role\": \"hub\"}\n",
      "{\"ts\": 1756977008.8765097, \"topic\": \"net.subnet.hub.ready\", \"payload\": {\"subnet_id\": \"eb20131a-a2d6-48bb-b0ba-82add9bdd294\"}, \"trace\": \"3c85f8cb-18b8-4f84-99fb-7a12f893d8f1\", \"source\": \"lifecycle\", \"actor\": \"system\", \"node_id\": \"e7f6d431-9a32-4474-89f1-da6aac89ed9b\", \"role\": \"hub\"}\n",
      "{\"ts\": 1756977008.8785083, \"topic\": \"sys.ready\", \"payload\": {\"ts\": 1756977008.8775094}, \"trace\": \"a1c4d1c3-0b73-498c-ba4d-3737771e0145\", \"source\": \"lifecycle\", \"actor\": \"system\", \"node_id\": \"e7f6d431-9a32-4474-89f1-da6aac89ed9b\", \"role\": \"hub\"}\n",
      "{\"ts\": 1756978110.2234228, \"topic\": \"sys.boot.start\", \"payload\": {\"role\": \"hub\", \"node_id\": \"e7f6d431-9a32-4474-89f1-da6aac89ed9b\", \"subnet_id\": \"eb20131a-a2d6-48bb-b0ba-82add9bdd294\"}, \"trace\": \"b0cc4aac-0922-4c76-8029-43b718559c98\", \"source\": \"lifecycle\", \"actor\": \"system\", \"node_id\": \"e7f6d431-9a32-4474-89f1-da6aac89ed9b\", \"role\": \"hub\"}\n",
      "{\"ts\": 1756978110.2304237, \"topic\": \"sys.bus.ready\", \"payload\": {}, \"trace\": \"e6f17319-364e-4d5d-8e99-18885d2cd9d0\", \"source\": \"lifecycle\", \"actor\": \"system\", \"node_id\": \"e7f6d431-9a32-4474-89f1-da6aac89ed9b\", \"role\": \"hub\"}\n",
      "{\"ts\": 1756978110.2324238, \"topic\": \"net.subnet.hub.ready\", \"payload\": {\"subnet_id\": \"eb20131a-a2d6-48bb-b0ba-82add9bdd294\"}, \"trace\": \"090380fa-5fdb-4951-9afc-f494f7d214fc\", \"source\": \"lifecycle\", \"actor\": \"system\", \"node_id\": \"e7f6d431-9a32-4474-89f1-da6aac89ed9b\", \"role\": \"hub\"}\n",
      "{\"ts\": 1756978110.2334242, \"topic\": \"sys.ready\", \"payload\": {\"ts\": 1756978110.2334242}, \"trace\": \"7558c897-64bb-41c4-b131-135cf16e2ebe\", \"source\": \"lifecycle\", \"actor\": \"system\", \"node_id\": \"e7f6d431-9a32-4474-89f1-da6aac89ed9b\", \"role\": \"hub\"}\n",
      "{\"ts\": 1756978474.331143, \"topic\": \"sys.boot.start\", \"payload\": {\"role\": \"hub\", \"node_id\": \"e7f6d431-9a32-4474-89f1-da6aac89ed9b\", \"subnet_id\": \"eb20131a-a2d6-48bb-b0ba-82add9bdd294\"}, \"trace\": \"83527d05-cd10-4730-86d1-675b1d1e529b\", \"source\": \"lifecycle\", \"actor\": \"system\", \"node_id\": \"e7f6d431-9a32-4474-89f1-da6aac89ed9b\", \"role\": \"hub\"}\n",
      "{\"ts\": 1756978474.3411436, \"topic\": \"sys.bus.ready\", \"payload\": {}, \"trace\": \"08ac8e0c-3813-44fc-b47a-4908bada94d8\", \"source\": \"lifecycle\", \"actor\": \"system\", \"node_id\": \"e7f6d431-9a32-4474-89f1-da6aac89ed9b\", \"role\": \"hub\"}\n",
      "{\"ts\": 1756978474.3431432, \"topic\": \"net.subnet.hub.ready\", \"payload\": {\"subnet_id\": \"eb20131a-a2d6-48bb-b0ba-82add9bdd294\"}, \"trace\": \"38e51166-3e63-4e20-92df-17b90dc66013\", \"source\": \"lifecycle\", \"actor\": \"system\", \"node_id\": \"e7f6d431-9a32-4474-89f1-da6aac89ed9b\", \"role\": \"hub\"}\n",
      "{\"ts\": 1756978474.3451424, \"topic\": \"sys.ready\", \"payload\": {\"ts\": 1756978474.3441434}, \"trace\": \"45a5a6a6-8137-463f-9721-bb1b1b89f410\", \"source\": \"lifecycle\", \"actor\": \"system\", \"node_id\": \"e7f6d431-9a32-4474-89f1-da6aac89ed9b\", \"role\": \"hub\"}\n",
      "{\"ts\": 1756978946.3359857, \"topic\": \"sys.boot.start\", \"payload\": {\"role\": \"hub\", \"node_id\": \"e7f6d431-9a32-4474-89f1-da6aac89ed9b\", \"subnet_id\": \"eb20131a-a2d6-48bb-b0ba-82add9bdd294\"}, \"trace\": \"2544c346-934e-4d36-bba0-a5a00aa7865f\", \"source\": \"lifecycle\", \"actor\": \"system\", \"node_id\": \"e7f6d431-9a32-4474-89f1-da6aac89ed9b\", \"role\": \"hub\"}\n",
      "{\"ts\": 1756978946.3449867, \"topic\": \"sys.bus.ready\", \"payload\": {}, \"trace\": \"a7d179b1-1283-45ed-9ab3-655b865d6dfd\", \"source\": \"lifecycle\", \"actor\": \"system\", \"node_id\": \"e7f6d431-9a32-4474-89f1-da6aac89ed9b\", \"role\": \"hub\"}\n",
      "{\"ts\": 1756978946.346985, \"topic\": \"net.subnet.hub.ready\", \"payload\": {\"subnet_id\": \"eb20131a-a2d6-48bb-b0ba-82add9bdd294\"}, \"trace\": \"be119d8d-c6ca-4a56-b8c7-7d9f0b86d9c8\", \"source\": \"lifecycle\", \"actor\": \"system\", \"node_id\": \"e7f6d431-9a32-4474-89f1-da6aac89ed9b\", \"role\": \"hub\"}\n",
      "{\"ts\": 1756978946.3489845, \"topic\": \"sys.ready\", \"payload\": {\"ts\": 1756978946.3479865}, \"trace\": \"db741d4b-a177-4d4e-a29b-1375a5220a7a\", \"source\": \"lifecycle\", \"actor\": \"system\", \"node_id\": \"e7f6d431-9a32-4474-89f1-da6aac89ed9b\", \"role\": \"hub\"}\n",
      "{\"ts\": 1756978975.1661818, \"topic\": \"sys.boot.start\", \"payload\": {\"role\": \"hub\", \"node_id\": \"e7f6d431-9a32-4474-89f1-da6aac89ed9b\", \"subnet_id\": \"eb20131a-a2d6-48bb-b0ba-82add9bdd294\"}, \"trace\": \"3d48e92e-fc89-4420-bdae-9cea7b429787\", \"source\": \"lifecycle\", \"actor\": \"system\", \"node_id\": \"e7f6d431-9a32-4474-89f1-da6aac89ed9b\", \"role\": \"hub\"}\n",
      "{\"ts\": 1756978975.1731822, \"topic\": \"sys.bus.ready\", \"payload\": {}, \"trace\": \"79a7b71f-76dc-473d-9fc9-7280d9251fd1\", \"source\": \"lifecycle\", \"actor\": \"system\", \"node_id\": \"e7f6d431-9a32-4474-89f1-da6aac89ed9b\", \"role\": \"hub\"}\n",
      "{\"ts\": 1756978975.1741822, \"topic\": \"net.subnet.hub.ready\", \"payload\": {\"subnet_id\": \"eb20131a-a2d6-48bb-b0ba-82add9bdd294\"}, \"trace\": \"d43d556f-73d0-4123-ba17-c6a72394bce2\", \"source\": \"lifecycle\", \"actor\": \"system\", \"node_id\": \"e7f6d431-9a32-4474-89f1-da6aac89ed9b\", \"role\": \"hub\"}\n",
      "{\"ts\": 1756978975.1761816, \"topic\": \"sys.ready\", \"payload\": {\"ts\": 1756978975.1751816}, \"trace\": \"0d6ff3b0-ebcc-44d0-8769-5892dc2b6076\", \"source\": \"lifecycle\", \"actor\": \"system\", \"node_id\": \"e7f6d431-9a32-4474-89f1-da6aac89ed9b\", \"role\": \"hub\"}\n",
      "{\"ts\": 1756979035.5168848, \"topic\": \"sys.boot.start\", \"payload\": {\"role\": \"hub\", \"node_id\": \"e7f6d431-9a32-4474-89f1-da6aac89ed9b\", \"subnet_id\": \"eb20131a-a2d6-48bb-b0ba-82add9bdd294\"}, \"trace\": \"fb1b8375-fd3d-4088-abb4-3fa02ee43e49\", \"source\": \"lifecycle\", \"actor\": \"system\", \"node_id\": \"e7f6d431-9a32-4474-89f1-da6aac89ed9b\", \"role\": \"hub\"}\n",
      "{\"ts\": 1756979035.5248835, \"topic\": \"sys.bus.ready\", \"payload\": {}, \"trace\": \"1e6324de-a824-4e4d-bb4c-b45d20be97e5\", \"source\": \"lifecycle\", \"actor\": \"system\", \"node_id\": \"e7f6d431-9a32-4474-89f1-da6aac89ed9b\", \"role\": \"hub\"}\n",
      "{\"ts\": 1756979035.5258853, \"topic\": \"net.subnet.hub.ready\", \"payload\": {\"subnet_id\": \"eb20131a-a2d6-48bb-b0ba-82add9bdd294\"}, \"trace\": \"e3a74c25-816b-4104-967d-c9f38f46ab38\", \"source\": \"lifecycle\", \"actor\": \"system\", \"node_id\": \"e7f6d431-9a32-4474-89f1-da6aac89ed9b\", \"role\": \"hub\"}\n",
      "{\"ts\": 1756979035.527887, \"topic\": \"sys.ready\", \"payload\": {\"ts\": 1756979035.526885}, \"trace\": \"4bd8d114-7a51-4918-ba04-8580524f8cd3\", \"source\": \"lifecycle\", \"actor\": \"system\", \"node_id\": \"e7f6d431-9a32-4474-89f1-da6aac89ed9b\", \"role\": \"hub\"}\n",
      "{\"ts\": 1756979088.1217546, \"topic\": \"sys.boot.start\", \"payload\": {\"role\": \"hub\", \"node_id\": \"e7f6d431-9a32-4474-89f1-da6aac89ed9b\", \"subnet_id\": \"eb20131a-a2d6-48bb-b0ba-82add9bdd294\"}, \"trace\": \"25e59f7c-706c-4722-893e-80ed7af07143\", \"source\": \"lifecycle\", \"actor\": \"system\", \"node_id\": \"e7f6d431-9a32-4474-89f1-da6aac89ed9b\", \"role\": \"hub\"}\n",
      "{\"ts\": 1756979088.1300936, \"topic\": \"sys.bus.ready\", \"payload\": {}, \"trace\": \"57d2d70e-bbef-4b67-bfae-38261841a199\", \"source\": \"lifecycle\", \"actor\": \"system\", \"node_id\": \"e7f6d431-9a32-4474-89f1-da6aac89ed9b\", \"role\": \"hub\"}\n",
      "{\"ts\": 1756979088.1322927, \"topic\": \"net.subnet.hub.ready\", \"payload\": {\"subnet_id\": \"eb20131a-a2d6-48bb-b0ba-82add9bdd294\"}, \"trace\": \"aba07ad2-7996-4123-8a4d-4c82ff5823e8\", \"source\": \"lifecycle\", \"actor\": \"system\", \"node_id\": \"e7f6d431-9a32-4474-89f1-da6aac89ed9b\", \"role\": \"hub\"}\n",
      "{\"ts\": 1756979088.1359005, \"topic\": \"sys.ready\", \"payload\": {\"ts\": 1756979088.1343012}, \"trace\": \"3f6744a5-f07d-4a1a-a237-7dadbc70fad1\", \"source\": \"lifecycle\", \"actor\": \"system\", \"node_id\": \"e7f6d431-9a32-4474-89f1-da6aac89ed9b\", \"role\": \"hub\"}\n",
      "{\"ts\": 1756979100.6188796, \"topic\": \"sys.boot.start\", \"payload\": {\"role\": \"hub\", \"node_id\": \"e7f6d431-9a32-4474-89f1-da6aac89ed9b\", \"subnet_id\": \"eb20131a-a2d6-48bb-b0ba-82add9bdd294\"}, \"trace\": \"336c88c4-384b-4e0b-aa74-b8f18cca8ca2\", \"source\": \"lifecycle\", \"actor\": \"system\", \"node_id\": \"e7f6d431-9a32-4474-89f1-da6aac89ed9b\", \"role\": \"hub\"}\n",
      "{\"ts\": 1756979100.6258855, \"topic\": \"sys.bus.ready\", \"payload\": {}, \"trace\": \"80624f51-eca2-416b-aaea-60566ea87a7e\", \"source\": \"lifecycle\", \"actor\": \"system\", \"node_id\": \"e7f6d431-9a32-4474-89f1-da6aac89ed9b\", \"role\": \"hub\"}\n",
      "{\"ts\": 1756979100.6278865, \"topic\": \"net.subnet.hub.ready\", \"payload\": {\"subnet_id\": \"eb20131a-a2d6-48bb-b0ba-82add9bdd294\"}, \"trace\": \"f78b0273-f44d-489b-96c5-1f2e603dfd66\", \"source\": \"lifecycle\", \"actor\": \"system\", \"node_id\": \"e7f6d431-9a32-4474-89f1-da6aac89ed9b\", \"role\": \"hub\"}\n",
      "{\"ts\": 1756979100.6298854, \"topic\": \"sys.ready\", \"payload\": {\"ts\": 1756979100.6288853}, \"trace\": \"189728d3-3682-49e8-ab13-8702d95fbd10\", \"source\": \"lifecycle\", \"actor\": \"system\", \"node_id\": \"e7f6d431-9a32-4474-89f1-da6aac89ed9b\", \"role\": \"hub\"}\n",
      "{\"ts\": 1756979167.954929, \"topic\": \"sys.boot.start\", \"payload\": {\"role\": \"hub\", \"node_id\": \"e7f6d431-9a32-4474-89f1-da6aac89ed9b\", \"subnet_id\": \"eb20131a-a2d6-48bb-b0ba-82add9bdd294\"}, \"trace\": \"66557727-6eb5-4d5c-9608-bf64d0da34e5\", \"source\": \"lifecycle\", \"actor\": \"system\", \"node_id\": \"e7f6d431-9a32-4474-89f1-da6aac89ed9b\", \"role\": \"hub\"}\n",
      "{\"ts\": 1756979167.9684708, \"topic\": \"sys.bus.ready\", \"payload\": {}, \"trace\": \"5b418e80-5598-4200-93a6-5b1621a3d029\", \"source\": \"lifecycle\", \"actor\": \"system\", \"node_id\": \"e7f6d431-9a32-4474-89f1-da6aac89ed9b\", \"role\": \"hub\"}\n",
      "{\"ts\": 1756979167.9704697, \"topic\": \"net.subnet.hub.ready\", \"payload\": {\"subnet_id\": \"eb20131a-a2d6-48bb-b0ba-82add9bdd294\"}, \"trace\": \"62a5f847-417d-4719-adc6-c3d7cafb58d3\", \"source\": \"lifecycle\", \"actor\": \"system\", \"node_id\": \"e7f6d431-9a32-4474-89f1-da6aac89ed9b\", \"role\": \"hub\"}\n",
      "{\"ts\": 1756979167.9724703, \"topic\": \"sys.ready\", \"payload\": {\"ts\": 1756979167.971471}, \"trace\": \"ab788095-aacc-4cbc-90df-ccd9e1b91b25\", \"source\": \"lifecycle\", \"actor\": \"system\", \"node_id\": \"e7f6d431-9a32-4474-89f1-da6aac89ed9b\", \"role\": \"hub\"}\n",
      "{\"ts\": 1756979188.20442, \"topic\": \"sys.boot.start\", \"payload\": {\"role\": \"hub\", \"node_id\": \"e7f6d431-9a32-4474-89f1-da6aac89ed9b\", \"subnet_id\": \"eb20131a-a2d6-48bb-b0ba-82add9bdd294\"}, \"trace\": \"ea86f677-aa4b-4167-bcf4-df5a032b4e39\", \"source\": \"lifecycle\", \"actor\": \"system\", \"node_id\": \"e7f6d431-9a32-4474-89f1-da6aac89ed9b\", \"role\": \"hub\"}\n",
      "{\"ts\": 1756979188.240708, \"topic\": \"sys.bus.ready\", \"payload\": {}, \"trace\": \"409883d0-3f74-4712-ad50-348da20a2ac3\", \"source\": \"lifecycle\", \"actor\": \"system\", \"node_id\": \"e7f6d431-9a32-4474-89f1-da6aac89ed9b\", \"role\": \"hub\"}\n",
      "{\"ts\": 1756979188.2507074, \"topic\": \"net.subnet.hub.ready\", \"payload\": {\"subnet_id\": \"eb20131a-a2d6-48bb-b0ba-82add9bdd294\"}, \"trace\": \"8ee66b94-2b34-45e2-bad4-2dc2bccbf46f\", \"source\": \"lifecycle\", \"actor\": \"system\", \"node_id\": \"e7f6d431-9a32-4474-89f1-da6aac89ed9b\", \"role\": \"hub\"}\n",
      "{\"ts\": 1756979188.2701814, \"topic\": \"sys.ready\", \"payload\": {\"ts\": 1756979188.2694283}, \"trace\": \"4b1d83f7-8752-4b5b-b025-9cd0f512d9ed\", \"source\": \"lifecycle\", \"actor\": \"system\", \"node_id\": \"e7f6d431-9a32-4474-89f1-da6aac89ed9b\", \"role\": \"hub\"}\n",
      "{\"ts\": 1756979286.7505083, \"topic\": \"sys.boot.start\", \"payload\": {\"role\": \"hub\", \"node_id\": \"e7f6d431-9a32-4474-89f1-da6aac89ed9b\", \"subnet_id\": \"eb20131a-a2d6-48bb-b0ba-82add9bdd294\"}, \"trace\": \"a472a78c-635b-4363-b3d4-5a31d8e8f63d\", \"source\": \"lifecycle\", \"actor\": \"system\", \"node_id\": \"e7f6d431-9a32-4474-89f1-da6aac89ed9b\", \"role\": \"hub\"}\n",
      "{\"ts\": 1756979286.7580414, \"topic\": \"sys.bus.ready\", \"payload\": {}, \"trace\": \"8e1491f0-420a-4018-82a0-5749f3d0bd7f\", \"source\": \"lifecycle\", \"actor\": \"system\", \"node_id\": \"e7f6d431-9a32-4474-89f1-da6aac89ed9b\", \"role\": \"hub\"}\n",
      "{\"ts\": 1756979286.7600417, \"topic\": \"net.subnet.hub.ready\", \"payload\": {\"subnet_id\": \"eb20131a-a2d6-48bb-b0ba-82add9bdd294\"}, \"trace\": \"f0d3b861-66dc-4f53-980a-a85e911e7345\", \"source\": \"lifecycle\", \"actor\": \"system\", \"node_id\": \"e7f6d431-9a32-4474-89f1-da6aac89ed9b\", \"role\": \"hub\"}\n",
      "{\"ts\": 1756979286.7620416, \"topic\": \"sys.ready\", \"payload\": {\"ts\": 1756979286.7610414}, \"trace\": \"ba82e9d9-7c03-4c84-a388-51acd045ee38\", \"source\": \"lifecycle\", \"actor\": \"system\", \"node_id\": \"e7f6d431-9a32-4474-89f1-da6aac89ed9b\", \"role\": \"hub\"}\n",
      "{\"ts\": 1756979345.1614494, \"topic\": \"sys.boot.start\", \"payload\": {\"role\": \"hub\", \"node_id\": \"e7f6d431-9a32-4474-89f1-da6aac89ed9b\", \"subnet_id\": \"eb20131a-a2d6-48bb-b0ba-82add9bdd294\"}, \"trace\": \"38e707ca-4f15-4721-83a7-1662ec9a7da0\", \"source\": \"lifecycle\", \"actor\": \"system\", \"node_id\": \"e7f6d431-9a32-4474-89f1-da6aac89ed9b\", \"role\": \"hub\"}\n",
      "{\"ts\": 1756979345.21017, \"topic\": \"sys.bus.ready\", \"payload\": {}, \"trace\": \"5b48e3f1-9607-4a7d-a599-0727fbac3127\", \"source\": \"lifecycle\", \"actor\": \"system\", \"node_id\": \"e7f6d431-9a32-4474-89f1-da6aac89ed9b\", \"role\": \"hub\"}\n",
      "{\"ts\": 1756979345.2121696, \"topic\": \"net.subnet.hub.ready\", \"payload\": {\"subnet_id\": \"eb20131a-a2d6-48bb-b0ba-82add9bdd294\"}, \"trace\": \"24f87ee5-aefb-49d8-ba76-6d2785c8b8e0\", \"source\": \"lifecycle\", \"actor\": \"system\", \"node_id\": \"e7f6d431-9a32-4474-89f1-da6aac89ed9b\", \"role\": \"hub\"}\n",
      "{\"ts\": 1756979345.2151685, \"topic\": \"sys.ready\", \"payload\": {\"ts\": 1756979345.2131672}, \"trace\": \"69023e6d-207e-4f9a-8781-bfd4dc313e36\", \"source\": \"lifecycle\", \"actor\": \"system\", \"node_id\": \"e7f6d431-9a32-4474-89f1-da6aac89ed9b\", \"role\": \"hub\"}\n",
      "{\"ts\": 1756979561.42751, \"topic\": \"sys.boot.start\", \"payload\": {\"role\": \"hub\", \"node_id\": \"e7f6d431-9a32-4474-89f1-da6aac89ed9b\", \"subnet_id\": \"eb20131a-a2d6-48bb-b0ba-82add9bdd294\"}, \"trace\": \"3fee9dba-e3f7-46d8-90c3-d4915614fdce\", \"source\": \"lifecycle\", \"actor\": \"system\", \"node_id\": \"e7f6d431-9a32-4474-89f1-da6aac89ed9b\", \"role\": \"hub\"}\n",
      "{\"ts\": 1756979561.435513, \"topic\": \"sys.bus.ready\", \"payload\": {}, \"trace\": \"299fbf63-aab8-4d87-8e5d-74e46034b7c5\", \"source\": \"lifecycle\", \"actor\": \"system\", \"node_id\": \"e7f6d431-9a32-4474-89f1-da6aac89ed9b\", \"role\": \"hub\"}\n",
      "{\"ts\": 1756979561.4375107, \"topic\": \"net.subnet.hub.ready\", \"payload\": {\"subnet_id\": \"eb20131a-a2d6-48bb-b0ba-82add9bdd294\"}, \"trace\": \"b36bb938-bb85-4ce1-abe7-1e0ab2177f3c\", \"source\": \"lifecycle\", \"actor\": \"system\", \"node_id\": \"e7f6d431-9a32-4474-89f1-da6aac89ed9b\", \"role\": \"hub\"}\n",
      "{\"ts\": 1756979561.4395103, \"topic\": \"sys.ready\", \"payload\": {\"ts\": 1756979561.4385102}, \"trace\": \"f50ff384-c9bd-4a30-ad8d-e200cfc49b03\", \"source\": \"lifecycle\", \"actor\": \"system\", \"node_id\": \"e7f6d431-9a32-4474-89f1-da6aac89ed9b\", \"role\": \"hub\"}\n",
      "{\"ts\": 1757058287.8061168, \"topic\": \"sys.boot.start\", \"payload\": {\"role\": \"hub\", \"node_id\": \"e7f6d431-9a32-4474-89f1-da6aac89ed9b\", \"subnet_id\": \"eb20131a-a2d6-48bb-b0ba-82add9bdd294\"}, \"trace\": \"3af3d6de-ec2b-4b63-af17-988e4d8c4866\", \"source\": \"lifecycle\", \"actor\": \"system\", \"node_id\": \"e7f6d431-9a32-4474-89f1-da6aac89ed9b\", \"role\": \"hub\"}\n",
      "{\"ts\": 1757058287.8141196, \"topic\": \"sys.bus.ready\", \"payload\": {}, \"trace\": \"c9c91541-1795-496d-ade0-b173474623e5\", \"source\": \"lifecycle\", \"actor\": \"system\", \"node_id\": \"e7f6d431-9a32-4474-89f1-da6aac89ed9b\", \"role\": \"hub\"}\n",
      "{\"ts\": 1757058287.8161173, \"topic\": \"net.subnet.hub.ready\", \"payload\": {\"subnet_id\": \"eb20131a-a2d6-48bb-b0ba-82add9bdd294\"}, \"trace\": \"7e8ff729-29e4-4ce7-88d2-91671d7b3924\", \"source\": \"lifecycle\", \"actor\": \"system\", \"node_id\": \"e7f6d431-9a32-4474-89f1-da6aac89ed9b\", \"role\": \"hub\"}\n",
      "{\"ts\": 1757058287.8181171, \"topic\": \"sys.ready\", \"payload\": {\"ts\": 1757058287.8171167}, \"trace\": \"e292c275-1a59-44d1-90f0-7accde6abf15\", \"source\": \"lifecycle\", \"actor\": \"system\", \"node_id\": \"e7f6d431-9a32-4474-89f1-da6aac89ed9b\", \"role\": \"hub\"}\n",
      "{\"ts\": 1757066991.5843153, \"topic\": \"sys.boot.start\", \"payload\": {\"role\": \"hub\", \"node_id\": \"e7f6d431-9a32-4474-89f1-da6aac89ed9b\", \"subnet_id\": \"eb20131a-a2d6-48bb-b0ba-82add9bdd294\"}, \"trace\": \"062e2ecc-c1da-4214-944d-618b2f5397b0\", \"source\": \"lifecycle\", \"actor\": \"system\", \"node_id\": \"e7f6d431-9a32-4474-89f1-da6aac89ed9b\", \"role\": \"hub\"}\n",
      "{\"ts\": 1757066991.5913157, \"topic\": \"sys.bus.ready\", \"payload\": {}, \"trace\": \"b69a73bc-3b74-4ab1-96a5-bd0a85a5da2a\", \"source\": \"lifecycle\", \"actor\": \"system\", \"node_id\": \"e7f6d431-9a32-4474-89f1-da6aac89ed9b\", \"role\": \"hub\"}\n",
      "{\"ts\": 1757066991.593317, \"topic\": \"net.subnet.hub.ready\", \"payload\": {\"subnet_id\": \"eb20131a-a2d6-48bb-b0ba-82add9bdd294\"}, \"trace\": \"8d3f2586-5cb6-4bc1-99d3-c1881bc22395\", \"source\": \"lifecycle\", \"actor\": \"system\", \"node_id\": \"e7f6d431-9a32-4474-89f1-da6aac89ed9b\", \"role\": \"hub\"}\n",
      "{\"ts\": 1757066991.595317, \"topic\": \"sys.ready\", \"payload\": {\"ts\": 1757066991.5943167}, \"trace\": \"8517b791-98f1-4798-8f61-107d5e4b3d73\", \"source\": \"lifecycle\", \"actor\": \"system\", \"node_id\": \"e7f6d431-9a32-4474-89f1-da6aac89ed9b\", \"role\": \"hub\"}\n",
      "{\"ts\": 1757073312.5795383, \"topic\": \"sys.boot.start\", \"payload\": {\"role\": \"hub\", \"node_id\": \"e7f6d431-9a32-4474-89f1-da6aac89ed9b\", \"subnet_id\": \"eb20131a-a2d6-48bb-b0ba-82add9bdd294\"}, \"trace\": \"44cf2969-5ed9-45c5-bed6-83cfcbe576da\", \"source\": \"lifecycle\", \"actor\": \"system\", \"node_id\": \"e7f6d431-9a32-4474-89f1-da6aac89ed9b\", \"role\": \"hub\"}\n",
      "{\"ts\": 1757073312.5875368, \"topic\": \"sys.bus.ready\", \"payload\": {}, \"trace\": \"c98a6fc5-ae6f-4321-ae85-ca36860e6d06\", \"source\": \"lifecycle\", \"actor\": \"system\", \"node_id\": \"e7f6d431-9a32-4474-89f1-da6aac89ed9b\", \"role\": \"hub\"}\n",
      "{\"ts\": 1757073312.5895383, \"topic\": \"net.subnet.hub.ready\", \"payload\": {\"subnet_id\": \"eb20131a-a2d6-48bb-b0ba-82add9bdd294\"}, \"trace\": \"b592804c-ad6b-4e2f-ad85-5b7e00284939\", \"source\": \"lifecycle\", \"actor\": \"system\", \"node_id\": \"e7f6d431-9a32-4474-89f1-da6aac89ed9b\", \"role\": \"hub\"}\n",
      "{\"ts\": 1757073312.591537, \"topic\": \"sys.ready\", \"payload\": {\"ts\": 1757073312.590537}, \"trace\": \"a8e1bca0-545a-4251-8581-298df093137c\", \"source\": \"lifecycle\", \"actor\": \"system\", \"node_id\": \"e7f6d431-9a32-4474-89f1-da6aac89ed9b\", \"role\": \"hub\"}\n",
      "{\"ts\": 1757080443.8963969, \"topic\": \"sys.boot.start\", \"payload\": {\"role\": \"hub\", \"node_id\": \"e7f6d431-9a32-4474-89f1-da6aac89ed9b\", \"subnet_id\": \"eb20131a-a2d6-48bb-b0ba-82add9bdd294\"}, \"trace\": \"5e2fbd5b-dbb1-4f9c-b8c9-de1016bcfe7b\", \"source\": \"lifecycle\", \"actor\": \"system\", \"node_id\": \"e7f6d431-9a32-4474-89f1-da6aac89ed9b\", \"role\": \"hub\"}\n",
      "{\"ts\": 1757080443.9043987, \"topic\": \"sys.bus.ready\", \"payload\": {}, \"trace\": \"5fe0cb1d-0963-495e-8b16-fffaaddb3a60\", \"source\": \"lifecycle\", \"actor\": \"system\", \"node_id\": \"e7f6d431-9a32-4474-89f1-da6aac89ed9b\", \"role\": \"hub\"}\n",
      "{\"ts\": 1757080443.9053967, \"topic\": \"net.subnet.hub.ready\", \"payload\": {\"subnet_id\": \"eb20131a-a2d6-48bb-b0ba-82add9bdd294\"}, \"trace\": \"d3250c8a-7762-4152-8ff7-77619f7c9fb9\", \"source\": \"lifecycle\", \"actor\": \"system\", \"node_id\": \"e7f6d431-9a32-4474-89f1-da6aac89ed9b\", \"role\": \"hub\"}\n",
      "{\"ts\": 1757080443.9083962, \"topic\": \"sys.ready\", \"payload\": {\"ts\": 1757080443.9073963}, \"trace\": \"3b28e151-e543-49c2-9589-33016b78f990\", \"source\": \"lifecycle\", \"actor\": \"system\", \"node_id\": \"e7f6d431-9a32-4474-89f1-da6aac89ed9b\", \"role\": \"hub\"}\n",
      "{\"ts\": 1757080707.5636032, \"topic\": \"sys.boot.start\", \"payload\": {\"role\": \"hub\", \"node_id\": \"e7f6d431-9a32-4474-89f1-da6aac89ed9b\", \"subnet_id\": \"eb20131a-a2d6-48bb-b0ba-82add9bdd294\"}, \"trace\": \"e7c859c2-ffdc-464e-a18e-b2abbf41b583\", \"source\": \"lifecycle\", \"actor\": \"system\", \"node_id\": \"e7f6d431-9a32-4474-89f1-da6aac89ed9b\", \"role\": \"hub\"}\n",
      "{\"ts\": 1757080707.5716035, \"topic\": \"sys.bus.ready\", \"payload\": {}, \"trace\": \"95579ea5-ae1f-41ce-bde3-b2f6bd4c473f\", \"source\": \"lifecycle\", \"actor\": \"system\", \"node_id\": \"e7f6d431-9a32-4474-89f1-da6aac89ed9b\", \"role\": \"hub\"}\n",
      "{\"ts\": 1757080707.5736046, \"topic\": \"net.subnet.hub.ready\", \"payload\": {\"subnet_id\": \"eb20131a-a2d6-48bb-b0ba-82add9bdd294\"}, \"trace\": \"c5889535-710d-4567-b28f-9e709d48745b\", \"source\": \"lifecycle\", \"actor\": \"system\", \"node_id\": \"e7f6d431-9a32-4474-89f1-da6aac89ed9b\", \"role\": \"hub\"}\n",
      "{\"ts\": 1757080707.5756035, \"topic\": \"sys.ready\", \"payload\": {\"ts\": 1757080707.5746052}, \"trace\": \"45db81b7-dc6d-4c93-ab69-5ac8df74ad34\", \"source\": \"lifecycle\", \"actor\": \"system\", \"node_id\": \"e7f6d431-9a32-4474-89f1-da6aac89ed9b\", \"role\": \"hub\"}\n",
      "{\"ts\": 1757083349.8763883, \"topic\": \"sys.boot.start\", \"payload\": {\"role\": \"hub\", \"node_id\": \"e7f6d431-9a32-4474-89f1-da6aac89ed9b\", \"subnet_id\": \"eb20131a-a2d6-48bb-b0ba-82add9bdd294\"}, \"trace\": \"4b3bc3e8-1195-4869-a163-65d9e826d39c\", \"source\": \"lifecycle\", \"actor\": \"system\", \"node_id\": \"e7f6d431-9a32-4474-89f1-da6aac89ed9b\", \"role\": \"hub\"}\n",
      "{\"ts\": 1757083349.8833885, \"topic\": \"sys.bus.ready\", \"payload\": {}, \"trace\": \"d4127ba9-ed3d-44e4-a250-6c37f43196b5\", \"source\": \"lifecycle\", \"actor\": \"system\", \"node_id\": \"e7f6d431-9a32-4474-89f1-da6aac89ed9b\", \"role\": \"hub\"}\n",
      "{\"ts\": 1757083349.8853886, \"topic\": \"net.subnet.hub.ready\", \"payload\": {\"subnet_id\": \"eb20131a-a2d6-48bb-b0ba-82add9bdd294\"}, \"trace\": \"bc7be2f9-1ed9-4d06-a8b1-f3a6c2d05034\", \"source\": \"lifecycle\", \"actor\": \"system\", \"node_id\": \"e7f6d431-9a32-4474-89f1-da6aac89ed9b\", \"role\": \"hub\"}\n",
      "{\"ts\": 1757083349.8883877, \"topic\": \"sys.ready\", \"payload\": {\"ts\": 1757083349.8873887}, \"trace\": \"43d19545-4aa0-4b72-8cc5-1d5bda12a0eb\", \"source\": \"lifecycle\", \"actor\": \"system\", \"node_id\": \"e7f6d431-9a32-4474-89f1-da6aac89ed9b\", \"role\": \"hub\"}\n",
      "{\"ts\": 1757083555.107098, \"topic\": \"sys.boot.start\", \"payload\": {\"role\": \"hub\", \"node_id\": \"e7f6d431-9a32-4474-89f1-da6aac89ed9b\", \"subnet_id\": \"eb20131a-a2d6-48bb-b0ba-82add9bdd294\"}, \"trace\": \"fa9433b1-29df-4b74-874d-9e3d0f11b282\", \"source\": \"lifecycle\", \"actor\": \"system\", \"node_id\": \"e7f6d431-9a32-4474-89f1-da6aac89ed9b\", \"role\": \"hub\"}\n",
      "{\"ts\": 1757083555.1140993, \"topic\": \"sys.bus.ready\", \"payload\": {}, \"trace\": \"8830267b-4cbe-463a-b665-0f2d2f1fb1aa\", \"source\": \"lifecycle\", \"actor\": \"system\", \"node_id\": \"e7f6d431-9a32-4474-89f1-da6aac89ed9b\", \"role\": \"hub\"}\n",
      "{\"ts\": 1757083555.1166236, \"topic\": \"net.subnet.hub.ready\", \"payload\": {\"subnet_id\": \"eb20131a-a2d6-48bb-b0ba-82add9bdd294\"}, \"trace\": \"3c600e7e-97b3-41f0-9ef6-07f2a5318f61\", \"source\": \"lifecycle\", \"actor\": \"system\", \"node_id\": \"e7f6d431-9a32-4474-89f1-da6aac89ed9b\", \"role\": \"hub\"}\n",
      "{\"ts\": 1757083555.1186233, \"topic\": \"sys.ready\", \"payload\": {\"ts\": 1757083555.117624}, \"trace\": \"13108772-67cf-4c65-976a-760f86a7cf27\", \"source\": \"lifecycle\", \"actor\": \"system\", \"node_id\": \"e7f6d431-9a32-4474-89f1-da6aac89ed9b\", \"role\": \"hub\"}\n",
      "{\"ts\": 1757590261.074752, \"topic\": \"sys.boot.start\", \"payload\": {\"role\": \"hub\", \"node_id\": \"e7f6d431-9a32-4474-89f1-da6aac89ed9b\", \"subnet_id\": \"eb20131a-a2d6-48bb-b0ba-82add9bdd294\"}, \"trace\": \"07eaf7b2-5eeb-4531-83b7-a8168665c856\", \"source\": \"lifecycle\", \"actor\": \"system\", \"node_id\": \"e7f6d431-9a32-4474-89f1-da6aac89ed9b\", \"role\": \"hub\"}\n",
      "{\"ts\": 1757591924.358126, \"topic\": \"sys.boot.start\", \"payload\": {\"role\": \"hub\", \"node_id\": \"e7f6d431-9a32-4474-89f1-da6aac89ed9b\", \"subnet_id\": \"eb20131a-a2d6-48bb-b0ba-82add9bdd294\"}, \"trace\": \"b8c33e07-704f-4559-84f9-d5f1ef2a8de8\", \"source\": \"lifecycle\", \"actor\": \"system\", \"node_id\": \"e7f6d431-9a32-4474-89f1-da6aac89ed9b\", \"role\": \"hub\"}\n",
      "{\"ts\": 1757592087.904783, \"topic\": \"sys.boot.start\", \"payload\": {\"role\": \"hub\", \"node_id\": \"e7f6d431-9a32-4474-89f1-da6aac89ed9b\", \"subnet_id\": \"eb20131a-a2d6-48bb-b0ba-82add9bdd294\"}, \"trace\": \"2b0ef38b-a8e1-437e-aae8-20c6b7613d20\", \"source\": \"lifecycle\", \"actor\": \"system\", \"node_id\": \"e7f6d431-9a32-4474-89f1-da6aac89ed9b\", \"role\": \"hub\"}\n",
      "{\"ts\": 1757592087.9157841, \"topic\": \"sys.bus.ready\", \"payload\": {}, \"trace\": \"a47a10b9-bd47-4031-9a7a-ff8ae7f55f3a\", \"source\": \"lifecycle\", \"actor\": \"system\", \"node_id\": \"e7f6d431-9a32-4474-89f1-da6aac89ed9b\", \"role\": \"hub\"}\n",
      "{\"ts\": 1757592087.9177837, \"topic\": \"net.subnet.hub.ready\", \"payload\": {\"subnet_id\": \"eb20131a-a2d6-48bb-b0ba-82add9bdd294\"}, \"trace\": \"ac043a98-9d6b-4024-ae20-fe2148623868\", \"source\": \"lifecycle\", \"actor\": \"system\", \"node_id\": \"e7f6d431-9a32-4474-89f1-da6aac89ed9b\", \"role\": \"hub\"}\n",
      "{\"ts\": 1757592087.9188147, \"topic\": \"sys.ready\", \"payload\": {\"ts\": 1757592087.9188147}, \"trace\": \"1a8ed079-4045-422a-8d4c-a27f7e2cb5bf\", \"source\": \"lifecycle\", \"actor\": \"system\", \"node_id\": \"e7f6d431-9a32-4474-89f1-da6aac89ed9b\", \"role\": \"hub\"}\n",
      "{\"ts\": 1757592546.1913438, \"topic\": \"sys.boot.start\", \"payload\": {\"role\": \"hub\", \"node_id\": \"e7f6d431-9a32-4474-89f1-da6aac89ed9b\", \"subnet_id\": \"eb20131a-a2d6-48bb-b0ba-82add9bdd294\"}, \"trace\": \"f7ce0a59-5615-4dcc-abc3-8966d62ba341\", \"source\": \"lifecycle\", \"actor\": \"system\", \"node_id\": \"e7f6d431-9a32-4474-89f1-da6aac89ed9b\", \"role\": \"hub\"}\n",
      "{\"ts\": 1757592546.2023418, \"topic\": \"sys.bus.ready\", \"payload\": {}, \"trace\": \"56d69ed7-ab03-47e2-bc2f-60ab1fc5abc4\", \"source\": \"lifecycle\", \"actor\": \"system\", \"node_id\": \"e7f6d431-9a32-4474-89f1-da6aac89ed9b\", \"role\": \"hub\"}\n",
      "{\"ts\": 1757592546.2033424, \"topic\": \"net.subnet.hub.ready\", \"payload\": {\"subnet_id\": \"eb20131a-a2d6-48bb-b0ba-82add9bdd294\"}, \"trace\": \"d2a7e81d-ab4a-4e24-a02f-e4a744d2a810\", \"source\": \"lifecycle\", \"actor\": \"system\", \"node_id\": \"e7f6d431-9a32-4474-89f1-da6aac89ed9b\", \"role\": \"hub\"}\n",
      "{\"ts\": 1757592546.2053466, \"topic\": \"sys.ready\", \"payload\": {\"ts\": 1757592546.2043428}, \"trace\": \"46e7abc0-2f9f-48db-aa13-7ea737c8f535\", \"source\": \"lifecycle\", \"actor\": \"system\", \"node_id\": \"e7f6d431-9a32-4474-89f1-da6aac89ed9b\", \"role\": \"hub\"}\n",
      "{\"ts\": 1757592547.6980546, \"topic\": \"net.subnet.node.up\", \"payload\": {\"node_id\": \"fe3d776d-dfcf-4eb4-9b2c-7a218f457c07\"}, \"trace\": \"ea75dd47-c952-4a19-8167-3181c22dbe96\", \"source\": \"subnet_api\", \"actor\": \"system\", \"node_id\": \"e7f6d431-9a32-4474-89f1-da6aac89ed9b\", \"role\": \"hub\"}\n",
      "{\"ts\": 1757592547.6729398, \"topic\": \"sys.boot.start\", \"payload\": {\"role\": \"member\", \"node_id\": \"fe3d776d-dfcf-4eb4-9b2c-7a218f457c07\", \"subnet_id\": \"eb20131a-a2d6-48bb-b0ba-82add9bdd294\"}, \"trace\": \"e247eedd-6b5d-41ff-94de-133f42ee2c36\", \"source\": \"lifecycle\", \"actor\": \"system\", \"node_id\": \"fe3d776d-dfcf-4eb4-9b2c-7a218f457c07\", \"role\": \"member\"}\n",
      "{\"ts\": 1757592547.6870542, \"topic\": \"sys.bus.ready\", \"payload\": {}, \"trace\": \"d1718626-977f-401a-afc5-4796710a6ef5\", \"source\": \"lifecycle\", \"actor\": \"system\", \"node_id\": \"fe3d776d-dfcf-4eb4-9b2c-7a218f457c07\", \"role\": \"member\"}\n",
      "{\"ts\": 1757592547.7070575, \"topic\": \"net.subnet.registered\", \"payload\": {\"hub\": \"http://127.0.0.1:8777\"}, \"trace\": \"249bee8b-24cc-459a-b822-779f0d4de487\", \"source\": \"lifecycle\", \"actor\": \"system\", \"node_id\": \"fe3d776d-dfcf-4eb4-9b2c-7a218f457c07\", \"role\": \"member\"}\n",
      "{\"ts\": 1757592547.7080543, \"topic\": \"sys.ready\", \"payload\": {\"ts\": 1757592547.7080543}, \"trace\": \"f9f4bcd8-6f6b-4e9f-b4b9-faea4066e92d\", \"source\": \"lifecycle\", \"actor\": \"system\", \"node_id\": \"fe3d776d-dfcf-4eb4-9b2c-7a218f457c07\", \"role\": \"member\"}\n",
      "{\"ts\": 1757592601.2804093, \"topic\": \"net.subnet.node.down\", \"payload\": {\"node_id\": \"fe3d776d-dfcf-4eb4-9b2c-7a218f457c07\"}, \"trace\": \"7f3e2f08-2f24-4c8c-b4d4-a4b2bfa29bbb\", \"source\": \"lifecycle\", \"actor\": \"system\", \"node_id\": \"e7f6d431-9a32-4474-89f1-da6aac89ed9b\", \"role\": \"hub\"}\n",
      "{\"ts\": 1757592672.0134628, \"topic\": \"sys.boot.start\", \"payload\": {\"role\": \"hub\", \"node_id\": \"e7f6d431-9a32-4474-89f1-da6aac89ed9b\", \"subnet_id\": \"eb20131a-a2d6-48bb-b0ba-82add9bdd294\"}, \"trace\": \"cf35e110-b61f-4dfa-8c20-38e8c3655edf\", \"source\": \"lifecycle\", \"actor\": \"system\", \"node_id\": \"e7f6d431-9a32-4474-89f1-da6aac89ed9b\", \"role\": \"hub\"}\n",
      "{\"ts\": 1757592672.0234966, \"topic\": \"sys.bus.ready\", \"payload\": {}, \"trace\": \"cdf00c6a-aefe-4b95-bb28-15548b409252\", \"source\": \"lifecycle\", \"actor\": \"system\", \"node_id\": \"e7f6d431-9a32-4474-89f1-da6aac89ed9b\", \"role\": \"hub\"}\n",
      "{\"ts\": 1757592672.0254984, \"topic\": \"net.subnet.hub.ready\", \"payload\": {\"subnet_id\": \"eb20131a-a2d6-48bb-b0ba-82add9bdd294\"}, \"trace\": \"3f2fe2ed-269f-4d91-82b8-8aafd177442b\", \"source\": \"lifecycle\", \"actor\": \"system\", \"node_id\": \"e7f6d431-9a32-4474-89f1-da6aac89ed9b\", \"role\": \"hub\"}\n",
      "{\"ts\": 1757592672.0264964, \"topic\": \"sys.ready\", \"payload\": {\"ts\": 1757592672.0264964}, \"trace\": \"340bbca6-48f1-4750-a287-c0eeebbb61ce\", \"source\": \"lifecycle\", \"actor\": \"system\", \"node_id\": \"e7f6d431-9a32-4474-89f1-da6aac89ed9b\", \"role\": \"hub\"}\n",
      "{\"ts\": 1757592907.17512, \"topic\": \"sys.boot.start\", \"payload\": {\"role\": \"hub\", \"node_id\": \"e7f6d431-9a32-4474-89f1-da6aac89ed9b\", \"subnet_id\": \"eb20131a-a2d6-48bb-b0ba-82add9bdd294\"}, \"trace\": \"38967c81-79f8-43ae-8229-0e39769b5db0\", \"source\": \"lifecycle\", \"actor\": \"system\", \"node_id\": \"e7f6d431-9a32-4474-89f1-da6aac89ed9b\", \"role\": \"hub\"}\n",
      "{\"ts\": 1757592907.187119, \"topic\": \"sys.bus.ready\", \"payload\": {}, \"trace\": \"af6b33e3-e273-4c92-9771-192afff0d8dd\", \"source\": \"lifecycle\", \"actor\": \"system\", \"node_id\": \"e7f6d431-9a32-4474-89f1-da6aac89ed9b\", \"role\": \"hub\"}\n",
      "{\"ts\": 1757592907.1891208, \"topic\": \"net.subnet.hub.ready\", \"payload\": {\"subnet_id\": \"eb20131a-a2d6-48bb-b0ba-82add9bdd294\"}, \"trace\": \"8dbbf8bb-2861-4a73-89ff-9b2d66c3b550\", \"source\": \"lifecycle\", \"actor\": \"system\", \"node_id\": \"e7f6d431-9a32-4474-89f1-da6aac89ed9b\", \"role\": \"hub\"}\n",
      "{\"ts\": 1757592907.1901183, \"topic\": \"sys.ready\", \"payload\": {\"ts\": 1757592907.1901183}, \"trace\": \"9de1e851-a2d8-4700-a247-a7ca045c0123\", \"source\": \"lifecycle\", \"actor\": \"system\", \"node_id\": \"e7f6d431-9a32-4474-89f1-da6aac89ed9b\", \"role\": \"hub\"}\n",
      "{\"ts\": 1757593785.789279, \"topic\": \"sys.boot.start\", \"payload\": {\"role\": \"hub\", \"node_id\": \"e7f6d431-9a32-4474-89f1-da6aac89ed9b\", \"subnet_id\": \"eb20131a-a2d6-48bb-b0ba-82add9bdd294\"}, \"trace\": \"dd112218-5c2d-4c3c-9376-147d4d3f7459\", \"source\": \"lifecycle\", \"actor\": \"system\", \"node_id\": \"e7f6d431-9a32-4474-89f1-da6aac89ed9b\", \"role\": \"hub\"}\n",
      "{\"ts\": 1757593785.8002796, \"topic\": \"sys.bus.ready\", \"payload\": {}, \"trace\": \"4bd874c0-19f4-4255-9b19-47a82c469cf5\", \"source\": \"lifecycle\", \"actor\": \"system\", \"node_id\": \"e7f6d431-9a32-4474-89f1-da6aac89ed9b\", \"role\": \"hub\"}\n",
      "{\"ts\": 1757593785.8022792, \"topic\": \"net.subnet.hub.ready\", \"payload\": {\"subnet_id\": \"eb20131a-a2d6-48bb-b0ba-82add9bdd294\"}, \"trace\": \"b96b7db3-bb5d-4eb9-bb5b-2cd5ad9ce572\", \"source\": \"lifecycle\", \"actor\": \"system\", \"node_id\": \"e7f6d431-9a32-4474-89f1-da6aac89ed9b\", \"role\": \"hub\"}\n",
      "{\"ts\": 1757593785.804279, \"topic\": \"sys.ready\", \"payload\": {\"ts\": 1757593785.80328}, \"trace\": \"7a967900-7da4-4ae8-a579-3895b6e55815\", \"source\": \"lifecycle\", \"actor\": \"system\", \"node_id\": \"e7f6d431-9a32-4474-89f1-da6aac89ed9b\", \"role\": \"hub\"}\n",
      "{\"ts\": 1757594345.4726768, \"topic\": \"sys.boot.start\", \"payload\": {\"role\": \"hub\", \"node_id\": \"e7f6d431-9a32-4474-89f1-da6aac89ed9b\", \"subnet_id\": \"eb20131a-a2d6-48bb-b0ba-82add9bdd294\"}, \"trace\": \"db35e669-a9ec-47d1-bc60-fcacec68de73\", \"source\": \"lifecycle\", \"actor\": \"system\", \"node_id\": \"e7f6d431-9a32-4474-89f1-da6aac89ed9b\", \"role\": \"hub\"}\n",
      "{\"ts\": 1757594345.483676, \"topic\": \"sys.bus.ready\", \"payload\": {}, \"trace\": \"de66d7cd-e83b-4b8a-a6e7-a1dd45cfc690\", \"source\": \"lifecycle\", \"actor\": \"system\", \"node_id\": \"e7f6d431-9a32-4474-89f1-da6aac89ed9b\", \"role\": \"hub\"}\n",
      "{\"ts\": 1757594345.4857085, \"topic\": \"net.subnet.hub.ready\", \"payload\": {\"subnet_id\": \"eb20131a-a2d6-48bb-b0ba-82add9bdd294\"}, \"trace\": \"fb4369a3-943d-4f6a-bfb0-b70f041f41c4\", \"source\": \"lifecycle\", \"actor\": \"system\", \"node_id\": \"e7f6d431-9a32-4474-89f1-da6aac89ed9b\", \"role\": \"hub\"}\n",
      "{\"ts\": 1757594345.4866776, \"topic\": \"sys.ready\", \"payload\": {\"ts\": 1757594345.4866776}, \"trace\": \"6fee4f46-2555-442d-9462-bd5c3e625745\", \"source\": \"lifecycle\", \"actor\": \"system\", \"node_id\": \"e7f6d431-9a32-4474-89f1-da6aac89ed9b\", \"role\": \"hub\"}\n",
      "{\"ts\": 1757595553.4668798, \"topic\": \"sys.boot.start\", \"payload\": {\"role\": \"hub\", \"node_id\": \"e7f6d431-9a32-4474-89f1-da6aac89ed9b\", \"subnet_id\": \"eb20131a-a2d6-48bb-b0ba-82add9bdd294\"}, \"trace\": \"13f28fa6-840b-48d2-b118-f6095848afc3\", \"source\": \"lifecycle\", \"actor\": \"system\", \"node_id\": \"e7f6d431-9a32-4474-89f1-da6aac89ed9b\", \"role\": \"hub\"}\n",
      "{\"ts\": 1757595553.4786868, \"topic\": \"sys.bus.ready\", \"payload\": {}, \"trace\": \"0a8fdfe1-28ef-45a2-b408-01bfa7d3b6ad\", \"source\": \"lifecycle\", \"actor\": \"system\", \"node_id\": \"e7f6d431-9a32-4474-89f1-da6aac89ed9b\", \"role\": \"hub\"}\n",
      "{\"ts\": 1757595553.4797573, \"topic\": \"net.subnet.hub.ready\", \"payload\": {\"subnet_id\": \"eb20131a-a2d6-48bb-b0ba-82add9bdd294\"}, \"trace\": \"b665d4d1-abd3-4482-a086-0c4fb918d212\", \"source\": \"lifecycle\", \"actor\": \"system\", \"node_id\": \"e7f6d431-9a32-4474-89f1-da6aac89ed9b\", \"role\": \"hub\"}\n",
      "{\"ts\": 1757595553.4817579, \"topic\": \"sys.ready\", \"payload\": {\"ts\": 1757595553.4807584}, \"trace\": \"13041ee3-ddbe-41f0-b809-41cbbc49c612\", \"source\": \"lifecycle\", \"actor\": \"system\", \"node_id\": \"e7f6d431-9a32-4474-89f1-da6aac89ed9b\", \"role\": \"hub\"}\n",
      "{\"ts\": 1757598194.2010221, \"topic\": \"sys.boot.start\", \"payload\": {\"role\": \"hub\", \"node_id\": \"e7f6d431-9a32-4474-89f1-da6aac89ed9b\", \"subnet_id\": \"eb20131a-a2d6-48bb-b0ba-82add9bdd294\"}, \"trace\": \"e412d3d0-a2fa-4564-bced-3fdf22f078dd\", \"source\": \"lifecycle\", \"actor\": \"system\", \"node_id\": \"e7f6d431-9a32-4474-89f1-da6aac89ed9b\", \"role\": \"hub\"}\n",
      "{\"ts\": 1757598665.5960872, \"topic\": \"sys.boot.start\", \"payload\": {\"role\": \"hub\", \"node_id\": \"e7f6d431-9a32-4474-89f1-da6aac89ed9b\", \"subnet_id\": \"eb20131a-a2d6-48bb-b0ba-82add9bdd294\"}, \"trace\": \"301edd2d-c9a2-45d7-a19e-b97fb85074e6\", \"source\": \"lifecycle\", \"actor\": \"system\", \"node_id\": \"e7f6d431-9a32-4474-89f1-da6aac89ed9b\", \"role\": \"hub\"}\n",
      "{\"ts\": 1757598665.60712, \"topic\": \"sys.bus.ready\", \"payload\": {}, \"trace\": \"3a1ea324-fe4c-4f4a-b544-ed194bfe0a1b\", \"source\": \"lifecycle\", \"actor\": \"system\", \"node_id\": \"e7f6d431-9a32-4474-89f1-da6aac89ed9b\", \"role\": \"hub\"}\n",
      "{\"ts\": 1757598665.6081173, \"topic\": \"net.subnet.hub.ready\", \"payload\": {\"subnet_id\": \"eb20131a-a2d6-48bb-b0ba-82add9bdd294\"}, \"trace\": \"e110f302-bb7b-45ed-a18d-2480d50d5a46\", \"source\": \"lifecycle\", \"actor\": \"system\", \"node_id\": \"e7f6d431-9a32-4474-89f1-da6aac89ed9b\", \"role\": \"hub\"}\n",
      "{\"ts\": 1757598665.6101172, \"topic\": \"sys.ready\", \"payload\": {\"ts\": 1757598665.60912}, \"trace\": \"27de94a0-e24d-4fe1-a183-fc0d4167d81c\", \"source\": \"lifecycle\", \"actor\": \"system\", \"node_id\": \"e7f6d431-9a32-4474-89f1-da6aac89ed9b\", \"role\": \"hub\"}\n",
      "\n",
      "==================== SUMMARY ====================\n",
      "\n",
      "summary:\n",
      "{\n",
      "  \"hub_ready\": true,\n",
      "  \"member_ready\": false,\n",
      "  \"nodes_seen_on_hub\": 0,\n",
      "  \"tool_call_status\": null,\n",
      "  \"tail_lines\": 120\n",
      "}\n"
     ]
    }
   ],
   "source": [
    "# AdaOS Observability v0 — sanity check notebook\n",
    "#\n",
    "# How to use:\n",
    "# 1) Set HUB_URL, MEMBER_URL, TOKEN below for your setup.\n",
    "# 2) Run this single cell. It will:\n",
    "#    - ping health/live & health/ready\n",
    "#    - show node status for hub & member\n",
    "#    - list subnet nodes from hub\n",
    "#    - (optionally) call a tool to generate events (TOOL_CALL_ENABLED)\n",
    "#    - tail last N lines from hub /api/observe/tail\n",
    "#\n",
    "# All steps are guarded; failures are shown but won't stop the run.\n",
    "\n",
    "import os, json, time, textwrap, pathlib, sys\n",
    "from typing import Optional, Dict, Any, List\n",
    "\n",
    "import requests\n",
    "\n",
    "# ----------------- CONFIG -----------------\n",
    "HUB_URL = os.environ.get(\"ADAOS_HUB_URL\", \"http://127.0.0.1:8777\")\n",
    "MEMBER_URL = os.environ.get(\"ADAOS_MEMBER_URL\", \"http://127.0.0.1:8778\")\n",
    "TOKEN = os.environ.get(\"ADAOS_TOKEN\", \"dev-local-token\")\n",
    "\n",
    "# If you have a working tool (e.g., weather_skill:get_weather) set this True\n",
    "TOOL_CALL_ENABLED = True\n",
    "TOOL_SPEC = \"weather_skill:get_weather\"\n",
    "TOOL_ARGS = {\"city\": \"Berlin\"}\n",
    "\n",
    "TAIL_LINES = 120\n",
    "TOPIC_FILTER = None  # e.g. \"ui.\" or \"net.subnet.\" or None\n",
    "\n",
    "# ------------------------------------------\n",
    "\n",
    "HEADERS = {\"X-AdaOS-Token\": TOKEN, \"Content-Type\": \"application/json\"}\n",
    "\n",
    "\n",
    "def hr(title: str):\n",
    "    print(\"\\n\" + \"=\" * 20 + f\" {title} \" + \"=\" * 20)\n",
    "\n",
    "\n",
    "def req_json(method: str, base: str, path: str, **kwargs) -> Dict[str, Any]:\n",
    "    url = base.rstrip(\"/\") + path\n",
    "    try:\n",
    "        r = requests.request(method, url, headers=HEADERS, timeout=5, **kwargs)\n",
    "        try:\n",
    "            data = r.json()\n",
    "        except Exception:\n",
    "            data = {\"_raw\": r.text}\n",
    "        return {\"ok\": r.ok, \"status\": r.status_code, \"url\": url, \"data\": data, \"headers\": dict(r.headers)}\n",
    "    except Exception as e:\n",
    "        return {\"ok\": False, \"status\": None, \"url\": url, \"error\": str(e)}\n",
    "\n",
    "\n",
    "def pretty_print(label: str, payload: Any):\n",
    "    print(f\"\\n{label}:\")\n",
    "    if isinstance(payload, (dict, list)):\n",
    "        print(json.dumps(payload, ensure_ascii=False, indent=2))\n",
    "    else:\n",
    "        print(payload)\n",
    "\n",
    "\n",
    "# 1) HEALTH\n",
    "hr(\"HEALTH (hub & member)\")\n",
    "hub_live = req_json(\"GET\", HUB_URL, \"/health/live\")\n",
    "hub_ready = req_json(\"GET\", HUB_URL, \"/health/ready\")\n",
    "mem_live = req_json(\"GET\", MEMBER_URL, \"/health/live\")\n",
    "mem_ready = req_json(\"GET\", MEMBER_URL, \"/health/ready\")\n",
    "\n",
    "pretty_print(\"hub/live\", hub_live)\n",
    "pretty_print(\"hub/ready\", hub_ready)\n",
    "pretty_print(\"member/live\", mem_live)\n",
    "pretty_print(\"member/ready\", mem_ready)\n",
    "\n",
    "# 2) NODE STATUS\n",
    "hr(\"NODE STATUS (hub & member)\")\n",
    "hub_status = req_json(\"GET\", HUB_URL, \"/api/node/status\")\n",
    "mem_status = req_json(\"GET\", MEMBER_URL, \"/api/node/status\")\n",
    "pretty_print(\"hub status\", hub_status)\n",
    "pretty_print(\"member status\", mem_status)\n",
    "\n",
    "# 3) SUBNET NODES (from hub)\n",
    "hr(\"SUBNET /api/subnet/nodes\")\n",
    "nodes = req_json(\"GET\", HUB_URL, \"/api/subnet/nodes\")\n",
    "pretty_print(\"nodes\", nodes)\n",
    "\n",
    "# 4) (Optional) TOOL CALL to generate events & trace\n",
    "if TOOL_CALL_ENABLED:\n",
    "    hr(f\"TOOLS CALL → {TOOL_SPEC}\")\n",
    "    tool_resp = req_json(\"POST\", MEMBER_URL, \"/api/tools/call\", json={\"tool\": TOOL_SPEC, \"arguments\": TOOL_ARGS})\n",
    "    pretty_print(\"tool call response\", tool_resp)\n",
    "else:\n",
    "    hr(\"TOOLS CALL skipped (TOOL_CALL_ENABLED=False)\")\n",
    "\n",
    "# 5) OBSERVE TAIL from hub\n",
    "hr(f\"OBSERVE TAIL last {TAIL_LINES} lines (hub)\")\n",
    "tail = req_json(\"GET\", HUB_URL, f\"/api/observe/tail?lines={TAIL_LINES}\")\n",
    "lines = []\n",
    "if tail.get(\"ok\") and isinstance(tail.get(\"data\"), dict):\n",
    "    lines = tail[\"data\"].get(\"lines\") or []\n",
    "    # Optional filter by topic prefix\n",
    "    if TOPIC_FILTER:\n",
    "        keep = []\n",
    "        for ln in lines:\n",
    "            try:\n",
    "                obj = json.loads(ln)\n",
    "                if str(obj.get(\"topic\", \"\")).startswith(TOPIC_FILTER):\n",
    "                    keep.append(ln)\n",
    "            except Exception:\n",
    "                # keep raw if parsing fails and no filter\n",
    "                pass\n",
    "        lines = keep\n",
    "\n",
    "print(f\"tail lines: {len(lines)}\")\n",
    "for ln in lines:\n",
    "    print(ln)\n",
    "\n",
    "# 6) SUMMARY\n",
    "hr(\"SUMMARY\")\n",
    "summary = {\n",
    "    \"hub_ready\": hub_ready.get(\"ok\") and hub_ready.get(\"status\") == 200,\n",
    "    \"member_ready\": mem_ready.get(\"ok\") and mem_ready.get(\"status\") == 200,\n",
    "    \"nodes_seen_on_hub\": len(nodes.get(\"data\", {}).get(\"nodes\", [])) if isinstance(nodes.get(\"data\"), dict) else None,\n",
    "    \"tool_call_status\": hub_ready.get(\"status\") if not TOOL_CALL_ENABLED else (tool_resp.get(\"status\")),\n",
    "    \"tail_lines\": len(lines),\n",
    "}\n",
    "pretty_print(\"summary\", summary)"
   ]
  },
  {
   "cell_type": "code",
   "execution_count": 44,
   "id": "a334e267",
   "metadata": {},
   "outputs": [
    {
     "name": "stdout",
     "output_type": "stream",
     "text": [
      "health hub: (200, {'ok': True})\n",
      "health member: (None, {'error': \"HTTPConnectionPool(host='127.0.0.1', port=8778): Max retries exceeded with url: /health/ready (Caused by NewConnectionError('<urllib3.connection.HTTPConnection object at 0x000001D5B3B23D70>: Failed to establish a new connection: [WinError 10061] Подключение не установлено, т.к. конечный компьютер отверг запрос на подключение'))\"})\n",
      "hub status: (200, {'node_id': 'e7f6d431-9a32-4474-89f1-da6aac89ed9b', 'subnet_id': 'eb20131a-a2d6-48bb-b0ba-82add9bdd294', 'role': 'hub', 'hub_url': 'http://127.0.0.1:8777', 'ready': True})\n",
      "member status: (None, {'error': \"HTTPConnectionPool(host='127.0.0.1', port=8778): Max retries exceeded with url: /api/node/status (Caused by NewConnectionError('<urllib3.connection.HTTPConnection object at 0x000001D5B3B21B50>: Failed to establish a new connection: [WinError 10061] Подключение не установлено, т.к. конечный компьютер отверг запрос на подключение'))\"})\n",
      "hub nodes: (200, {'ok': True, 'nodes': []})\n",
      "emit test (member): (None, {'error': \"HTTPConnectionPool(host='127.0.0.1', port=8778): Max retries exceeded with url: /api/observe/test (Caused by NewConnectionError('<urllib3.connection.HTTPConnection object at 0x000001D5B3C7FB30>: Failed to establish a new connection: [WinError 10061] Подключение не установлено, т.к. конечный компьютер отверг запрос на подключение'))\"})\n",
      "tail lines: 383\n",
      "found obs.test.ping: 7\n",
      "{\n",
      "  \"ts\": 1755763274.6514368,\n",
      "  \"topic\": \"obs.test.ping\",\n",
      "  \"payload\": {\n",
      "    \"note\": \"hello\",\n",
      "    \"at\": 1755763274.6504028\n",
      "  },\n",
      "  \"trace\": \"7a89910b-a7cf-4857-983e-d223cb9490e8\",\n",
      "  \"source\": \"observe_api\",\n",
      "  \"actor\": \"diagnostics\",\n",
      "  \"node_id\": \"fe3d776d-dfcf-4eb4-9b2c-7a218f457c07\",\n",
      "  \"role\": \"member\"\n",
      "}\n"
     ]
    }
   ],
   "source": [
    "import os, json, time, requests\n",
    "\n",
    "HUB_URL = os.environ.get(\"ADAOS_HUB_URL\", \"http://127.0.0.1:8777\")\n",
    "MEMBER_URL = os.environ.get(\"ADAOS_MEMBER_URL\", \"http://127.0.0.1:8778\")\n",
    "TOKEN = os.environ.get(\"ADAOS_TOKEN\", \"dev-local-token\")\n",
    "\n",
    "HEADERS = {\"X-AdaOS-Token\": TOKEN, \"Content-Type\": \"application/json\"}\n",
    "\n",
    "\n",
    "def call(method, base, path, **kw):\n",
    "    url = base.rstrip(\"/\") + path\n",
    "    try:\n",
    "        r = requests.request(method, url, headers=HEADERS, timeout=5, **kw)\n",
    "        try:\n",
    "            data = r.json()\n",
    "        except Exception:\n",
    "            data = {\"_raw\": r.text}\n",
    "        return r.status_code, data\n",
    "    except Exception as e:\n",
    "        return None, {\"error\": str(e)}\n",
    "\n",
    "\n",
    "print(\"health hub:\", call(\"GET\", HUB_URL, \"/health/ready\"))\n",
    "print(\"health member:\", call(\"GET\", MEMBER_URL, \"/health/ready\"))\n",
    "print(\"hub status:\", call(\"GET\", HUB_URL, \"/api/node/status\"))\n",
    "print(\"member status:\", call(\"GET\", MEMBER_URL, \"/api/node/status\"))\n",
    "print(\"hub nodes:\", call(\"GET\", HUB_URL, \"/api/subnet/nodes\"))\n",
    "\n",
    "# генерируем тестовое событие на member → оно попадёт в локальный лог и уйдёт батчем на hub\n",
    "print(\"emit test (member):\", call(\"POST\", MEMBER_URL, \"/api/observe/test\", json={\"kind\": \"ping\", \"note\": \"from-notebook\"}))\n",
    "\n",
    "# даём время батчеру переслать\n",
    "time.sleep(2.0)\n",
    "\n",
    "# хвост логов с hub\n",
    "status, tail = call(\"GET\", HUB_URL, \"/api/observe/tail?lines=1000\")\n",
    "lines = tail.get(\"lines\") or []\n",
    "print(\"tail lines:\", len(lines))\n",
    "\n",
    "# фильтруем по нашему тестовому топику\n",
    "obs = []\n",
    "for ln in lines:\n",
    "    try:\n",
    "        evt = json.loads(ln)\n",
    "        if evt.get(\"topic\") == \"obs.test.ping\":\n",
    "            obs.append(evt)\n",
    "    except Exception:\n",
    "        pass\n",
    "\n",
    "print(\"found obs.test.ping:\", len(obs))\n",
    "if obs:\n",
    "    print(json.dumps(obs[-1], ensure_ascii=False, indent=2))"
   ]
  },
  {
   "cell_type": "code",
   "execution_count": 93,
   "id": "a3ebde64",
   "metadata": {},
   "outputs": [
    {
     "name": "stdout",
     "output_type": "stream",
     "text": [
      "{\"ok\":true,\"topic\":\"obs.test.ping\",\"payload\":{\"note\":\"hello\",\"at\":1755762890.3656685}}\n"
     ]
    },
    {
     "name": "stderr",
     "output_type": "stream",
     "text": [
      "  % Total    % Received % Xferd  Average Speed   Time    Time     Time  Current\n",
      "                                 Dload  Upload   Total   Spent    Left  Speed\n",
      "\n",
      "  0     0    0     0    0     0      0      0 --:--:-- --:--:-- --:--:--     0\n",
      "100    86  100    86    0     0   7972      0 --:--:-- --:--:-- --:--:--  8600\n"
     ]
    }
   ],
   "source": [
    "!curl -H \"X-AdaOS-Token: dev-local-token\" -X POST http://127.0.0.1:8777/api/observe/test"
   ]
  },
  {
   "cell_type": "code",
   "execution_count": 47,
   "id": "2be23171",
   "metadata": {},
   "outputs": [
    {
     "name": "stdout",
     "output_type": "stream",
     "text": [
      "Clean project tree at C:\\git\\MUIV\\adaos\\src\\adaos\\sdk:\n",
      "- descriptions\n",
      "- llm\n",
      "- skills\n",
      "- utils\n",
      "- validation\n"
     ]
    }
   ],
   "source": [
    "from pathlib import Path\n",
    "\n",
    "IMPORTANT = {\"src\", \"adaos\", \"tests\", \"docs\"}\n",
    "\n",
    "\n",
    "def list_clean_tree(root=\".\"):\n",
    "    root_path = Path(root).resolve()\n",
    "\n",
    "    def walk(path: Path, depth=0, max_depth=4):\n",
    "        if depth > max_depth:\n",
    "            return\n",
    "        for p in sorted(path.iterdir()):\n",
    "            if p.is_dir() and not p.name.startswith((\".\", \"__\")) and \"egg-info\" not in p.name:\n",
    "                rel = p.relative_to(root_path)\n",
    "                if any(part in IMPORTANT for part in rel.parts) or depth == 0:\n",
    "                    print(\"  \" * depth + f\"- {rel}\")\n",
    "                walk(p, depth + 1, max_depth)\n",
    "\n",
    "    print(f\"Clean project tree at {root_path}:\")\n",
    "    walk(root_path)\n",
    "\n",
    "\n",
    "if __name__ == \"__main__\":\n",
    "    list_clean_tree(\"c:/git/MUIV/adaos/src/adaos/sdk\")"
   ]
  },
  {
   "cell_type": "code",
   "execution_count": null,
   "id": "7110c90e",
   "metadata": {},
   "outputs": [
    {
     "name": "stdout",
     "output_type": "stream",
     "text": [
      "Clean project tree at C:\\git\\MUIV\\adaos\\src\\adaos\\sdk:\n",
      "  bus.py\n",
      "  context.py\n",
      "  decorators.py\n",
      "- descriptions\n",
      "  env.py\n",
      "  errors.py\n",
      "  exporter.py\n",
      "  i18n.py\n",
      "- llm\n",
      "  scenario_service.py\n",
      "  scheduler.py\n",
      "  skill_api.py\n",
      "  skill_env.py\n",
      "  skill_memory.py\n",
      "  skill_service.py\n",
      "- skills\n",
      "  types.py\n",
      "- utils\n",
      "- validation\n"
     ]
    }
   ],
   "source": [
    "from pathlib import Path\n",
    "\n",
    "IMPORTANT = {\"src\", \"adaos\", \"tests\", \"docs\"}\n",
    "\n",
    "\n",
    "def list_clean_tree(root=\".\", include_files: bool = False, max_depth: int = 4):\n",
    "    \"\"\"\n",
    "    Печатает дерево проекта. По умолчанию выводит только папки.\n",
    "    Если include_files=True, дополнительно выводит файлы.\n",
    "    Правило отбора такое же, как было: на глубине 0 показываем всё;\n",
    "    глубже — только если в относительном пути встретится один из IMPORTANT.\n",
    "    \"\"\"\n",
    "    root_path = Path(root).resolve()\n",
    "\n",
    "    def should_print(rel_parts: tuple[str, ...], is_dir: bool, depth: int) -> bool:\n",
    "        if depth == 0:\n",
    "            return True\n",
    "        parts_to_check = rel_parts if is_dir else rel_parts[:-1]  # для файла проверяем только родительские папки\n",
    "        return any(part in IMPORTANT for part in parts_to_check)\n",
    "\n",
    "    def walk(path: Path, depth: int = 0):\n",
    "        if depth > max_depth:\n",
    "            return\n",
    "        for p in sorted(path.iterdir()):\n",
    "            name = p.name\n",
    "            if name.startswith((\".\", \"__\")) or \"egg-info\" in name:\n",
    "                continue\n",
    "\n",
    "            rel = p.relative_to(root_path)\n",
    "\n",
    "            if p.is_dir():\n",
    "                if should_print(rel.parts, is_dir=True, depth=depth):\n",
    "                    print(\"  \" * depth + f\"- {rel}\")\n",
    "                walk(p, depth + 1)\n",
    "            elif include_files and p.is_file():\n",
    "                if should_print(rel.parts, is_dir=False, depth=depth):\n",
    "                    print(\"  \" * depth + f\"  {rel}\")\n",
    "\n",
    "    print(f\"Clean project tree at {root_path}:\")\n",
    "    walk(root_path)\n",
    "\n",
    "\n",
    "if __name__ == \"__main__\":\n",
    "    # пример: показать и каталоги, и файлы\n",
    "    list_clean_tree(\"c:/git/MUIV/adaos/src/adaos/sdk\", include_files=True)"
   ]
  },
  {
   "cell_type": "markdown",
   "id": "c012f42c",
   "metadata": {},
   "source": [
    "# Scenarios"
   ]
  },
  {
   "cell_type": "code",
   "execution_count": null,
   "id": "8450009f",
   "metadata": {},
   "outputs": [],
   "source": [
    "import requests\n",
    "\n",
    "H = {\"X-AdaOS-Token\": \"dev-local-token\"}"
   ]
  },
  {
   "cell_type": "code",
   "execution_count": null,
   "id": "ff1f31a3",
   "metadata": {},
   "outputs": [
    {
     "name": "stdout",
     "output_type": "stream",
     "text": [
      "200 {\"ok\":true,\"path\":\"C:\\\\git\\\\MUIV\\\\adaos\\\\.adaos\\\\scenarios\\\\introduction\\\\scenario.json\"}\n"
     ]
    }
   ],
   "source": [
    "r = requests.post(\n",
    "    \"http://127.0.0.1:8777/api/scenarios/create\",\n",
    "    json={\"id\": \"introduction\", \"template\": \"template\"},\n",
    "    headers=H,\n",
    ")\n",
    "print(r.status_code, r.text)"
   ]
  },
  {
   "cell_type": "code",
   "execution_count": null,
   "id": "677dc36b",
   "metadata": {},
   "outputs": [
    {
     "data": {
      "text/plain": [
       "{'ok': True,\n",
       " 'path': 'C:\\\\git\\\\MUIV\\\\adaos\\\\.adaos\\\\scenarios\\\\morning\\\\scenario.json'}"
      ]
     },
     "execution_count": 54,
     "metadata": {},
     "output_type": "execute_result"
    }
   ],
   "source": [
    "# установить сценарий из репо\n",
    "requests.post(\"http://127.0.0.1:8777/api/scenarios/update_repo/morning\", json={\"ref\": \"main\"}, headers=H).json()"
   ]
  },
  {
   "cell_type": "code",
   "execution_count": 86,
   "id": "25e8b582",
   "metadata": {},
   "outputs": [
    {
     "data": {
      "text/plain": [
       "{'ok': True,\n",
       " 'message': \"[green]scenario 'morning' pulled[/green] (version: 0.1.0)\"}"
      ]
     },
     "execution_count": 86,
     "metadata": {},
     "output_type": "execute_result"
    }
   ],
   "source": [
    "# пуш изменений сценария\n",
    "requests.post(\"http://127.0.0.1:8777/api/scenarios/install/morning\", json={\"message\": \"tune morning flow\"}, headers=H).json()"
   ]
  },
  {
   "cell_type": "code",
   "execution_count": null,
   "id": "a428616b",
   "metadata": {},
   "outputs": [
    {
     "data": {
      "text/plain": [
       "{'ok': True,\n",
       " 'message': \"[green]scenario 'morning' pushed[/green] (version: 0.1.0)\"}"
      ]
     },
     "execution_count": 53,
     "metadata": {},
     "output_type": "execute_result"
    }
   ],
   "source": [
    "# пуш изменений сценария\n",
    "requests.post(\"http://127.0.0.1:8777/api/scenarios/push/morning\", json={\"message\": \"tune morning flow\"}, headers=H).json()"
   ]
  },
  {
   "cell_type": "code",
   "execution_count": 85,
   "id": "fa0c9139",
   "metadata": {},
   "outputs": [
    {
     "data": {
      "text/plain": [
       "{'ok': True, 'message': \"[green]scenario 'morning' uninstalled[/green]\"}"
      ]
     },
     "execution_count": 85,
     "metadata": {},
     "output_type": "execute_result"
    }
   ],
   "source": [
    "requests.post(\"http://127.0.0.1:8777/api/scenarios/uninstall/morning\", headers=H).json()"
   ]
  },
  {
   "cell_type": "code",
   "execution_count": 87,
   "id": "e8462649",
   "metadata": {},
   "outputs": [
    {
     "data": {
      "text/plain": [
       "{'items': [{'id': 'template-id',\n",
       "   'name': 'New Scenario',\n",
       "   'version': '0.1.0',\n",
       "   'path': 'C:\\\\git\\\\MUIV\\\\adaos\\\\.adaos\\\\scenarios\\\\morning\\\\scenario.json',\n",
       "   'meta': None}]}"
      ]
     },
     "execution_count": 87,
     "metadata": {},
     "output_type": "execute_result"
    }
   ],
   "source": [
    "requests.get(\"http://127.0.0.1:8777/api/scenarios/list\", headers=H).json()"
   ]
  }
 ],
 "metadata": {
  "kernelspec": {
   "display_name": ".venv",
   "language": "python",
   "name": "python3"
  },
  "language_info": {
   "codemirror_mode": {
    "name": "ipython",
    "version": 3
   },
   "file_extension": ".py",
   "mimetype": "text/x-python",
   "name": "python",
   "nbconvert_exporter": "python",
   "pygments_lexer": "ipython3",
   "version": "3.12.0"
  }
 },
 "nbformat": 4,
 "nbformat_minor": 5
}
